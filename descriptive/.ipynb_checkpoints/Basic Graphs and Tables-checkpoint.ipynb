{
 "cells": [
  {
   "cell_type": "markdown",
   "metadata": {},
   "source": [
    "**[Back to Fan's Intro Stat Table of Content](https://fanwangecon.github.io/Stat4Econ/)**\n",
    "\n",
    "\n",
    "# Single Variable\n",
    "\n",
    "From a dataset, such as the in-class survey, there are various columns, each representing a different variable. We can zoom-in on each of the variables, and focus on that only. \n",
    "\n",
    "## Categorical/Discrete\n",
    " \n",
    "Categorical variables, such as Major, Gender, Recent arrival or not, etc, we can generate frequency tables. \n",
    "\n",
    "The frequency table simply shows in separate columns (or rows) the name for all the categories for that categorical variable, and show next to these categories that number of times that category appears in the dataset. This is called a frequency table. So if we show a one-way frequency for majors, there would be four rows for the four unique majors from our survey of 10 students, and we would write down the number of students in each of the majors out of the 10 students. \n",
    "\n",
    "Rather than showing frequencies, we can also show ratios or percentages by dividing the number of observations in each category by the total number of observations in the survey.\n",
    "\n",
    "Graphically, we can show the results from these one-way frequency tables using bar charts and pie charts. The bar charts would have separate bars for each category, and the heights of the bars would show the number of observations in that category, or the fraction of individuals in the categorical. The relative heights of bars are the same whether we show the frequencies or the fractions/ratios. A pie chart might give a more direct visual sense of the fraction of observations in each category. \n",
    "\n",
    "## Continuous/Quantitative\n",
    "\n",
    "Graphically, we can show a continuous variable using a histogram. This could be test scores, temperatures, years in houston, etc. This involves first creating a categorical/discrete variable based on the continuous variable. Since the underlying continuous variable is ordered (low to high temperature unless major which is not ordered), the categorica/discrete variable we generate is an ordered categorical variable (majors could be called unordered categorical variable). \n",
    "\n",
    "To genereate the histogram, we:\n",
    "1. Make sure that all observations belongs to one category\n",
    "    + no observations belonging to no categories\n",
    "    + each observation only belongs to one category\n",
    "2. Each category is equi-distance along the continuous variable's original scale. \n",
    "3. Then we create a bar graph where each bar is a category, and the height of the bar represents the number of observations within that category. \n",
    "\n",
    "\n",
    "# Two Variables Together\n",
    "\n",
    "## Two Continuous Variables\n",
    "\n",
    "With two continuous/quantitative variables, we can generate a scatter plot. Crucially, each point of the scatter plot represents one individual, the location of that point indicates the x and y values of that individual. The x and y values could be the individual's test score and hours studied for example. \n",
    "\n",
    "## Two Categorical Variables\n",
    "With two discrete/categorical variables, we can generate two-way frequency tables. This is very similar to what we did for one discrete variable, except now we have columns and rows, representing the categories of the two variables. The two variables could be gender and majors, we would write in each table cell the number of students who are male and econ majors, male and bio majors in for example the first column, and repeat this for girls in the second column. \n",
    "\n",
    "\n"
   ]
  },
  {
   "cell_type": "code",
   "execution_count": null,
   "metadata": {},
   "outputs": [],
   "source": []
  }
 ],
 "metadata": {
  "kernelspec": {
   "display_name": "R",
   "language": "R",
   "name": "ir"
  },
  "language_info": {
   "codemirror_mode": "r",
   "file_extension": ".r",
   "mimetype": "text/x-r-source",
   "name": "R",
   "pygments_lexer": "r",
   "version": "3.5.1"
  }
 },
 "nbformat": 4,
 "nbformat_minor": 2
}
