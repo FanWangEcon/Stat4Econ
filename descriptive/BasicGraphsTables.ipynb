{
 "cells": [
  {
   "cell_type": "markdown",
   "metadata": {},
   "source": [
    "**[Back to Fan's Intro Stat Table of Content](https://fanwangecon.github.io/Stat4Econ/)**\n",
    "\n",
    "# Basic Graphs and Tables\n",
    "\n",
    "## Load Packages and Data\n",
    "\n",
    "### Packages\n",
    "\n",
    "We will continue to rely on various [tidyverse](https://www.tidyverse.org/). Now including: [ggplot](https://ggplot2.tidyverse.org/reference/ggplot.html), [readr](https://readr.tidyverse.org/), along with [dplyr](https://dplyr.tidyverse.org/) and [tibble](https://tibble.tidyverse.org/), which we used for the [in-class survey](https://fanwangecon.github.io/Stat4Econ/survey/classsurvey.html) already."
   ]
  },
  {
   "cell_type": "code",
   "execution_count": 53,
   "metadata": {},
   "outputs": [],
   "source": [
    "# For Data Structures\n",
    "library(tibble)\n",
    "# For Data Manipulations\n",
    "library(dplyr)\n",
    "# For Reading/Loading Data\n",
    "library(readr)\n",
    "# For plotting\n",
    "library(ggplot2)"
   ]
  },
  {
   "cell_type": "markdown",
   "metadata": {},
   "source": [
    "### Load File\n",
    "Let's load in the dataset we created from the [in-class survey](https://fanwangecon.github.io/Stat4Econ/survey/classsurvey.html)."
   ]
  },
  {
   "cell_type": "code",
   "execution_count": 54,
   "metadata": {},
   "outputs": [
    {
     "name": "stderr",
     "output_type": "stream",
     "text": [
      "Parsed with column specification:\n",
      "cols(\n",
      "  ID = col_double(),\n",
      "  ROW = col_double(),\n",
      "  COL = col_double(),\n",
      "  gender = col_character(),\n",
      "  years.in.houston = col_double(),\n",
      "  major = col_character(),\n",
      "  commute = col_character(),\n",
      "  games.attended = col_double(),\n",
      "  games.any = col_character(),\n",
      "  econ = col_character()\n",
      ")\n"
     ]
    }
   ],
   "source": [
    "# Load the dataset using readr's read_csv\n",
    "df_survey <- read_csv('../data/classsurvey.csv')"
   ]
  },
  {
   "cell_type": "code",
   "execution_count": 55,
   "metadata": {},
   "outputs": [
    {
     "name": "stdout",
     "output_type": "stream",
     "text": [
      "Classes 'tbl_df', 'tbl' and 'data.frame':\t10 obs. of  10 variables:\n",
      " $ ID              : num  1 2 3 4 5 6 7 8 9 10\n",
      " $ ROW             : num  3 4 4 4 2 1 2 3 3 4\n",
      " $ COL             : num  1 2 10 1 6 7 6 6 3 13\n",
      " $ gender          : Factor w/ 2 levels \"FEMALE\",\"MALE\": 2 1 2 2 1 2 2 2 1 1\n",
      " $ years.in.houston: num  21 21 22 22 20 3 25 20 5 20\n",
      " $ major           : Factor w/ 5 levels \"CONSUMERSCIENCE\",..: 2 3 2 2 2 5 2 1 4 2\n",
      " $ commute         : Factor w/ 1 level \"YES\": 1 1 1 1 1 1 1 1 1 1\n",
      " $ games.attended  : num  0 2 0 14 0 0 25 2 0 0\n",
      " $ games.any       : Factor w/ 2 levels \"Has.Attended\",..: 2 1 2 1 2 2 1 1 2 2\n",
      " $ econ            : Factor w/ 2 levels \"ECON\",\"Not.Econ\": 1 2 1 1 1 2 1 2 2 1\n",
      " - attr(*, \"spec\")=\n",
      "  .. cols(\n",
      "  ..   ID = col_double(),\n",
      "  ..   ROW = col_double(),\n",
      "  ..   COL = col_double(),\n",
      "  ..   gender = col_character(),\n",
      "  ..   years.in.houston = col_double(),\n",
      "  ..   major = col_character(),\n",
      "  ..   commute = col_character(),\n",
      "  ..   games.attended = col_double(),\n",
      "  ..   games.any = col_character(),\n",
      "  ..   econ = col_character()\n",
      "  .. )\n"
     ]
    }
   ],
   "source": [
    "# We have several factor variables, we can set them as factor one by one\n",
    "df_survey[['gender']] <- as.factor(df_survey[['gender']])\n",
    "# But that is a little cumbersome, we can using lapply, a core function in r to do this for all factors\n",
    "factor_col_names <- c('gender', 'major', 'commute', 'games.any', 'econ')\n",
    "df_survey[factor_col_names] <- lapply(df_survey[factor_col_names], as.factor)\n",
    "# Check Variable Types\n",
    "str(df_survey)"
   ]
  },
  {
   "cell_type": "markdown",
   "metadata": {},
   "source": [
    "# Single Variable\n",
    "\n",
    "From a dataset, such as the in-class survey, there are various columns, each representing a different variable. We can zoom-in on each of the variables, and focus on that only. \n",
    "\n",
    "## Categorical/Discrete\n",
    " \n",
    "Categorical variables, such as Major, Gender, Recent arrival or not, etc, we can generate frequency tables. \n",
    "\n",
    "The frequency table simply shows in separate columns (or rows) the name for all the categories for that categorical variable, and show next to these categories that number of times that category appears in the dataset. This is called a frequency table. So if we show a one-way frequency for majors, there would be four rows for the four unique majors from our survey of 10 students, and we would write down the number of students in each of the majors out of the 10 students. \n",
    "\n",
    "Rather than showing frequencies, we can also show ratios or percentages by dividing the number of observations in each category by the total number of observations in the survey.\n",
    "\n",
    "Graphically, we can show the results from these one-way frequency tables using bar charts and pie charts. The bar charts would have separate bars for each category, and the heights of the bars would show the number of observations in that category, or the fraction of individuals in the categorical. The relative heights of bars are the same whether we show the frequencies or the fractions/ratios. A pie chart might give a more direct visual sense of the fraction of observations in each category. "
   ]
  },
  {
   "cell_type": "markdown",
   "metadata": {},
   "source": [
    "## Continuous/Quantitative\n",
    "\n",
    "Graphically, we can show a continuous variable using a histogram. This could be test scores, temperatures, years in houston, etc. This involves first creating a categorical/discrete variable based on the continuous variable. Since the underlying continuous variable is ordered (low to high temperature unless major which is not ordered), the categorica/discrete variable we generate is an ordered categorical variable (majors could be called unordered categorical variable). \n",
    "\n",
    "To genereate the histogram, we:\n",
    "1. Make sure that all observations belongs to one category\n",
    "    + no observations belonging to no categories\n",
    "    + each observation only belongs to one category\n",
    "2. Each category is equi-distance along the continuous variable's original scale. \n",
    "3. Then we create a bar graph where each bar is a category, and the height of the bar represents the number of observations within that category. "
   ]
  },
  {
   "cell_type": "markdown",
   "metadata": {},
   "source": [
    "# Two Variables Together\n",
    "\n",
    "## Two Continuous Variables\n",
    "\n",
    "With two continuous/quantitative variables, we can generate a scatter plot. Crucially, each point of the scatter plot represents one individual, the location of that point indicates the x and y values of that individual. The x and y values could be the individual's test score and hours studied for example. "
   ]
  },
  {
   "cell_type": "markdown",
   "metadata": {},
   "source": [
    "## Two Categorical Variables\n",
    "With two discrete/categorical variables, we can generate two-way frequency tables. This is very similar to what we did for one discrete variable, except now we have columns and rows, representing the categories of the two variables. The two variables could be gender and majors, we would write in each table cell the number of students who are male and econ majors, male and bio majors in for example the first column, and repeat this for girls in the second column. "
   ]
  },
  {
   "cell_type": "markdown",
   "metadata": {},
   "source": [
    "## Continuous and Categorical Variable\n",
    "\n",
    "### Average Across Groups\n",
    "We can look at the average game attendance by female and male students in our sample, using a bar plot, where the height of the bars now represent the average of the *games.attended* variable for each group."
   ]
  },
  {
   "cell_type": "code",
   "execution_count": 56,
   "metadata": {},
   "outputs": [
    {
     "data": {
      "text/html": [
       "<table>\n",
       "<thead><tr><th scope=col>gender</th><th scope=col>avg.games.attended</th></tr></thead>\n",
       "<tbody>\n",
       "\t<tr><td>FEMALE  </td><td>0.500000</td></tr>\n",
       "\t<tr><td>MALE    </td><td>6.833333</td></tr>\n",
       "</tbody>\n",
       "</table>\n"
      ],
      "text/latex": [
       "\\begin{tabular}{r|ll}\n",
       " gender & avg.games.attended\\\\\n",
       "\\hline\n",
       "\t FEMALE   & 0.500000\\\\\n",
       "\t MALE     & 6.833333\\\\\n",
       "\\end{tabular}\n"
      ],
      "text/markdown": [
       "\n",
       "gender | avg.games.attended | \n",
       "|---|---|\n",
       "| FEMALE   | 0.500000 | \n",
       "| MALE     | 6.833333 | \n",
       "\n",
       "\n"
      ],
      "text/plain": [
       "  gender avg.games.attended\n",
       "1 FEMALE 0.500000          \n",
       "2 MALE   6.833333          "
      ]
     },
     "metadata": {},
     "output_type": "display_data"
    }
   ],
   "source": [
    "# We can first find the group averages\n",
    "df_gender_avg_games <- df_survey %>%\n",
    "                        group_by(gender) %>%\n",
    "                        summarise (avg.games.attended = mean(games.attended)) \n",
    "df_gender_avg_games"
   ]
  },
  {
   "cell_type": "code",
   "execution_count": 57,
   "metadata": {},
   "outputs": [
    {
     "data": {},
     "metadata": {},
     "output_type": "display_data"
    },
    {
     "data": {
      "image/png": "[encoded data removed]",
      "text/plain": [
       "plot without title"
      ]
     },
     "metadata": {},
     "output_type": "display_data"
    }
   ],
   "source": [
    "# We can graph based on df_gender_avg_games\n",
    "# Sizing the Figure Here\n",
    "options(repr.plot.width = 2, repr.plot.height = 2)\n",
    "# Plot, stat = identity means to plot the value in avg.games.attended for each gender\n",
    "ggplot(df_gender_avg_games) + \n",
    "    geom_bar(aes(x=gender, y=avg.games.attended), stat = 'identity') + \n",
    "    theme_bw()"
   ]
  },
  {
   "cell_type": "code",
   "execution_count": 58,
   "metadata": {},
   "outputs": [
    {
     "data": {},
     "metadata": {},
     "output_type": "display_data"
    },
    {
     "data": {
      "image/png": "[encoded data removed]",
      "text/plain": [
       "plot without title"
      ]
     },
     "metadata": {},
     "output_type": "display_data"
    }
   ],
   "source": [
    "# But it is a little cumbersome to do this in two steps, we can do it in one step\n",
    "# Sizing the Figure Here\n",
    "options(repr.plot.width = 2, repr.plot.height = 2)\n",
    "# Plot directly from df_survey, summary over x for y\n",
    "# The result looks the same\n",
    "ggplot(df_survey) + \n",
    "    geom_bar(aes(x=gender, y=games.attended), stat = \"summary\", fun.y = \"mean\") + \n",
    "    theme_bw()"
   ]
  },
  {
   "cell_type": "markdown",
   "metadata": {},
   "source": [
    "### Average Across Two Groups: Gender and Majors\n",
    "What is the average game attendance for male and female, econ and non-econ majors? We have 2 female eocn majors, 2 female non-econ majors, 4 male econ majors and 2 male non-econ majors, and their average game attendance are: 0, 1, 9.75 and 1 games. "
   ]
  },
  {
   "cell_type": "code",
   "execution_count": 59,
   "metadata": {},
   "outputs": [
    {
     "data": {
      "text/html": [
       "<table>\n",
       "<thead><tr><th scope=col>gender</th><th scope=col>econ</th><th scope=col>avg.games.attended</th><th scope=col>N.count</th></tr></thead>\n",
       "<tbody>\n",
       "\t<tr><td>FEMALE  </td><td>ECON    </td><td>0.00    </td><td>2       </td></tr>\n",
       "\t<tr><td>FEMALE  </td><td>Not.Econ</td><td>1.00    </td><td>2       </td></tr>\n",
       "\t<tr><td>MALE    </td><td>ECON    </td><td>9.75    </td><td>4       </td></tr>\n",
       "\t<tr><td>MALE    </td><td>Not.Econ</td><td>1.00    </td><td>2       </td></tr>\n",
       "</tbody>\n",
       "</table>\n"
      ],
      "text/latex": [
       "\\begin{tabular}{r|llll}\n",
       " gender & econ & avg.games.attended & N.count\\\\\n",
       "\\hline\n",
       "\t FEMALE   & ECON     & 0.00     & 2       \\\\\n",
       "\t FEMALE   & Not.Econ & 1.00     & 2       \\\\\n",
       "\t MALE     & ECON     & 9.75     & 4       \\\\\n",
       "\t MALE     & Not.Econ & 1.00     & 2       \\\\\n",
       "\\end{tabular}\n"
      ],
      "text/markdown": [
       "\n",
       "gender | econ | avg.games.attended | N.count | \n",
       "|---|---|---|---|\n",
       "| FEMALE   | ECON     | 0.00     | 2        | \n",
       "| FEMALE   | Not.Econ | 1.00     | 2        | \n",
       "| MALE     | ECON     | 9.75     | 4        | \n",
       "| MALE     | Not.Econ | 1.00     | 2        | \n",
       "\n",
       "\n"
      ],
      "text/plain": [
       "  gender econ     avg.games.attended N.count\n",
       "1 FEMALE ECON     0.00               2      \n",
       "2 FEMALE Not.Econ 1.00               2      \n",
       "3 MALE   ECON     9.75               4      \n",
       "4 MALE   Not.Econ 1.00               2      "
      ]
     },
     "metadata": {},
     "output_type": "display_data"
    }
   ],
   "source": [
    "# We can calculate the statistics as a table, and also show obs in each group\n",
    "df_survey %>%\n",
    "    group_by(gender, econ ) %>%\n",
    "    summarise (avg.games.attended = mean(games.attended), N.count = n()) "
   ]
  },
  {
   "cell_type": "code",
   "execution_count": 60,
   "metadata": {},
   "outputs": [
    {
     "data": {},
     "metadata": {},
     "output_type": "display_data"
    },
    {
     "data": {
      "image/png": "[encoded data removed]",
      "text/plain": [
       "plot without title"
      ]
     },
     "metadata": {},
     "output_type": "display_data"
    }
   ],
   "source": [
    "# Let's Show these Visually\n",
    "options(repr.plot.width = 5, repr.plot.height = 3)\n",
    "# Plot directly from df_survey\n",
    "# Using fill for econ, this means econ or not will fill up with different colors\n",
    "# Still caculate average\n",
    "# Postion \"dodge\" means that econ and non-econ wil be shown next to each other\n",
    "# By default position is to stack different fill groups on top of each other.\n",
    "ggplot(df_survey) + \n",
    "    geom_bar(aes(x=gender, y=games.attended, fill=econ),\n",
    "             stat = \"summary\", fun.y = \"mean\", position = \"dodge\") + \n",
    "    theme_bw()"
   ]
  }
 ],
 "metadata": {
  "kernelspec": {
   "display_name": "R",
   "language": "R",
   "name": "ir"
  },
  "language_info": {
   "codemirror_mode": "r",
   "file_extension": ".r",
   "mimetype": "text/x-r-source",
   "name": "R",
   "pygments_lexer": "r",
   "version": "3.5.1"
  }
 },
 "nbformat": 4,
 "nbformat_minor": 2
}
