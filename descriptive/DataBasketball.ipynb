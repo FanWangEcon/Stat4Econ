{
 "cells": [
  {
   "cell_type": "markdown",
   "metadata": {},
   "source": [
    "**[Back to Fan's Intro Stat Table of Content](https://fanwangecon.github.io/Stat4Econ/)**\n",
    "\n",
    "# A Dataset on Basketball\n",
    "\n",
    "We have a dataset on basketball teams.\n",
    "\n",
    "**The dataset, *Basketball.csv*, can be downloaded [here](../data/Basketball.csv).**\n",
    "\n",
    "We will load in the dataset and do some analysis with it. "
   ]
  },
  {
   "cell_type": "markdown",
   "metadata": {},
   "source": [
    "## What is in the Dataset\n",
    "\n",
    "### Paths to Data\n",
    "#### Relative Path\n",
    "The dataset is stored in a csv file. The folder structure for this file we are working inside and the data file is:\n",
    "\n",
    "- main folder: Stat4Econ\n",
    "    + subfolder: data\n",
    "        * file: Basketball.csv\n",
    "    + subfolder: descriptive\n",
    "        * file: DataBasketball.ipynb (the jupyter notebook file)\n",
    "        * file: DataBasetball.html (the html version of the jupyter notebook file\n",
    " \n",
    "overall this means:\n",
    "- the csv file's location is: **'/Stat4Econ/data/Basketball.csv'**\n",
    "- the working R code file's location is: **'/Stat4Econ/descriptive/DataBasketball.ipynb'**\n",
    "\n",
    "Given this structure, to access the *Basketball.csv* dataset, we need to go one folder up from our current subfolder to the mainfolder, and then choose the data subfolder, and the Basketball.csv file in the subfolder. \n",
    "\n",
    "#### Absolute Path\n",
    "If these files are not in the same main folder but are in different locations on your computer, you can find the full path to the csv path and copy paste the path below in between the single quotes.\n",
    "\n",
    "search on google to find out how to get the full path to file:\n",
    "- google search for [find full path for file on mac](https://www.google.com/search?q=find+full+path+for+file+on+mac)\n",
    "    + this might end up looking like: **'/Users/fan/Downloads/Basketball.csv'**    \n",
    "- google search for [find full path for file on PC](https://www.google.com/search?q=find+full+path+for+file+on+mac)\n",
    "    + this might end up looking like: **'C:/Users/fan/Documents/Dropbox/Basketball.csv'**\n",
    "    "
   ]
  },
  {
   "cell_type": "markdown",
   "metadata": {},
   "source": [
    "### Using Relative path to load in data\n",
    "\n",
    "We will load in the data using base R read.csv function.\n",
    "\n",
    "- For what the variables mean, see [here](https://en.wikipedia.org/wiki/Basketball_statistics)\n",
    "- For what NBA team names correspond to, see [here](https://en.wikipedia.org/w/index.php?title=Wikipedia:WikiProject_National_Basketball_Association/National_Basketball_Association_team_abbreviations)."
   ]
  },
  {
   "cell_type": "code",
   "execution_count": 4,
   "metadata": {},
   "outputs": [],
   "source": [
    "# We can load the dataset in first by setting our directory, then loading in the dataset\n",
    "setwd('../data/')\n",
    "basetball_data <- read.csv('Basketball.csv')"
   ]
  },
  {
   "cell_type": "code",
   "execution_count": 5,
   "metadata": {},
   "outputs": [],
   "source": [
    "# Alternatively, we can just use one line\n",
    "basetball_data <- read.csv('../data/Basketball.csv')"
   ]
  },
  {
   "cell_type": "code",
   "execution_count": 6,
   "metadata": {},
   "outputs": [
    {
     "data": {
      "text/plain": [
       "        ilkid            year        firstname         lastname    \n",
       " WILLIKE01 :   27   Min.   :1946   John   :  502   Williams:  441  \n",
       " EDWARJA01 :   25   1st Qu.:1974   Bob    :  404   Johnson :  400  \n",
       " CORBITY01 :   24   Median :1988   Mike   :  395   Smith   :  317  \n",
       " JACKSJI01 :   24   Mean   :1986   Jim    :  344   Jones   :  298  \n",
       " CASSESA01 :   23   3rd Qu.:1999   Chris  :  267   Davis   :  254  \n",
       " MALONMO01 :   23   Max.   :2009   Tom    :  260   Brown   :  209  \n",
       " (Other)   :21813                  (Other):19787   (Other) :20040  \n",
       "      team       leag            gp           minutes            pts        \n",
       " TOT    : 1611   A: 1247   Min.   : 1.00   Min.   :   0.0   Min.   :   0.0  \n",
       " NYK    :  947   N:20712   1st Qu.:29.00   1st Qu.: 275.5   1st Qu.: 113.0  \n",
       " BOS    :  919             Median :60.00   Median :1038.0   Median : 386.0  \n",
       " DET    :  799             Mean   :51.91   Mean   :1204.1   Mean   : 531.1  \n",
       " PHI    :  736             3rd Qu.:76.00   3rd Qu.:2009.0   3rd Qu.: 811.0  \n",
       " LAL    :  712             Max.   :90.00   Max.   :3882.0   Max.   :4029.0  \n",
       " (Other):16235                                                              \n",
       "      oreb             dreb             reb              asts       \n",
       " Min.   :  0.00   Min.   :   0.0   Min.   :   0.0   Min.   :   0.0  \n",
       " 1st Qu.:  0.00   1st Qu.:   1.0   1st Qu.:  44.0   1st Qu.:  20.0  \n",
       " Median : 22.00   Median :  60.0   Median : 160.0   Median :  71.0  \n",
       " Mean   : 49.79   Mean   : 117.8   Mean   : 229.7   Mean   : 118.1  \n",
       " 3rd Qu.: 75.00   3rd Qu.: 180.0   3rd Qu.: 333.0   3rd Qu.: 167.0  \n",
       " Max.   :587.00   Max.   :1538.0   Max.   :2149.0   Max.   :1164.0  \n",
       "                                                                    \n",
       "      stl             blk           turnover           pf       \n",
       " 0      : 5939   0      : 6855   0      : 5696   Min.   :  0.0  \n",
       " 1      :  607   1      : 1126   1      :  349   1st Qu.: 43.0  \n",
       " 2      :  479   2      :  860   2      :  347   Median :118.0  \n",
       " 3      :  445   3      :  754   NULL   :  294   Mean   :123.6  \n",
       " 5      :  345   4      :  647   3      :  287   3rd Qu.:193.0  \n",
       " 4      :  343   5      :  608   5      :  246   Max.   :386.0  \n",
       " (Other):13801   (Other):11109   (Other):14740                  \n",
       "      fga              fgm              fta              ftm       \n",
       " Min.   :   0.0   Min.   :   0.0   Min.   :   0.0   Min.   :  0.0  \n",
       " 1st Qu.: 106.0   1st Qu.:  43.0   1st Qu.:  30.0   1st Qu.: 20.0  \n",
       " Median : 345.0   Median : 148.0   Median :  99.0   Median : 70.0  \n",
       " Mean   : 452.5   Mean   : 204.2   Mean   : 146.9   Mean   :109.6  \n",
       " 3rd Qu.: 696.0   3rd Qu.: 313.0   3rd Qu.: 218.0   3rd Qu.:161.0  \n",
       " Max.   :3159.0   Max.   :1597.0   Max.   :1363.0   Max.   :840.0  \n",
       "                                                                   \n",
       "      tpa              tpm       \n",
       " Min.   :  0.00   Min.   :  0.0  \n",
       " 1st Qu.:  0.00   1st Qu.:  0.0  \n",
       " Median :  2.00   Median :  0.0  \n",
       " Mean   : 38.07   Mean   : 13.1  \n",
       " 3rd Qu.: 27.00   3rd Qu.:  7.0  \n",
       " Max.   :678.00   Max.   :269.0  \n",
       "                                 "
      ]
     },
     "metadata": {},
     "output_type": "display_data"
    }
   ],
   "source": [
    "# Summarize all variables in data frame\n",
    "summary(basetball_data)"
   ]
  }
 ],
 "metadata": {
  "kernelspec": {
   "display_name": "R",
   "language": "R",
   "name": "ir"
  },
  "language_info": {
   "codemirror_mode": "r",
   "file_extension": ".r",
   "mimetype": "text/x-r-source",
   "name": "R",
   "pygments_lexer": "r",
   "version": "3.5.1"
  }
 },
 "nbformat": 4,
 "nbformat_minor": 2
}
