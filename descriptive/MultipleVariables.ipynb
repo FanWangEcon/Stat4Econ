{
 "cells": [
  {
   "cell_type": "markdown",
   "metadata": {},
   "source": [
    "**[Back to Fan's Intro Stat Table of Content](https://fanwangecon.github.io/Stat4Econ/)**\n",
    "\n",
    "# Multiple Variables Basic Graphs and Tables\n",
    "\n",
    "## Load Packages and Data\n",
    "\n",
    "### Packages\n",
    "\n",
    "We will continue to rely on various [tidyverse](https://www.tidyverse.org/). Now including: [ggplot](https://ggplot2.tidyverse.org/reference/ggplot.html), [readr](https://readr.tidyverse.org/), along with [dplyr](https://dplyr.tidyverse.org/) and [tibble](https://tibble.tidyverse.org/), which we used for the [in-class survey](https://fanwangecon.github.io/Stat4Econ/survey/classsurvey.html) already.\n",
    "\n",
    "We will also use the [knitr](https://yihui.name/knitr/) Package, which allows for prettified outputs."
   ]
  },
  {
   "cell_type": "code",
   "execution_count": 54,
   "metadata": {},
   "outputs": [],
   "source": [
    "# For Data Manipulations\n",
    "library(tidyverse)\n",
    "# For Additional table output \n",
    "# install.packages(\"knitr\")\n",
    "library(knitr)"
   ]
  },
  {
   "cell_type": "markdown",
   "metadata": {},
   "source": [
    "### Load File\n",
    "Let's load in the dataset we created from the [in-class survey](https://fanwangecon.github.io/Stat4Econ/survey/classsurvey.html)."
   ]
  },
  {
   "cell_type": "code",
   "execution_count": 55,
   "metadata": {},
   "outputs": [
    {
     "name": "stderr",
     "output_type": "stream",
     "text": [
      "Parsed with column specification:\n",
      "cols(\n",
      "  ID = col_double(),\n",
      "  ROW = col_double(),\n",
      "  COL = col_double(),\n",
      "  gender = col_character(),\n",
      "  years.in.houston = col_double(),\n",
      "  major = col_character(),\n",
      "  commute = col_character(),\n",
      "  games.attended = col_double(),\n",
      "  games.any = col_character(),\n",
      "  econ = col_character()\n",
      ")\n"
     ]
    }
   ],
   "source": [
    "# Load the dataset using readr's read_csv\n",
    "df_survey <- read_csv('../data/classsurvey.csv')"
   ]
  },
  {
   "cell_type": "code",
   "execution_count": 56,
   "metadata": {},
   "outputs": [
    {
     "name": "stdout",
     "output_type": "stream",
     "text": [
      "Classes 'tbl_df', 'tbl' and 'data.frame':\t10 obs. of  10 variables:\n",
      " $ ID              : num  1 2 3 4 5 6 7 8 9 10\n",
      " $ ROW             : num  3 4 4 4 2 1 2 3 3 4\n",
      " $ COL             : num  1 2 10 1 6 7 6 6 3 13\n",
      " $ gender          : Factor w/ 2 levels \"FEMALE\",\"MALE\": 2 1 2 2 1 2 2 2 1 1\n",
      " $ years.in.houston: num  21 21 22 22 20 3 25 20 5 20\n",
      " $ major           : Factor w/ 5 levels \"CONSUMERSCIENCE\",..: 2 3 2 2 2 5 2 1 4 2\n",
      " $ commute         : Factor w/ 1 level \"YES\": 1 1 1 1 1 1 1 1 1 1\n",
      " $ games.attended  : num  0 2 0 14 0 0 25 2 0 0\n",
      " $ games.any       : Factor w/ 2 levels \"Has.Attended\",..: 2 1 2 1 2 2 1 1 2 2\n",
      " $ econ            : Factor w/ 2 levels \"ECON\",\"Not.Econ\": 1 2 1 1 1 2 1 2 2 1\n",
      " - attr(*, \"spec\")=\n",
      "  .. cols(\n",
      "  ..   ID = col_double(),\n",
      "  ..   ROW = col_double(),\n",
      "  ..   COL = col_double(),\n",
      "  ..   gender = col_character(),\n",
      "  ..   years.in.houston = col_double(),\n",
      "  ..   major = col_character(),\n",
      "  ..   commute = col_character(),\n",
      "  ..   games.attended = col_double(),\n",
      "  ..   games.any = col_character(),\n",
      "  ..   econ = col_character()\n",
      "  .. )\n"
     ]
    }
   ],
   "source": [
    "# We have several factor variables, we can set them as factor one by one\n",
    "df_survey[['gender']] <- as.factor(df_survey[['gender']])\n",
    "# But that is a little cumbersome, we can using lapply, a core function in r to do this for all factors\n",
    "factor_col_names <- c('gender', 'major', 'commute', 'games.any', 'econ')\n",
    "df_survey[factor_col_names] <- lapply(df_survey[factor_col_names], as.factor)\n",
    "# Check Variable Types\n",
    "str(df_survey)"
   ]
  },
  {
   "cell_type": "markdown",
   "metadata": {},
   "source": [
    "## Two Continuous Variables\n",
    "\n",
    "With two continuous/quantitative variables, we can generate a scatter plot. Crucially, each point of the scatter plot represents one individual, the location of that point indicates the x and y values of that individual. The x and y values could be the individual's test score and hours studied for example. "
   ]
  },
  {
   "cell_type": "code",
   "execution_count": 57,
   "metadata": {},
   "outputs": [
    {
     "data": {
      "image/png": "[encoded data removed]",
      "text/plain": [
       "plot without title"
      ]
     },
     "metadata": {},
     "output_type": "display_data"
    }
   ],
   "source": [
    "# We can draw a scatter plot for two continuous variables\n",
    "# Control Graph Size\n",
    "options(repr.plot.width = 4, repr.plot.height = 4)\n",
    "# Draw Scatter Plot\n",
    "# 1. specify x and y\n",
    "# 2. label each individual by their ID, add letter I in front of value\n",
    "# 3. add in trend line\n",
    "scatter <- ggplot(df_survey, aes(x=games.attended, y=years.in.houston)) +\n",
    "      geom_point(size=1) +      \n",
    "      geom_text(aes(label=paste0('I', ID)), size=3, hjust=-.2, vjust=-.2) + \n",
    "      geom_smooth(method=lm) + # Trend line\n",
    "      labs(title = paste0('Scatter Plot of Two Continuous/Quantitative Variables'\n",
    "                          ,'\\nIn Class Survey of 10 Students'),\n",
    "           x = 'Games Attended at the University',\n",
    "           y = 'Years Spent in the City of Houston',\n",
    "           caption = 'In Class Survey') +\n",
    "      theme_bw()\n",
    "print(scatter)"
   ]
  },
  {
   "cell_type": "markdown",
   "metadata": {},
   "source": [
    "## Two Categorical Variables\n",
    "With two discrete/categorical variables, we can generate two-way frequency tables. This is very similar to what we did for one discrete variable, except now we have columns and rows, representing the categories of the two variables. The two variables could be gender and majors, we would write in each table cell the number of students who are male and econ majors, male and bio majors in for example the first column, and repeat this for girls in the second column. "
   ]
  },
  {
   "cell_type": "code",
   "execution_count": 58,
   "metadata": {},
   "outputs": [
    {
     "data": {
      "text/html": [
       "<table>\n",
       "<thead><tr><th scope=col>econ</th><th scope=col>FEMALE</th><th scope=col>MALE</th></tr></thead>\n",
       "<tbody>\n",
       "\t<tr><td>ECON    </td><td>2       </td><td>4       </td></tr>\n",
       "\t<tr><td>Not.Econ</td><td>2       </td><td>2       </td></tr>\n",
       "</tbody>\n",
       "</table>\n"
      ],
      "text/latex": [
       "\\begin{tabular}{r|lll}\n",
       " econ & FEMALE & MALE\\\\\n",
       "\\hline\n",
       "\t ECON     & 2        & 4       \\\\\n",
       "\t Not.Econ & 2        & 2       \\\\\n",
       "\\end{tabular}\n"
      ],
      "text/markdown": [
       "\n",
       "econ | FEMALE | MALE | \n",
       "|---|---|\n",
       "| ECON     | 2        | 4        | \n",
       "| Not.Econ | 2        | 2        | \n",
       "\n",
       "\n"
      ],
      "text/plain": [
       "  econ     FEMALE MALE\n",
       "1 ECON     2      4   \n",
       "2 Not.Econ 2      2   "
      ]
     },
     "metadata": {},
     "output_type": "display_data"
    }
   ],
   "source": [
    "# We can tabulate Frequencies based on two categorical variables\n",
    "df_survey %>%\n",
    "  group_by(gender, econ) %>%\n",
    "  summarize(freq = n()) %>% \n",
    "  spread(gender, freq)"
   ]
  },
  {
   "cell_type": "code",
   "execution_count": 59,
   "metadata": {},
   "outputs": [
    {
     "data": {
      "text/html": [
       "<table>\n",
       "<thead><tr><th scope=col>interaction(gender, econ)</th><th scope=col>freq</th><th scope=col>fraction</th></tr></thead>\n",
       "<tbody>\n",
       "\t<tr><td>FEMALE.ECON    </td><td>2              </td><td>0.2            </td></tr>\n",
       "\t<tr><td>MALE.ECON      </td><td>4              </td><td>0.4            </td></tr>\n",
       "\t<tr><td>FEMALE.Not.Econ</td><td>2              </td><td>0.2            </td></tr>\n",
       "\t<tr><td>MALE.Not.Econ  </td><td>2              </td><td>0.2            </td></tr>\n",
       "</tbody>\n",
       "</table>\n"
      ],
      "text/latex": [
       "\\begin{tabular}{r|lll}\n",
       " interaction(gender, econ) & freq & fraction\\\\\n",
       "\\hline\n",
       "\t FEMALE.ECON     & 2               & 0.2            \\\\\n",
       "\t MALE.ECON       & 4               & 0.4            \\\\\n",
       "\t FEMALE.Not.Econ & 2               & 0.2            \\\\\n",
       "\t MALE.Not.Econ   & 2               & 0.2            \\\\\n",
       "\\end{tabular}\n"
      ],
      "text/markdown": [
       "\n",
       "interaction(gender, econ) | freq | fraction | \n",
       "|---|---|---|---|\n",
       "| FEMALE.ECON     | 2               | 0.2             | \n",
       "| MALE.ECON       | 4               | 0.4             | \n",
       "| FEMALE.Not.Econ | 2               | 0.2             | \n",
       "| MALE.Not.Econ   | 2               | 0.2             | \n",
       "\n",
       "\n"
      ],
      "text/plain": [
       "  interaction(gender, econ) freq fraction\n",
       "1 FEMALE.ECON               2    0.2     \n",
       "2 MALE.ECON                 4    0.4     \n",
       "3 FEMALE.Not.Econ           2    0.2     \n",
       "4 MALE.Not.Econ             2    0.2     "
      ]
     },
     "metadata": {},
     "output_type": "display_data"
    }
   ],
   "source": [
    "# We can show the fraction of individuals in each of the four groups\n",
    "df_survey %>%\n",
    "  group_by(interaction(gender, econ)) %>%\n",
    "  summarise(freq = n()) %>%\n",
    "  mutate(fraction = freq / sum(freq))"
   ]
  },
  {
   "cell_type": "code",
   "execution_count": 60,
   "metadata": {},
   "outputs": [
    {
     "data": {
      "image/png": "[encoded data removed]",
      "text/plain": [
       "plot without title"
      ]
     },
     "metadata": {},
     "output_type": "display_data"
    }
   ],
   "source": [
    "# We can create stacked bar charts as well with the same data\n",
    "# graph size\n",
    "options(repr.plot.width = 3, repr.plot.height = 2)\n",
    "# Graph\n",
    "stacked.bar.plot <- ggplot(df_survey) + \n",
    "    geom_bar(aes(x=gender, fill=econ)) + \n",
    "    theme_bw()\n",
    "print(stacked.bar.plot)"
   ]
  },
  {
   "cell_type": "markdown",
   "metadata": {},
   "source": [
    "## Continuous and Categorical Variable\n",
    "\n",
    "### Average Across Groups\n",
    "We can look at the average game attendance by female and male students in our sample, using a bar plot, where the height of the bars now represent the average of the *games.attended* variable for each group."
   ]
  },
  {
   "cell_type": "code",
   "execution_count": 61,
   "metadata": {},
   "outputs": [
    {
     "data": {
      "text/html": [
       "<table>\n",
       "<thead><tr><th scope=col>gender</th><th scope=col>avg.games.attended</th></tr></thead>\n",
       "<tbody>\n",
       "\t<tr><td>FEMALE  </td><td>0.500000</td></tr>\n",
       "\t<tr><td>MALE    </td><td>6.833333</td></tr>\n",
       "</tbody>\n",
       "</table>\n"
      ],
      "text/latex": [
       "\\begin{tabular}{r|ll}\n",
       " gender & avg.games.attended\\\\\n",
       "\\hline\n",
       "\t FEMALE   & 0.500000\\\\\n",
       "\t MALE     & 6.833333\\\\\n",
       "\\end{tabular}\n"
      ],
      "text/markdown": [
       "\n",
       "gender | avg.games.attended | \n",
       "|---|---|\n",
       "| FEMALE   | 0.500000 | \n",
       "| MALE     | 6.833333 | \n",
       "\n",
       "\n"
      ],
      "text/plain": [
       "  gender avg.games.attended\n",
       "1 FEMALE 0.500000          \n",
       "2 MALE   6.833333          "
      ]
     },
     "metadata": {},
     "output_type": "display_data"
    }
   ],
   "source": [
    "# We can first find the group averages\n",
    "df_gender_avg_games <- df_survey %>%\n",
    "                        group_by(gender) %>%\n",
    "                        summarise (avg.games.attended = mean(games.attended)) \n",
    "df_gender_avg_games"
   ]
  },
  {
   "cell_type": "code",
   "execution_count": 62,
   "metadata": {},
   "outputs": [
    {
     "data": {
      "image/png": "[encoded data removed]",
      "text/plain": [
       "plot without title"
      ]
     },
     "metadata": {},
     "output_type": "display_data"
    }
   ],
   "source": [
    "# We can graph based on df_gender_avg_games\n",
    "# Sizing the Figure Here\n",
    "options(repr.plot.width = 2, repr.plot.height = 2)\n",
    "# Plot, stat = identity means to plot the value in avg.games.attended for each gender\n",
    "group.means <- ggplot(df_gender_avg_games) + \n",
    "    geom_bar(aes(x=gender, y=avg.games.attended), stat = 'identity') + \n",
    "    theme_bw()\n",
    "print(group.means)"
   ]
  },
  {
   "cell_type": "code",
   "execution_count": 63,
   "metadata": {},
   "outputs": [
    {
     "data": {
      "image/png": "[encoded data removed]",
      "text/plain": [
       "plot without title"
      ]
     },
     "metadata": {},
     "output_type": "display_data"
    }
   ],
   "source": [
    "# But it is a little cumbersome to do this in two steps, we can do it in one step\n",
    "# Sizing the Figure Here\n",
    "options(repr.plot.width = 2, repr.plot.height = 2)\n",
    "# Plot directly from df_survey, summary over x for y\n",
    "# The result looks the same\n",
    "group.means.joint <- ggplot(df_survey) + \n",
    "    geom_bar(aes(x=gender, y=games.attended), stat = \"summary\", fun.y = \"mean\") + \n",
    "    theme_bw()\n",
    "print(group.means.joint)"
   ]
  },
  {
   "cell_type": "markdown",
   "metadata": {},
   "source": [
    "### Average Across Two Groups: Gender and Majors\n",
    "What is the average game attendance for male and female, econ and non-econ majors? We have 2 female eocn majors, 2 female non-econ majors, 4 male econ majors and 2 male non-econ majors, and their average game attendance are: 0, 1, 9.75 and 1 games. "
   ]
  },
  {
   "cell_type": "code",
   "execution_count": 64,
   "metadata": {},
   "outputs": [
    {
     "data": {
      "text/html": [
       "<table>\n",
       "<thead><tr><th scope=col>gender</th><th scope=col>econ</th><th scope=col>avg.games.attended</th><th scope=col>N.count</th></tr></thead>\n",
       "<tbody>\n",
       "\t<tr><td>FEMALE  </td><td>ECON    </td><td>0.00    </td><td>2       </td></tr>\n",
       "\t<tr><td>FEMALE  </td><td>Not.Econ</td><td>1.00    </td><td>2       </td></tr>\n",
       "\t<tr><td>MALE    </td><td>ECON    </td><td>9.75    </td><td>4       </td></tr>\n",
       "\t<tr><td>MALE    </td><td>Not.Econ</td><td>1.00    </td><td>2       </td></tr>\n",
       "</tbody>\n",
       "</table>\n"
      ],
      "text/latex": [
       "\\begin{tabular}{r|llll}\n",
       " gender & econ & avg.games.attended & N.count\\\\\n",
       "\\hline\n",
       "\t FEMALE   & ECON     & 0.00     & 2       \\\\\n",
       "\t FEMALE   & Not.Econ & 1.00     & 2       \\\\\n",
       "\t MALE     & ECON     & 9.75     & 4       \\\\\n",
       "\t MALE     & Not.Econ & 1.00     & 2       \\\\\n",
       "\\end{tabular}\n"
      ],
      "text/markdown": [
       "\n",
       "gender | econ | avg.games.attended | N.count | \n",
       "|---|---|---|---|\n",
       "| FEMALE   | ECON     | 0.00     | 2        | \n",
       "| FEMALE   | Not.Econ | 1.00     | 2        | \n",
       "| MALE     | ECON     | 9.75     | 4        | \n",
       "| MALE     | Not.Econ | 1.00     | 2        | \n",
       "\n",
       "\n"
      ],
      "text/plain": [
       "  gender econ     avg.games.attended N.count\n",
       "1 FEMALE ECON     0.00               2      \n",
       "2 FEMALE Not.Econ 1.00               2      \n",
       "3 MALE   ECON     9.75               4      \n",
       "4 MALE   Not.Econ 1.00               2      "
      ]
     },
     "metadata": {},
     "output_type": "display_data"
    }
   ],
   "source": [
    "# We can calculate the statistics as a table, and also show obs in each group\n",
    "df_survey %>%\n",
    "    group_by(gender, econ ) %>%\n",
    "    summarise (avg.games.attended = mean(games.attended), N.count = n()) "
   ]
  },
  {
   "cell_type": "code",
   "execution_count": 65,
   "metadata": {},
   "outputs": [
    {
     "data": {
      "image/png": "[encoded data removed]",
      "text/plain": [
       "plot without title"
      ]
     },
     "metadata": {},
     "output_type": "display_data"
    }
   ],
   "source": [
    "# Let's Show these Visually\n",
    "options(repr.plot.width = 4, repr.plot.height = 2)\n",
    "# Plot directly from df_survey\n",
    "# Using fill for econ, this means econ or not will fill up with different colors\n",
    "# Still caculate average\n",
    "# Postion \"dodge\" means that econ and non-econ wil be shown next to each other\n",
    "# By default position is to stack different fill groups on top of each other.\n",
    "two.group.means <- ggplot(df_survey) + \n",
    "    geom_bar(aes(x=gender, y=games.attended, fill=econ),\n",
    "             stat = \"summary\", fun.y = \"mean\", position = \"dodge\") + \n",
    "    theme_bw()\n",
    "print(two.group.means)"
   ]
  }
 ],
 "metadata": {
  "kernelspec": {
   "display_name": "R",
   "language": "R",
   "name": "ir"
  },
  "language_info": {
   "codemirror_mode": "r",
   "file_extension": ".r",
   "mimetype": "text/x-r-source",
   "name": "R",
   "pygments_lexer": "r",
   "version": "3.5.1"
  }
 },
 "nbformat": 4,
 "nbformat_minor": 2
}
