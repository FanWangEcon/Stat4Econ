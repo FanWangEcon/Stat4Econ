{
 "cells": [
  {
   "cell_type": "markdown",
   "metadata": {},
   "source": [
    "**[Back to Fan's Intro Stat Table of Content](https://fanwangecon.github.io/Stat4Econ/)**\n",
    "\n",
    "# Single Variable Basic Graphs and Tables\n",
    "\n",
    "## Load Packages and Data\n",
    "\n",
    "### Packages\n",
    "\n",
    "We will continue to rely on various [tidyverse](https://www.tidyverse.org/). Now including: [ggplot](https://ggplot2.tidyverse.org/reference/ggplot.html), [readr](https://readr.tidyverse.org/), along with [dplyr](https://dplyr.tidyverse.org/) and [tibble](https://tibble.tidyverse.org/), which we used for the [in-class survey](https://fanwangecon.github.io/Stat4Econ/survey/classsurvey.html) already.\n",
    "\n",
    "We will also use the [knitr](https://yihui.name/knitr/) Package, which allows for prettified outputs."
   ]
  },
  {
   "cell_type": "code",
   "execution_count": 23,
   "metadata": {},
   "outputs": [],
   "source": [
    "# For Data Structures\n",
    "library(tibble)\n",
    "# For Data Manipulations\n",
    "library(dplyr)\n",
    "# For Reading/Loading Data\n",
    "library(readr)\n",
    "# For plotting\n",
    "library(ggplot2)\n",
    "# For Additional table output \n",
    "# install.packages(\"knitr\")\n",
    "library(knitr)"
   ]
  },
  {
   "cell_type": "markdown",
   "metadata": {},
   "source": [
    "### Load File\n",
    "Let's load in the dataset we created from the [in-class survey](https://fanwangecon.github.io/Stat4Econ/survey/classsurvey.html)."
   ]
  },
  {
   "cell_type": "code",
   "execution_count": 24,
   "metadata": {},
   "outputs": [
    {
     "name": "stderr",
     "output_type": "stream",
     "text": [
      "Parsed with column specification:\n",
      "cols(\n",
      "  ID = col_double(),\n",
      "  ROW = col_double(),\n",
      "  COL = col_double(),\n",
      "  gender = col_character(),\n",
      "  years.in.houston = col_double(),\n",
      "  major = col_character(),\n",
      "  commute = col_character(),\n",
      "  games.attended = col_double(),\n",
      "  games.any = col_character(),\n",
      "  econ = col_character()\n",
      ")\n"
     ]
    }
   ],
   "source": [
    "# Load the dataset using readr's read_csv\n",
    "df_survey <- read_csv('../data/classsurvey.csv')"
   ]
  },
  {
   "cell_type": "code",
   "execution_count": 25,
   "metadata": {},
   "outputs": [
    {
     "name": "stdout",
     "output_type": "stream",
     "text": [
      "Classes 'tbl_df', 'tbl' and 'data.frame':\t10 obs. of  10 variables:\n",
      " $ ID              : num  1 2 3 4 5 6 7 8 9 10\n",
      " $ ROW             : num  3 4 4 4 2 1 2 3 3 4\n",
      " $ COL             : num  1 2 10 1 6 7 6 6 3 13\n",
      " $ gender          : Factor w/ 2 levels \"FEMALE\",\"MALE\": 2 1 2 2 1 2 2 2 1 1\n",
      " $ years.in.houston: num  21 21 22 22 20 3 25 20 5 20\n",
      " $ major           : Factor w/ 5 levels \"CONSUMERSCIENCE\",..: 2 3 2 2 2 5 2 1 4 2\n",
      " $ commute         : Factor w/ 1 level \"YES\": 1 1 1 1 1 1 1 1 1 1\n",
      " $ games.attended  : num  0 2 0 14 0 0 25 2 0 0\n",
      " $ games.any       : Factor w/ 2 levels \"Has.Attended\",..: 2 1 2 1 2 2 1 1 2 2\n",
      " $ econ            : Factor w/ 2 levels \"ECON\",\"Not.Econ\": 1 2 1 1 1 2 1 2 2 1\n",
      " - attr(*, \"spec\")=\n",
      "  .. cols(\n",
      "  ..   ID = col_double(),\n",
      "  ..   ROW = col_double(),\n",
      "  ..   COL = col_double(),\n",
      "  ..   gender = col_character(),\n",
      "  ..   years.in.houston = col_double(),\n",
      "  ..   major = col_character(),\n",
      "  ..   commute = col_character(),\n",
      "  ..   games.attended = col_double(),\n",
      "  ..   games.any = col_character(),\n",
      "  ..   econ = col_character()\n",
      "  .. )\n"
     ]
    }
   ],
   "source": [
    "# We have several factor variables, we can set them as factor one by one\n",
    "df_survey[['gender']] <- as.factor(df_survey[['gender']])\n",
    "# But that is a little cumbersome, we can using lapply, a core function in r to do this for all factors\n",
    "factor_col_names <- c('gender', 'major', 'commute', 'games.any', 'econ')\n",
    "df_survey[factor_col_names] <- lapply(df_survey[factor_col_names], as.factor)\n",
    "# Check Variable Types\n",
    "str(df_survey)"
   ]
  },
  {
   "cell_type": "markdown",
   "metadata": {},
   "source": [
    "## Categorical/Discrete\n",
    " \n",
    "Using categorical/discrete variables, such as Major, Gender, Recent arrival or not, etc, we can generate frequency tables. \n",
    "\n",
    "- Nominal Variables: These are categorical variables like name, or address, or major. \n",
    "- Ordinal Variables: These are categorical variables like age, grade in school, that could be ordered sequentially.\n",
    "\n",
    "The frequency table shows in separate columns (or rows) the name for all the categories for that categorical variable, and show next to these categories the number of times that category appears in the dataset. This is called a frequency table because frequencies are shown for each category. So if we show a one-way frequency for majors, there would be four rows for the four unique majors from our survey of 10 students, and we would write down the number of students in each of the majors out of the 10 students. \n",
    "\n",
    "Rather than showing frequencies, we can also show ratios or percentages by dividing the number of observations in each category by the total number of observations in the survey.\n",
    "\n",
    "Graphically, we can show the results from these one-way frequency tables using bar charts and pie charts. The bar charts would have separate bars for each category, and the heights of the bars would show the number of observations in that category, or the fraction of individuals in the categorical. The relative heights of bars are the same whether we show the frequencies or the fractions/ratios. A pie chart might give a more direct visual sense of the fraction of observations in each category. "
   ]
  },
  {
   "cell_type": "markdown",
   "metadata": {},
   "source": [
    "### A Frequency Table and a Bar Graph"
   ]
  },
  {
   "cell_type": "code",
   "execution_count": 26,
   "metadata": {},
   "outputs": [
    {
     "data": {
      "text/html": [
       "<table>\n",
       "<thead><tr><th scope=col>gender</th><th scope=col>frequency.count</th><th scope=col>proportions</th></tr></thead>\n",
       "<tbody>\n",
       "\t<tr><td>FEMALE</td><td>4     </td><td>0.4   </td></tr>\n",
       "\t<tr><td>MALE  </td><td>6     </td><td>0.6   </td></tr>\n",
       "</tbody>\n",
       "</table>\n"
      ],
      "text/latex": [
       "\\begin{tabular}{r|lll}\n",
       " gender & frequency.count & proportions\\\\\n",
       "\\hline\n",
       "\t FEMALE & 4      & 0.4   \\\\\n",
       "\t MALE   & 6      & 0.6   \\\\\n",
       "\\end{tabular}\n"
      ],
      "text/markdown": [
       "\n",
       "gender | frequency.count | proportions | \n",
       "|---|---|\n",
       "| FEMALE | 4      | 0.4    | \n",
       "| MALE   | 6      | 0.6    | \n",
       "\n",
       "\n"
      ],
      "text/plain": [
       "  gender frequency.count proportions\n",
       "1 FEMALE 4               0.4        \n",
       "2 MALE   6               0.6        "
      ]
     },
     "metadata": {},
     "output_type": "display_data"
    }
   ],
   "source": [
    "# This Generates A Frequency table for the number of students of each gender\n",
    "df_survey %>%\n",
    "    group_by(gender) %>%\n",
    "    summarise (frequency.count = n()) %>%\n",
    "      mutate(proportions = frequency.count / sum(frequency.count))"
   ]
  },
  {
   "cell_type": "code",
   "execution_count": 27,
   "metadata": {},
   "outputs": [
    {
     "data": {
      "image/png": "[encoded data removed]",
      "text/plain": [
       "plot without title"
      ]
     },
     "metadata": {},
     "output_type": "display_data"
    }
   ],
   "source": [
    "# We can make a bar graph for the Frequency Table\n",
    "# graph size\n",
    "options(repr.plot.width = 2, repr.plot.height = 2)\n",
    "# Graph\n",
    "bar.plot <- ggplot(df_survey) + \n",
    "    geom_bar(aes(x=gender)) + \n",
    "    theme_bw()\n",
    "print(bar.plot)"
   ]
  },
  {
   "cell_type": "markdown",
   "metadata": {},
   "source": [
    "### Using R Functions to Generate Multiple Frequency Tables"
   ]
  },
  {
   "cell_type": "code",
   "execution_count": 28,
   "metadata": {},
   "outputs": [],
   "source": [
    "# There are Multiple Categorical Variables in the dataset\n",
    "# Would be nice if we can generate frequency tables for all of them easily\n",
    "# Let's create a list of  that are categorical\n",
    "categorical.nomial.list <- c('gender', 'major', 'games.any', 'commute', 'econ')"
   ]
  },
  {
   "cell_type": "code",
   "execution_count": 29,
   "metadata": {},
   "outputs": [
    {
     "name": "stdout",
     "output_type": "stream",
     "text": [
      "[1] \"From Dataset: df_survey, Freq. Table for Variable: gender\"\n"
     ]
    },
    {
     "data": {
      "text/html": [
       "<table>\n",
       "<thead><tr><th scope=col>gender</th><th scope=col>frequency.count</th><th scope=col>proportions</th></tr></thead>\n",
       "<tbody>\n",
       "\t<tr><td>FEMALE</td><td>4     </td><td>0.4   </td></tr>\n",
       "\t<tr><td>MALE  </td><td>6     </td><td>0.6   </td></tr>\n",
       "</tbody>\n",
       "</table>\n"
      ],
      "text/latex": [
       "\\begin{tabular}{r|lll}\n",
       " gender & frequency.count & proportions\\\\\n",
       "\\hline\n",
       "\t FEMALE & 4      & 0.4   \\\\\n",
       "\t MALE   & 6      & 0.6   \\\\\n",
       "\\end{tabular}\n"
      ],
      "text/markdown": [
       "\n",
       "gender | frequency.count | proportions | \n",
       "|---|---|\n",
       "| FEMALE | 4      | 0.4    | \n",
       "| MALE   | 6      | 0.6    | \n",
       "\n",
       "\n"
      ],
      "text/plain": [
       "  gender frequency.count proportions\n",
       "1 FEMALE 4               0.4        \n",
       "2 MALE   6               0.6        "
      ]
     },
     "metadata": {},
     "output_type": "display_data"
    }
   ],
   "source": [
    "# Let's Write a Function, not that we need to, but let's do it\n",
    "# We can give the function any name, here: dplyr.freq.table\n",
    "dplyr.freq.table <- function(df, cate.var.str){\n",
    "    \n",
    "    # A print Statement\n",
    "    print(sprintf(\"From Dataset: %s, Freq. Table for Variable: %s\", deparse(substitute(df)), cate.var.str))\n",
    "    \n",
    "    # Note below: !!sym(cate.var.str), because cate.var.str is string\n",
    "    freq.table <- df %>%\n",
    "        group_by(!!sym(cate.var.str)) %>%\n",
    "        summarise (frequency.count = n()) %>%\n",
    "        mutate(proportions = frequency.count / sum(frequency.count))    \n",
    "    \n",
    "    # Function returns\n",
    "    return(freq.table)\n",
    "}\n",
    "\n",
    "# Let's call test this function and generate our earlier table\n",
    "dplyr.freq.table(df = df_survey, cate.var.str = 'gender')"
   ]
  },
  {
   "cell_type": "code",
   "execution_count": 30,
   "metadata": {},
   "outputs": [
    {
     "name": "stdout",
     "output_type": "stream",
     "text": [
      "[1] \"From Dataset: df_survey, Freq. Table for Variable: gender\"\n",
      "# A tibble: 2 x 3\n",
      "  gender frequency.count proportions\n",
      "  <fct>            <int>       <dbl>\n",
      "1 FEMALE               4         0.4\n",
      "2 MALE                 6         0.6\n",
      "[1] \"From Dataset: df_survey, Freq. Table for Variable: major\"\n",
      "# A tibble: 5 x 3\n",
      "  major           frequency.count proportions\n",
      "  <fct>                     <int>       <dbl>\n",
      "1 CONSUMERSCIENCE               1         0.1\n",
      "2 ECON                          6         0.6\n",
      "3 HEALTH                        1         0.1\n",
      "4 HUMANRESOURCE                 1         0.1\n",
      "5 PSYCH                         1         0.1\n",
      "[1] \"From Dataset: df_survey, Freq. Table for Variable: games.any\"\n",
      "# A tibble: 2 x 3\n",
      "  games.any      frequency.count proportions\n",
      "  <fct>                    <int>       <dbl>\n",
      "1 Has.Attended                 4         0.4\n",
      "2 Never.Attended               6         0.6\n",
      "[1] \"From Dataset: df_survey, Freq. Table for Variable: commute\"\n",
      "# A tibble: 1 x 3\n",
      "  commute frequency.count proportions\n",
      "  <fct>             <int>       <dbl>\n",
      "1 YES                  10           1\n",
      "[1] \"From Dataset: df_survey, Freq. Table for Variable: econ\"\n",
      "# A tibble: 2 x 3\n",
      "  econ     frequency.count proportions\n",
      "  <fct>              <int>       <dbl>\n",
      "1 ECON                   6         0.6\n",
      "2 Not.Econ               4         0.4\n"
     ]
    }
   ],
   "source": [
    "# Let's Now Use our function to generate Multiple Frequency Tables\n",
    "# We will first use a explicit loop\n",
    "for (ctr in seq_along(categorical.nomial.list)) {\n",
    "    freq.table <- dplyr.freq.table(df = df_survey, cate.var.str = categorical.nomial.list[ctr])\n",
    "    print(freq.table)\n",
    "}"
   ]
  },
  {
   "cell_type": "markdown",
   "metadata": {},
   "source": [
    "### Using Lapply to Generate Multiple Frequency Tables with a Single Line"
   ]
  },
  {
   "cell_type": "code",
   "execution_count": 31,
   "metadata": {},
   "outputs": [
    {
     "name": "stdout",
     "output_type": "stream",
     "text": [
      "[1] \"From Dataset: df_survey, Freq. Table for Variable: gender\"\n",
      "[1] \"From Dataset: df_survey, Freq. Table for Variable: major\"\n",
      "[1] \"From Dataset: df_survey, Freq. Table for Variable: games.any\"\n",
      "[1] \"From Dataset: df_survey, Freq. Table for Variable: commute\"\n",
      "[1] \"From Dataset: df_survey, Freq. Table for Variable: econ\"\n"
     ]
    },
    {
     "data": {
      "text/html": [
       "<ol>\n",
       "\t<li><table>\n",
       "<thead><tr><th scope=col>gender</th><th scope=col>frequency.count</th><th scope=col>proportions</th></tr></thead>\n",
       "<tbody>\n",
       "\t<tr><td>FEMALE</td><td>4     </td><td>0.4   </td></tr>\n",
       "\t<tr><td>MALE  </td><td>6     </td><td>0.6   </td></tr>\n",
       "</tbody>\n",
       "</table>\n",
       "</li>\n",
       "\t<li><table>\n",
       "<thead><tr><th scope=col>major</th><th scope=col>frequency.count</th><th scope=col>proportions</th></tr></thead>\n",
       "<tbody>\n",
       "\t<tr><td>CONSUMERSCIENCE</td><td>1              </td><td>0.1            </td></tr>\n",
       "\t<tr><td>ECON           </td><td>6              </td><td>0.6            </td></tr>\n",
       "\t<tr><td>HEALTH         </td><td>1              </td><td>0.1            </td></tr>\n",
       "\t<tr><td>HUMANRESOURCE  </td><td>1              </td><td>0.1            </td></tr>\n",
       "\t<tr><td>PSYCH          </td><td>1              </td><td>0.1            </td></tr>\n",
       "</tbody>\n",
       "</table>\n",
       "</li>\n",
       "\t<li><table>\n",
       "<thead><tr><th scope=col>games.any</th><th scope=col>frequency.count</th><th scope=col>proportions</th></tr></thead>\n",
       "<tbody>\n",
       "\t<tr><td>Has.Attended  </td><td>4             </td><td>0.4           </td></tr>\n",
       "\t<tr><td>Never.Attended</td><td>6             </td><td>0.6           </td></tr>\n",
       "</tbody>\n",
       "</table>\n",
       "</li>\n",
       "\t<li><table>\n",
       "<thead><tr><th scope=col>commute</th><th scope=col>frequency.count</th><th scope=col>proportions</th></tr></thead>\n",
       "<tbody>\n",
       "\t<tr><td>YES</td><td>10 </td><td>1  </td></tr>\n",
       "</tbody>\n",
       "</table>\n",
       "</li>\n",
       "\t<li><table>\n",
       "<thead><tr><th scope=col>econ</th><th scope=col>frequency.count</th><th scope=col>proportions</th></tr></thead>\n",
       "<tbody>\n",
       "\t<tr><td>ECON    </td><td>6       </td><td>0.6     </td></tr>\n",
       "\t<tr><td>Not.Econ</td><td>4       </td><td>0.4     </td></tr>\n",
       "</tbody>\n",
       "</table>\n",
       "</li>\n",
       "</ol>\n"
      ],
      "text/latex": [
       "\\begin{enumerate}\n",
       "\\item \\begin{tabular}{r|lll}\n",
       " gender & frequency.count & proportions\\\\\n",
       "\\hline\n",
       "\t FEMALE & 4      & 0.4   \\\\\n",
       "\t MALE   & 6      & 0.6   \\\\\n",
       "\\end{tabular}\n",
       "\n",
       "\\item \\begin{tabular}{r|lll}\n",
       " major & frequency.count & proportions\\\\\n",
       "\\hline\n",
       "\t CONSUMERSCIENCE & 1               & 0.1            \\\\\n",
       "\t ECON            & 6               & 0.6            \\\\\n",
       "\t HEALTH          & 1               & 0.1            \\\\\n",
       "\t HUMANRESOURCE   & 1               & 0.1            \\\\\n",
       "\t PSYCH           & 1               & 0.1            \\\\\n",
       "\\end{tabular}\n",
       "\n",
       "\\item \\begin{tabular}{r|lll}\n",
       " games.any & frequency.count & proportions\\\\\n",
       "\\hline\n",
       "\t Has.Attended   & 4              & 0.4           \\\\\n",
       "\t Never.Attended & 6              & 0.6           \\\\\n",
       "\\end{tabular}\n",
       "\n",
       "\\item \\begin{tabular}{r|lll}\n",
       " commute & frequency.count & proportions\\\\\n",
       "\\hline\n",
       "\t YES & 10  & 1  \\\\\n",
       "\\end{tabular}\n",
       "\n",
       "\\item \\begin{tabular}{r|lll}\n",
       " econ & frequency.count & proportions\\\\\n",
       "\\hline\n",
       "\t ECON     & 6        & 0.6     \\\\\n",
       "\t Not.Econ & 4        & 0.4     \\\\\n",
       "\\end{tabular}\n",
       "\n",
       "\\end{enumerate}\n"
      ],
      "text/markdown": [
       "1. \n",
       "gender | frequency.count | proportions | \n",
       "|---|---|\n",
       "| FEMALE | 4      | 0.4    | \n",
       "| MALE   | 6      | 0.6    | \n",
       "\n",
       "\n",
       "\n",
       "2. \n",
       "major | frequency.count | proportions | \n",
       "|---|---|---|---|---|\n",
       "| CONSUMERSCIENCE | 1               | 0.1             | \n",
       "| ECON            | 6               | 0.6             | \n",
       "| HEALTH          | 1               | 0.1             | \n",
       "| HUMANRESOURCE   | 1               | 0.1             | \n",
       "| PSYCH           | 1               | 0.1             | \n",
       "\n",
       "\n",
       "\n",
       "3. \n",
       "games.any | frequency.count | proportions | \n",
       "|---|---|\n",
       "| Has.Attended   | 4              | 0.4            | \n",
       "| Never.Attended | 6              | 0.6            | \n",
       "\n",
       "\n",
       "\n",
       "4. \n",
       "commute | frequency.count | proportions | \n",
       "|---|\n",
       "| YES | 10  | 1   | \n",
       "\n",
       "\n",
       "\n",
       "5. \n",
       "econ | frequency.count | proportions | \n",
       "|---|---|\n",
       "| ECON     | 6        | 0.6      | \n",
       "| Not.Econ | 4        | 0.4      | \n",
       "\n",
       "\n",
       "\n",
       "\n",
       "\n"
      ],
      "text/plain": [
       "[[1]]\n",
       "# A tibble: 2 x 3\n",
       "  gender frequency.count proportions\n",
       "  <fct>            <int>       <dbl>\n",
       "1 FEMALE               4         0.4\n",
       "2 MALE                 6         0.6\n",
       "\n",
       "[[2]]\n",
       "# A tibble: 5 x 3\n",
       "  major           frequency.count proportions\n",
       "  <fct>                     <int>       <dbl>\n",
       "1 CONSUMERSCIENCE               1         0.1\n",
       "2 ECON                          6         0.6\n",
       "3 HEALTH                        1         0.1\n",
       "4 HUMANRESOURCE                 1         0.1\n",
       "5 PSYCH                         1         0.1\n",
       "\n",
       "[[3]]\n",
       "# A tibble: 2 x 3\n",
       "  games.any      frequency.count proportions\n",
       "  <fct>                    <int>       <dbl>\n",
       "1 Has.Attended                 4         0.4\n",
       "2 Never.Attended               6         0.6\n",
       "\n",
       "[[4]]\n",
       "# A tibble: 1 x 3\n",
       "  commute frequency.count proportions\n",
       "  <fct>             <int>       <dbl>\n",
       "1 YES                  10           1\n",
       "\n",
       "[[5]]\n",
       "# A tibble: 2 x 3\n",
       "  econ     frequency.count proportions\n",
       "  <fct>              <int>       <dbl>\n",
       "1 ECON                   6         0.6\n",
       "2 Not.Econ               4         0.4\n"
      ]
     },
     "metadata": {},
     "output_type": "display_data"
    }
   ],
   "source": [
    "# We will now use lapply, the single line loop tool in R\n",
    "# Below, we are plugging each element of the list one by one into the function\n",
    "# dplyr.freq.table, the first argument of the function is the dataset name\n",
    "# which is fixed as df = df_survey\n",
    "lapply(categorical.nomial.list,\n",
    "       dplyr.freq.table,\n",
    "       df = df_survey)"
   ]
  },
  {
   "cell_type": "markdown",
   "metadata": {},
   "source": [
    "## Continuous/Quantitative\n",
    "\n",
    "Graphically, we can show a continuous variable using a histogram. This could be test scores, temperatures, years in Houston, etc. This involves first creating a categorical/discrete variable based on the continuous variable. Since the underlying continuous variable is ordered (low to high temperature unless major which is not ordered), the categorical/discrete variable we generate is an ordered categorical variable (majors could be called unordered categorical variable). \n",
    "\n",
    "### Histogram with Lapply\n",
    "To generate the histogram, we:\n",
    "1. Make sure that all observations belongs to one category\n",
    "    + no observations belonging to no categories\n",
    "    + each observation only belongs to one category\n",
    "2. Each category is equidistance along the continuous variable's original scale. \n",
    "3. Then we create a bar graph where each bar is a category, and the height of the bar represents the number of observations within that category. "
   ]
  },
  {
   "cell_type": "code",
   "execution_count": 32,
   "metadata": {},
   "outputs": [],
   "source": [
    "# We will write a histogram function\n",
    "ggplot.histogram <- function(df, cts.var.str){    \n",
    "    \n",
    "    # Figure Size\n",
    "    options(repr.plot.width = 4, repr.plot.height = 3)\n",
    "    \n",
    "    # Figure Title\n",
    "    title <- sprintf(\"Histogram for %s in %s\", cts.var.str, deparse(substitute(df)))\n",
    "    \n",
    "    # We have in our 10 student survey only 10 observations\n",
    "    # We can still generate a histogram for our continuous variables\n",
    "    # Will only use three bins\n",
    "    histogram.3bins <- ggplot(df_survey, aes(x=!!sym(cts.var.str))) +\n",
    "      geom_histogram(bins=3) +\n",
    "      labs(title = paste0(title),\n",
    "           caption = 'In Class Survey of 10 Students\\n3 bins') +\n",
    "      theme_bw()\n",
    "    \n",
    "    # obtain the data in the plot\n",
    "    plot_data <- ggplot_build(histogram.3bins)\n",
    "    # the dataframe below contains all the information for the histogram\n",
    "    # bins and number of observations in each bins\n",
    "    plot_dataframe <- plot_data$data[[1]]\n",
    "    \n",
    "    # return outputs\n",
    "    return(list(gghist=histogram.3bins, hist.df=plot_dataframe))\n",
    "}"
   ]
  },
  {
   "cell_type": "code",
   "execution_count": 33,
   "metadata": {},
   "outputs": [
    {
     "name": "stdout",
     "output_type": "stream",
     "text": [
      "[[1]]\n",
      "[[1]]$gghist\n",
      "\n",
      "[[1]]$hist.df\n",
      "  y count  x xmin xmax    density ncount ndensity PANEL group ymin ymax colour\n",
      "1 2     2  0 -5.5  5.5 0.01818182   0.25     0.25     1    -1    0    2     NA\n",
      "2 0     0 11  5.5 16.5 0.00000000   0.00     0.00     1    -1    0    0     NA\n",
      "3 8     8 22 16.5 27.5 0.07272727   1.00     1.00     1    -1    0    8     NA\n",
      "    fill size linetype alpha\n",
      "1 grey35  0.5        1    NA\n",
      "2 grey35  0.5        1    NA\n",
      "3 grey35  0.5        1    NA\n",
      "\n",
      "\n",
      "[[1]]\n",
      "[[1]]$gghist\n"
     ]
    },
    {
     "data": {
      "image/png": "[encoded data removed]",
      "text/plain": [
       "plot without title"
      ]
     },
     "metadata": {},
     "output_type": "display_data"
    },
    {
     "name": "stdout",
     "output_type": "stream",
     "text": [
      "\n",
      "[[1]]$hist.df\n",
      "  y count    x  xmin  xmax density ncount ndensity PANEL group ymin ymax colour\n",
      "1 8     8  0.0 -6.25  6.25   0.064  1.000    1.000     1    -1    0    8     NA\n",
      "2 1     1 12.5  6.25 18.75   0.008  0.125    0.125     1    -1    0    1     NA\n",
      "3 1     1 25.0 18.75 31.25   0.008  0.125    0.125     1    -1    0    1     NA\n",
      "    fill size linetype alpha\n",
      "1 grey35  0.5        1    NA\n",
      "2 grey35  0.5        1    NA\n",
      "3 grey35  0.5        1    NA\n",
      "\n",
      "\n"
     ]
    },
    {
     "data": {
      "image/png": "[encoded data removed]",
      "text/plain": [
       "plot without title"
      ]
     },
     "metadata": {},
     "output_type": "display_data"
    }
   ],
   "source": [
    "# Now the list of continuous Variables and calling the function with lapply\n",
    "cts.list <- c('years.in.houston', 'games.attended')\n",
    "\n",
    "# lapply\n",
    "results <- lapply(cts.list,\n",
    "       ggplot.histogram,\n",
    "       df = df_survey)\n",
    "\n",
    "# Show results\n",
    "for (ctr in seq_along(cts.list)){\n",
    "    print(results[ctr])\n",
    "}\n",
    "    "
   ]
  }
 ],
 "metadata": {
  "kernelspec": {
   "display_name": "R",
   "language": "R",
   "name": "ir"
  },
  "language_info": {
   "codemirror_mode": "r",
   "file_extension": ".r",
   "mimetype": "text/x-r-source",
   "name": "R",
   "pygments_lexer": "r",
   "version": "3.5.1"
  }
 },
 "nbformat": 4,
 "nbformat_minor": 2
}
