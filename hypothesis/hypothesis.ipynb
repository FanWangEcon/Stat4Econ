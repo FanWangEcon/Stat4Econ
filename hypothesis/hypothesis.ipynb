{
 "cells": [
  {
   "cell_type": "markdown",
   "metadata": {},
   "source": [
    "# Hypothesis Testing"
   ]
  },
  {
   "cell_type": "markdown",
   "metadata": {},
   "source": [
    "## Level of Confidence and Critical Values\n",
    "Let's calculate z-score numbers corresponding to different probabilities\n",
    "\n",
    "$$Z_{\\alpha}$$\n",
    "\n",
    "$$P(Z \\le Z) = \\alpha$$\n",
    "\n",
    "$$P(Z \\le Z) = \\frac{\\alpha}{2}$$\n",
    "\n",
    "what are the critical values associated with different probability areas. \n",
    "\n",
    "A table, first column is prob, second is critical. \n",
    "\n",
    "Prob(z<z\n"
   ]
  },
  {
   "cell_type": "markdown",
   "metadata": {},
   "source": [
    "## Hypthesis Test Examples\n",
    "\n",
    "how many pieces are in the same M&M bag, what is the distribution of number of M&Ms, what is the sampling distribution, what is the chance that a particular M&M comes from the underlying distribution?\n",
    "\n",
    "Note $N=1$ also a possibility\n",
    "\n",
    "lower tail test\n",
    "upper tail test"
   ]
  },
  {
   "cell_type": "markdown",
   "metadata": {},
   "source": [
    "## Hypothesis Testing Procedures\n",
    "\n",
    "We have a hypothesis, we form null and alternative\n",
    "\n",
    "First form the hypothesis\n",
    "\n",
    "1. what is null and alternative hypothesis\n",
    "\n",
    "2. pick significance level\n",
    "\n",
    "3. obtain test statistics\n",
    "\n",
    "Sample mean, sample standard deviation, and sample size\n"
   ]
  },
  {
   "cell_type": "code",
   "execution_count": null,
   "metadata": {},
   "outputs": [],
   "source": []
  }
 ],
 "metadata": {
  "kernelspec": {
   "display_name": "R",
   "language": "R",
   "name": "ir"
  },
  "language_info": {
   "codemirror_mode": "r",
   "file_extension": ".r",
   "mimetype": "text/x-r-source",
   "name": "R",
   "pygments_lexer": "r",
   "version": "3.5.1"
  }
 },
 "nbformat": 4,
 "nbformat_minor": 2
}
