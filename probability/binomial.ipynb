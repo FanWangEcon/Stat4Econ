{
 "cells": [
  {
   "cell_type": "markdown",
   "metadata": {},
   "source": [
    "# Binomial \n",
    "\n",
    "Draw the trees again, what are the rules for binomial \n",
    "\n",
    "## Tree\n",
    "\n",
    "4 times, each time 2 outcomes\n",
    "\n",
    "## Number of wins and losses\n",
    "\n",
    "Could win 0, 1, 2, 3, 4 times. \n",
    "What is the chance of each of these outcomes happening?\n",
    "\n",
    "### Probability for 3 wins\n",
    "\n",
    "### Path for 3 wins\n",
    "\n",
    "### Combinations of Possible Paths\n",
    "\n",
    "New tree, position of wins, knowing we win 3 times. Show that this is combination. \n",
    "\n",
    "# Trinomial \n",
    "\n",
    "The rules don't care how much outcomes there are"
   ]
  }
 ],
 "metadata": {
  "kernelspec": {
   "display_name": "R",
   "language": "R",
   "name": "ir"
  },
  "language_info": {
   "codemirror_mode": "r",
   "file_extension": ".r",
   "mimetype": "text/x-r-source",
   "name": "R",
   "pygments_lexer": "r",
   "version": "3.5.1"
  }
 },
 "nbformat": 4,
 "nbformat_minor": 2
}
