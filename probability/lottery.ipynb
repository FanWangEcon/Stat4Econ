{
 "cells": [
  {
   "cell_type": "markdown",
   "metadata": {},
   "source": [
    "# Key Concepts\n",
    "\n",
    "Three key questions:\n",
    "\n",
    "- What are the possible experimental outcomes?\n",
    "- What are the probabilities associated with each of the experimental outcomes?\n",
    "- What are the gains and losses associated with each outcome\n",
    "\n",
    "# PLaying the Lottern Three times, Rules and What is going On\n",
    "\n",
    "We are thinking about the problem from day zero perspective. We could play the lottery three times, on day one, day two and day three. \n",
    "\n",
    "What are the possible outcomes? We could win lottery.\n",
    "\n",
    "# The Tree Structure with Probability Written on it\n",
    "\n",
    "Draw the Tree.\n",
    "\n",
    "# Path, Probability of Each Path, and Gains/Losses along each path\n",
    "\n",
    "## Path\n",
    "- Each path is a different experimental outcome from day zero perspective. \n",
    "- Three paths have 2 wins and 1 loss\n",
    "- Three paths have 2 losses and 1 win\n",
    "- One path has three losses\n",
    "- One path has three wins\n",
    "\n",
    "Note: The fact that along 3 of the paths, we have 2 wins and 1 loss does not mean the probability of getting two wins and one loss is $\\frac{3}{8}$. In our presidential election example, different candidates could win the election, those are like the paths here. The fact that we have four candidates does not mean the chance of each candidate winning is $\\frac{1}{4}$.\n",
    "\n",
    "## Probability for Each Path\n",
    "\n",
    "The three paths in which we win twice and lose once have the same probabilities. \n",
    "\n",
    "## Outcomes\n",
    "\n",
    "Earnings are different for each path\n",
    "\n",
    "\n",
    "\n",
    "\n",
    "\n",
    "\n",
    "\n"
   ]
  }
 ],
 "metadata": {
  "kernelspec": {
   "display_name": "R",
   "language": "R",
   "name": "ir"
  },
  "language_info": {
   "codemirror_mode": "r",
   "file_extension": ".r",
   "mimetype": "text/x-r-source",
   "name": "R",
   "pygments_lexer": "r",
   "version": "3.5.1"
  }
 },
 "nbformat": 4,
 "nbformat_minor": 2
}
