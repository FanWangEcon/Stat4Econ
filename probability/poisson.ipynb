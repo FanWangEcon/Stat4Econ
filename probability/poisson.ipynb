{
 "cells": [
  {
   "cell_type": "markdown",
   "metadata": {},
   "source": [
    "**[Back to Fan's Intro Stat Table of Content](https://fanwangecon.github.io/Stat4Econ/)**\n",
    "\n",
    "# Possion Probability Distribution\n",
    "\n",
    "We looked at the binomial probability distribution [Discrete Random Variable and Binomial Experiment](https://fanwangecon.github.io/Stat4Econ/probability/binomial.html).\n",
    "\n",
    "Now we look at the poisson distribution"
   ]
  },
  {
   "cell_type": "markdown",
   "metadata": {},
   "source": [
    "## Poisson Probability Distribution\n",
    "\n",
    "Suppose you run a restaurant, maybe you know on average how many guests arrive on a weekday night between 6 and 9, but every night the exact number might be different, what is the distribution of guest arrivals? By chance, there could be $0$ guests, there could also be a lot more guest than average potentially. We use the poisson distribution to think about these arrival probabilities. \n",
    "\n",
    "For us to use the Poisson distribution, the experiment we study need to have these two properties (ASWCC P250): \n",
    "\n",
    "1. \"The probability of an occurrence is the same for any two intervals of equal length.\"\n",
    "2. \"The occurrence or nonoccurrence in any interval is independent of the occurrence or nonoccurrence in any other interval.\"\n",
    "\n",
    "### Poisson Sample Space\n",
    "\n",
    "Guests arrive at your restaurant between 6 and 8 on a weekday night, 0 guest could arrive, 1, 2, 3, ..., 10, 11, 13, ... , 20, 21, 22, .... Unlike in the Binomial case, where we have a maximum number of games that we can win out of $n$ games played, here we don't impose a maximum number of guests that can arrive.\n",
    "\n",
    "- Experiment: arrivals\n",
    "- Experimental outcomes: $x=0,x=1,...,...$, unlike the bionomial, there is no limit here\n",
    "- Sample Space: $S=\\left\\{0,1,...,...\\right\\}$ (the support is infinite)\n",
    "\n",
    "### Binomial Probability Mass Funcion\n",
    "\n",
    "What is the probability of having $x$ arrivals during an interval of time given that the expected (mean) number of arrival in that interval of time is $\\mu$? The answer is given by this formula, which is the poisson probability mass function:\n",
    "$$\n",
    "\\begin{eqnarray}\n",
    "f(x;\\mu) &=& \\frac{\\mu^{x} \\cdot e^{-\\mu}}{x!}\\\\         \n",
    "\\end{eqnarray}\n",
    "$$\n",
    "\n",
    "With the poisson experiment, we have this formula to assign probabilities. The formula has two inputs, $x$ and $\\mu$. $e=2.71828$ is not a parameter, it is a fixed number like $\\pi$, it is a mathematical constant. You need to tell R, Excel, or alternative programs what these two numbers $x$ and $\\mu$ are, and the program will spit a probability out for you. $\\mu$ is the parameter.\n",
    "\n",
    "### Poisson Expected Value and Variance\n",
    "\n",
    "For the Poisson discrete random variable, it turns out the expected value and variance are:\n",
    "$$E(x) = \\mu$$\n",
    "$$Var(x) = \\mu$$\n",
    "\n",
    "We can check by summing over : $E(x) = \\mu_x = \\Sigma x \\cdot f(x)$ and $Var(x) = \\sigma_x^2 = \\Sigma \\left( (x - \\mu_x)^2 \\cdot f(x) \\right)$, and we will always end up with these two results. Note that if we are actually adding up terms, since there is no maximum arrival limit, we have to approximate the summation up to a large number of arrivals.\n"
   ]
  },
  {
   "cell_type": "markdown",
   "metadata": {},
   "source": [
    "## Poisson Example: Horse-Kicking\n",
    "\n",
    "Using data from the [Prussian Army](https://en.wikipedia.org/wiki/Prussian_Army) on \"number of soldiers killed by being kicked by a horse each year in each of 14 cavalry corps over a 20-year period\", [Ladislaus Bortkiewicz](https://en.wikipedia.org/wiki/Ladislaus_Bortkiewicz) showed in 1898 in [Gesetz der kleinen Zahlen (The Rule of Small Numbers)](https://de.wikipedia.org/wiki/Gesetz_der_kleinen_Zahlen) that this followed the Poisson distribution. This is one of the most famous examples of the Poisson Distribution.\n",
    "\n",
    "He found that there was 0.70 deaths per one corps per one year. \n",
    "\n",
    "### Chance of 2 death per year per corp\n",
    "\n",
    "- $x=2$: 2 death per corp per year by horse-kick\n",
    "- $\\mu=0.70$\n",
    "\n",
    "For example, the chance that $2$ soldier from each corp in each year die of horse kick:\n",
    "$$f\\left(x=2;\\mu=0.7\\right) = \\frac{0.7^{2} \\cdot e^{-0.7}}{2!} = 0.122$$\n",
    "\n",
    "We can use the r function, *dpois*, to calculate these probabilites: *dpois(2, 0.7)*. Additionally, *ppois(2,0.7)* calculates the cumulative probability that at most 2 die from horse-kick."
   ]
  },
  {
   "cell_type": "markdown",
   "metadata": {},
   "source": [
    "### Distributional Graphs Horse Kicking Death Per Corp Per Year\n",
    "\n",
    "We can see from the results below that given our parameter $\\mu=0.7$, there is almost a 50 percent chance that a corp has no death from horse kick in a year. And the chances that 1, 2, 3 and 4 Prussian soldiers die from horse-kick are 35, 12, 3, and 0.5 percent. \n",
    "\n",
    "The chance that at least 2 soldiers die from each corp each year is 16 percent. \n",
    "\n",
    "If you are running the Prussian Army, you would want to know these statistics. You would want to track these statistics overtime and try to improve training etc. "
   ]
  },
  {
   "cell_type": "code",
   "execution_count": 13,
   "metadata": {},
   "outputs": [
    {
     "data": {
      "image/png": "[encoded data removed]",
      "text/plain": [
       "plot without title"
      ]
     },
     "metadata": {},
     "output_type": "display_data"
    }
   ],
   "source": [
    "library(tidyverse)\n",
    "\n",
    "# Parameters\n",
    "n <- 10\n",
    "mu <- 0.70\n",
    "\n",
    "# Generate Data\n",
    "# A vector of different survival counts\n",
    "zero2large <- 0:n\n",
    "# Probability for different survival counts\n",
    "prob_of_diekicks <- dpois(zero2large, mu)\n",
    "# Cumulative Probability for different survival counts, before dbinom, now pbinom\n",
    "cumulative_prob_of_diekicks <- ppois(zero2large, mu)\n",
    "# Data File that Includes Cumulative Probability and Mass\n",
    "diekick.prob <- tibble(diekicks=(zero2large), prob=prob_of_diekicks, cum.prob=cumulative_prob_of_diekicks)\n",
    "\n",
    "# Control Graph Size\n",
    "options(repr.plot.width = 5, repr.plot.height = 4)\n",
    "# Two axis colors\n",
    "axis.sec.ratio <- max(cumulative_prob_of_diekicks)/max(prob_of_diekicks)\n",
    "right.axis.color <- 'blue'\n",
    "left.axis.color <- 'red'\n",
    "\n",
    "# Probabilities\n",
    "diekick.graph <- diekick.prob %>%\n",
    "    ggplot(aes(x=diekicks)) + \n",
    "    geom_bar(aes(y=prob),\n",
    "             stat='identity', alpha=0.5, width=0.5, fill=left.axis.color) + \n",
    "    geom_text(aes(y=prob,\n",
    "                  label = paste0(sprintf('%2.1f', prob*100), '%')),\n",
    "              vjust = -0., size = 3, color=left.axis.color, fontface='bold') \n",
    "\n",
    "# Cumulative Probabilities\n",
    "diekick.graph <- diekick.graph + \n",
    "    geom_line(aes(y=cum.prob/axis.sec.ratio),\n",
    "              alpha=0.25, size=1, color=right.axis.color) + \n",
    "    geom_point(aes(y=cum.prob/axis.sec.ratio),\n",
    "               alpha=0.75, size=2, shape=23, fill=right.axis.color) + \n",
    "    geom_text(aes(y=cum.prob/axis.sec.ratio,\n",
    "                  label = paste0(sprintf('%2.0f', cum.prob*100), '%')),\n",
    "              vjust = -0.5, size = 3, color=right.axis.color, fontface='bold')\n",
    "\n",
    "\n",
    "# Graph Strings\n",
    "graph.title <- sprintf(\n",
    "    paste0('Death from Horse Kick Per Corp Per Year\\n',\n",
    "           'Prob Mass (Left) and Cumulative Prob (Right)'))\n",
    "graph.caption <- sprintf(\n",
    "    paste0('Assuming the Poisson properties apply\\n',\n",
    "           'Ladislaus Bortkiewicz Prussian Data\\n',\n",
    "           'Death By Horse Kick Per Corp Per Year = %s'), mu)\n",
    "graph.title.x <- 'Number of Soldiers Die of Horse Kick'\n",
    "graph.title.y.axisleft <- 'Prob of x Die of Horse Kick'\n",
    "graph.title.y.axisright <- 'Prob of at Most x Die Of Horse Kick'\n",
    "\n",
    "# Graphing\n",
    "diekick.graph <- diekick.graph + \n",
    "    labs(title = graph.title,\n",
    "         x = graph.title.x,\n",
    "         y = graph.title.y.axisleft,\n",
    "         caption = graph.caption) +\n",
    "    scale_y_continuous(sec.axis = \n",
    "                       sec_axis(~.*axis.sec.ratio,\n",
    "                                name = graph.title.y.axisright)) +\n",
    "    scale_x_continuous(labels = zero2large[floor(seq(1,n,length.out=10))],\n",
    "                       breaks = zero2large[floor(seq(1,n,length.out=10))]) +\n",
    "    theme(axis.text.y = element_text(face='bold'),\n",
    "          axis.text.y.right = element_text(color = right.axis.color),\n",
    "          axis.text.y.left = element_text(color = left.axis.color))\n",
    "\n",
    "# Print\n",
    "print(diekick.graph)"
   ]
  },
  {
   "cell_type": "code",
   "execution_count": 14,
   "metadata": {},
   "outputs": [
    {
     "data": {
      "text/html": [
       "<table>\n",
       "<thead><tr><th scope=col>diekicks</th><th scope=col>prob</th><th scope=col>cum.prob</th></tr></thead>\n",
       "<tbody>\n",
       "\t<tr><td> 0   </td><td>0.497</td><td>0.497</td></tr>\n",
       "\t<tr><td> 1   </td><td>0.348</td><td>0.844</td></tr>\n",
       "\t<tr><td> 2   </td><td>0.122</td><td>0.966</td></tr>\n",
       "\t<tr><td> 3   </td><td>0.028</td><td>0.994</td></tr>\n",
       "\t<tr><td> 4   </td><td>0.005</td><td>0.999</td></tr>\n",
       "\t<tr><td> 5   </td><td>0.001</td><td>1.000</td></tr>\n",
       "\t<tr><td> 6   </td><td>0.000</td><td>1.000</td></tr>\n",
       "\t<tr><td> 7   </td><td>0.000</td><td>1.000</td></tr>\n",
       "\t<tr><td> 8   </td><td>0.000</td><td>1.000</td></tr>\n",
       "\t<tr><td> 9   </td><td>0.000</td><td>1.000</td></tr>\n",
       "\t<tr><td>10   </td><td>0.000</td><td>1.000</td></tr>\n",
       "</tbody>\n",
       "</table>\n"
      ],
      "text/latex": [
       "\\begin{tabular}{r|lll}\n",
       " diekicks & prob & cum.prob\\\\\n",
       "\\hline\n",
       "\t  0    & 0.497 & 0.497\\\\\n",
       "\t  1    & 0.348 & 0.844\\\\\n",
       "\t  2    & 0.122 & 0.966\\\\\n",
       "\t  3    & 0.028 & 0.994\\\\\n",
       "\t  4    & 0.005 & 0.999\\\\\n",
       "\t  5    & 0.001 & 1.000\\\\\n",
       "\t  6    & 0.000 & 1.000\\\\\n",
       "\t  7    & 0.000 & 1.000\\\\\n",
       "\t  8    & 0.000 & 1.000\\\\\n",
       "\t  9    & 0.000 & 1.000\\\\\n",
       "\t 10    & 0.000 & 1.000\\\\\n",
       "\\end{tabular}\n"
      ],
      "text/markdown": [
       "\n",
       "diekicks | prob | cum.prob | \n",
       "|---|---|---|---|---|---|---|---|---|---|---|\n",
       "|  0    | 0.497 | 0.497 | \n",
       "|  1    | 0.348 | 0.844 | \n",
       "|  2    | 0.122 | 0.966 | \n",
       "|  3    | 0.028 | 0.994 | \n",
       "|  4    | 0.005 | 0.999 | \n",
       "|  5    | 0.001 | 1.000 | \n",
       "|  6    | 0.000 | 1.000 | \n",
       "|  7    | 0.000 | 1.000 | \n",
       "|  8    | 0.000 | 1.000 | \n",
       "|  9    | 0.000 | 1.000 | \n",
       "| 10    | 0.000 | 1.000 | \n",
       "\n",
       "\n"
      ],
      "text/plain": [
       "   diekicks prob  cum.prob\n",
       "1   0       0.497 0.497   \n",
       "2   1       0.348 0.844   \n",
       "3   2       0.122 0.966   \n",
       "4   3       0.028 0.994   \n",
       "5   4       0.005 0.999   \n",
       "6   5       0.001 1.000   \n",
       "7   6       0.000 1.000   \n",
       "8   7       0.000 1.000   \n",
       "9   8       0.000 1.000   \n",
       "10  9       0.000 1.000   \n",
       "11 10       0.000 1.000   "
      ]
     },
     "metadata": {},
     "output_type": "display_data"
    }
   ],
   "source": [
    "# Tabular\n",
    "round(as.tibble(diekick.prob), 3)"
   ]
  }
 ],
 "metadata": {
  "kernelspec": {
   "display_name": "R",
   "language": "R",
   "name": "ir"
  },
  "language_info": {
   "codemirror_mode": "r",
   "file_extension": ".r",
   "mimetype": "text/x-r-source",
   "name": "R",
   "pygments_lexer": "r",
   "version": "3.5.1"
  }
 },
 "nbformat": 4,
 "nbformat_minor": 2
}
