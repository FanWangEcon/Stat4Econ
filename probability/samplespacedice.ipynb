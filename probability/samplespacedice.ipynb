{
 "cells": [
  {
   "cell_type": "markdown",
   "metadata": {},
   "source": [
    "**[Back to Fan's Intro Stat Table of Content](https://fanwangecon.github.io/Stat4Econ/)**\n",
    "\n",
    "# Throw an Unfair Four Sided Dice\n",
    "\n",
    "In [Sample Space, Experimental Outcomes, Events, Probabilities](https://fanwangecon.github.io/Stat4Econ/probability/samplespace.html), we discussed various definitions. We went over various examples in [Examples of Sample Space and Probabilities](https://fanwangecon.github.io/Stat4Econ/probability/samplespaceexa.html). Here we look at what happens if we throw a four sided dice many times."
   ]
  },
  {
   "cell_type": "markdown",
   "metadata": {},
   "source": [
    "# Throwing a Dice\n",
    "\n",
    "- Experiment: Throwing a [Four Sided Dice](https://en.wikipedia.org/wiki/Four-sided_die)\n",
    "- Experimental outcomes: lands on one of the four sides\n",
    "- Sample Space: $S=\\left\\{1,2,3,4\\right\\}$\n",
    "\n",
    "### An Unfair Dice\n",
    "In the example below, we will throw an unfair dice, where the probability of landing on the side with 1 is 60 percent, and the chance of landing on each successive side is 60 percent of the chance of landing on the previous side. This is a dice weighted towards the smaller numbers. \n",
    "\n",
    "See the table below for the true probabilities of the unfair dice."
   ]
  },
  {
   "cell_type": "code",
   "execution_count": 19,
   "metadata": {},
   "outputs": [
    {
     "data": {
      "text/html": [
       "<table>\n",
       "<thead><tr><th scope=col>dice.outcomes.list</th><th scope=col>dice.true.prob</th></tr></thead>\n",
       "<tbody>\n",
       "\t<tr><td>1    </td><td>0.600</td></tr>\n",
       "\t<tr><td>2    </td><td>0.240</td></tr>\n",
       "\t<tr><td>3    </td><td>0.096</td></tr>\n",
       "\t<tr><td>4    </td><td>0.064</td></tr>\n",
       "</tbody>\n",
       "</table>\n"
      ],
      "text/latex": [
       "\\begin{tabular}{r|ll}\n",
       " dice.outcomes.list & dice.true.prob\\\\\n",
       "\\hline\n",
       "\t 1     & 0.600\\\\\n",
       "\t 2     & 0.240\\\\\n",
       "\t 3     & 0.096\\\\\n",
       "\t 4     & 0.064\\\\\n",
       "\\end{tabular}\n"
      ],
      "text/markdown": [
       "\n",
       "dice.outcomes.list | dice.true.prob | \n",
       "|---|---|---|---|\n",
       "| 1     | 0.600 | \n",
       "| 2     | 0.240 | \n",
       "| 3     | 0.096 | \n",
       "| 4     | 0.064 | \n",
       "\n",
       "\n"
      ],
      "text/plain": [
       "  dice.outcomes.list dice.true.prob\n",
       "1 1                  0.600         \n",
       "2 2                  0.240         \n",
       "3 3                  0.096         \n",
       "4 4                  0.064         "
      ]
     },
     "metadata": {},
     "output_type": "display_data"
    }
   ],
   "source": [
    "# Load Library\n",
    "library(tidyverse)\n",
    "\n",
    "# Define a List of Experimental Outcomes\n",
    "experimental.outcomes.list <- c(1,2,3,4)\n",
    "\n",
    "# Probabilities on experimental outcomes\n",
    "# Suppose dice is weighted towards 1\n",
    "fracbase <- 0.6\n",
    "experimental.outcome.prob <- c((1-fracbase)^0*fracbase,\n",
    "                               (1-fracbase)^1*fracbase,\n",
    "                               (1-fracbase)^2*fracbase,\n",
    "                               (1-fracbase)^3)\n",
    "\n",
    "# Show these in a Tibble\n",
    "dice.true.prob <- tibble(dice.outcomes.list = experimental.outcomes.list,\n",
    "                         dice.true.prob = experimental.outcome.prob)\n",
    "dice.true.prob"
   ]
  },
  {
   "cell_type": "markdown",
   "metadata": {},
   "source": [
    "### Throw the Dice 5 Times\n",
    "\n",
    "We throw the dice 5 times, each time, get one of the four possible experimental outcomes, the chance of getting these outcomes are determined by the true probabilities of the unfair dice."
   ]
  },
  {
   "cell_type": "code",
   "execution_count": 20,
   "metadata": {},
   "outputs": [
    {
     "data": {
      "text/html": [
       "<table>\n",
       "<thead><tr><th scope=col>which.future.dice</th><th scope=col>dice.draws</th></tr></thead>\n",
       "<tbody>\n",
       "\t<tr><td>dice draws:1</td><td>3           </td></tr>\n",
       "\t<tr><td>dice draws:2</td><td>1           </td></tr>\n",
       "\t<tr><td>dice draws:3</td><td>1           </td></tr>\n",
       "\t<tr><td>dice draws:4</td><td>3           </td></tr>\n",
       "\t<tr><td>dice draws:5</td><td>1           </td></tr>\n",
       "</tbody>\n",
       "</table>\n"
      ],
      "text/latex": [
       "\\begin{tabular}{r|ll}\n",
       " which.future.dice & dice.draws\\\\\n",
       "\\hline\n",
       "\t dice draws:1 & 3           \\\\\n",
       "\t dice draws:2 & 1           \\\\\n",
       "\t dice draws:3 & 1           \\\\\n",
       "\t dice draws:4 & 3           \\\\\n",
       "\t dice draws:5 & 1           \\\\\n",
       "\\end{tabular}\n"
      ],
      "text/markdown": [
       "\n",
       "which.future.dice | dice.draws | \n",
       "|---|---|---|---|---|\n",
       "| dice draws:1 | 3            | \n",
       "| dice draws:2 | 1            | \n",
       "| dice draws:3 | 1            | \n",
       "| dice draws:4 | 3            | \n",
       "| dice draws:5 | 1            | \n",
       "\n",
       "\n"
      ],
      "text/plain": [
       "  which.future.dice dice.draws\n",
       "1 dice draws:1      3         \n",
       "2 dice draws:2      1         \n",
       "3 dice draws:3      1         \n",
       "4 dice draws:4      3         \n",
       "5 dice draws:5      1         "
      ]
     },
     "metadata": {},
     "output_type": "display_data"
    }
   ],
   "source": [
    "# What could happen tomorrow?\n",
    "# We live in a probabilistic world, drawing future from a hat\n",
    "# If we draw 5 times, what happens in the future?\n",
    "# It's pretty amazing, we get to see the future!\n",
    "number.of.futures.to.draw = 5\n",
    "future.dice.draws <- sample(experimental.outcomes.list,\n",
    "                                 size = number.of.futures.to.draw,\n",
    "                                 replace = TRUE, \n",
    "                                 prob = experimental.outcome.prob)\n",
    "\n",
    "# A little tibble to show results\n",
    "tibble(which.future.dice = paste0('dice draws:', 1:number.of.futures.to.draw),\n",
    "       dice.draws = future.dice.draws)"
   ]
  },
  {
   "cell_type": "markdown",
   "metadata": {},
   "source": [
    "### Throw the dice 50, 5000 and 500,000 times\n",
    "\n",
    "If we throw the dice 50 times, 5000 times, 500,000 times, what will happen?\n",
    "\n",
    "For each group of experiments, we can aggregate the *empirical distribution* of the four sides. The more times we throw the dice, the closer our empirical distribution gets to the true distribution. We can see the result from the table below. \n",
    "\n",
    "To do this, we first write a function, then we lapply to invoke the function multiple times."
   ]
  },
  {
   "cell_type": "code",
   "execution_count": 21,
   "metadata": {},
   "outputs": [],
   "source": [
    "# Function to Make Many Draws\n",
    "future.draws <- function(number.of.futures.to.draw, select.dice.draws=FALSE) {\n",
    "    # Number.of.futures.to.draw = 500\n",
    "    # Future Draws\n",
    "    \n",
    "    dice.draws <- sample(experimental.outcomes.list,\n",
    "                      size = number.of.futures.to.draw,\n",
    "                      replace = TRUE, \n",
    "                      prob = experimental.outcome.prob)\n",
    "    \n",
    "    # Empirical Distribution Name\n",
    "    sample.frac.var <- paste0('sample.frac.n', sprintf(\"%d\", number.of.futures.to.draw))\n",
    "\n",
    "    # Group Futures\n",
    "    group.fracs <- tibble(dice.draw = dice.draws) %>% \n",
    "                    group_by(dice.draw) %>% \n",
    "                    summarise(freq = n()) %>% \n",
    "                    mutate(!!sample.frac.var := \n",
    "                           as.numeric(sprintf(\"%0.5f\", freq / sum(freq)))) %>%\n",
    "                    arrange(dice.draw) %>% \n",
    "                    select(dice.draw, !!sample.frac.var) \n",
    "    \n",
    "    # Whether to includ dice.draws categorical\n",
    "    if (select.dice.draws){\n",
    "#         group.fracs <- group.fracs \n",
    "    } else {\n",
    "        group.fracs <- group.fracs %>% select(!!sample.frac.var)\n",
    "    }\n",
    "    \n",
    "    # Return\n",
    "    return(group.fracs)\n",
    "}"
   ]
  },
  {
   "cell_type": "code",
   "execution_count": 22,
   "metadata": {},
   "outputs": [
    {
     "data": {
      "text/html": [
       "<table>\n",
       "<thead><tr><th scope=col>dice.outcomes.list</th><th scope=col>dice.true.prob</th><th scope=col>sample.frac.n1000</th><th scope=col>sample.frac.n5000</th><th scope=col>sample.frac.n500000</th></tr></thead>\n",
       "<tbody>\n",
       "\t<tr><td>1      </td><td>0.600  </td><td>0.633  </td><td>0.5904 </td><td>0.60030</td></tr>\n",
       "\t<tr><td>2      </td><td>0.240  </td><td>0.214  </td><td>0.2458 </td><td>0.23978</td></tr>\n",
       "\t<tr><td>3      </td><td>0.096  </td><td>0.091  </td><td>0.1022 </td><td>0.09546</td></tr>\n",
       "\t<tr><td>4      </td><td>0.064  </td><td>0.062  </td><td>0.0616 </td><td>0.06446</td></tr>\n",
       "</tbody>\n",
       "</table>\n"
      ],
      "text/latex": [
       "\\begin{tabular}{r|lllll}\n",
       " dice.outcomes.list & dice.true.prob & sample.frac.n1000 & sample.frac.n5000 & sample.frac.n500000\\\\\n",
       "\\hline\n",
       "\t 1       & 0.600   & 0.633   & 0.5904  & 0.60030\\\\\n",
       "\t 2       & 0.240   & 0.214   & 0.2458  & 0.23978\\\\\n",
       "\t 3       & 0.096   & 0.091   & 0.1022  & 0.09546\\\\\n",
       "\t 4       & 0.064   & 0.062   & 0.0616  & 0.06446\\\\\n",
       "\\end{tabular}\n"
      ],
      "text/markdown": [
       "\n",
       "dice.outcomes.list | dice.true.prob | sample.frac.n1000 | sample.frac.n5000 | sample.frac.n500000 | \n",
       "|---|---|---|---|\n",
       "| 1       | 0.600   | 0.633   | 0.5904  | 0.60030 | \n",
       "| 2       | 0.240   | 0.214   | 0.2458  | 0.23978 | \n",
       "| 3       | 0.096   | 0.091   | 0.1022  | 0.09546 | \n",
       "| 4       | 0.064   | 0.062   | 0.0616  | 0.06446 | \n",
       "\n",
       "\n"
      ],
      "text/plain": [
       "  dice.outcomes.list dice.true.prob sample.frac.n1000 sample.frac.n5000\n",
       "1 1                  0.600          0.633             0.5904           \n",
       "2 2                  0.240          0.214             0.2458           \n",
       "3 3                  0.096          0.091             0.1022           \n",
       "4 4                  0.064          0.062             0.0616           \n",
       "  sample.frac.n500000\n",
       "1 0.60030            \n",
       "2 0.23978            \n",
       "3 0.09546            \n",
       "4 0.06446            "
      ]
     },
     "metadata": {},
     "output_type": "display_data"
    }
   ],
   "source": [
    "# Draw future 10, 100, 1000, 10000, 100000 times\n",
    "# How many times we get 1,2,3,4?\n",
    "number.of.futures.to.draw.list = c(1000, 5000, 500000)\n",
    "\n",
    "# Apply function\n",
    "bind_cols(dice.true.prob, lapply(number.of.futures.to.draw.list, future.draws))"
   ]
  },
  {
   "cell_type": "markdown",
   "metadata": {},
   "source": [
    "### Throw Four Sided Dice Different Number of Times, and Melt Data\n",
    "Using the function we created above, we can draw a graph that shows what happens to the empirical distribution of four dice sides as we increase the number of draws."
   ]
  },
  {
   "cell_type": "code",
   "execution_count": 23,
   "metadata": {},
   "outputs": [
    {
     "data": {
      "text/html": [
       "<table>\n",
       "<thead><tr><th scope=col>dice.draw</th><th scope=col>draw.count</th><th scope=col>value</th></tr></thead>\n",
       "<tbody>\n",
       "\t<tr><td>dice side = 1</td><td>100          </td><td>0.54000      </td></tr>\n",
       "\t<tr><td>dice side = 2</td><td>100          </td><td>0.27000      </td></tr>\n",
       "\t<tr><td>dice side = 3</td><td>100          </td><td>0.13000      </td></tr>\n",
       "\t<tr><td>dice side = 4</td><td>100          </td><td>0.06000      </td></tr>\n",
       "\t<tr><td>dice side = 1</td><td>101          </td><td>0.57426      </td></tr>\n",
       "\t<tr><td>dice side = 2</td><td>101          </td><td>0.26733      </td></tr>\n",
       "\t<tr><td>dice side = 3</td><td>101          </td><td>0.06931      </td></tr>\n",
       "\t<tr><td>dice side = 4</td><td>101          </td><td>0.08911      </td></tr>\n",
       "\t<tr><td>dice side = 1</td><td>103          </td><td>0.57282      </td></tr>\n",
       "\t<tr><td>dice side = 2</td><td>103          </td><td>0.24272      </td></tr>\n",
       "</tbody>\n",
       "</table>\n"
      ],
      "text/latex": [
       "\\begin{tabular}{r|lll}\n",
       " dice.draw & draw.count & value\\\\\n",
       "\\hline\n",
       "\t dice side = 1 & 100           & 0.54000      \\\\\n",
       "\t dice side = 2 & 100           & 0.27000      \\\\\n",
       "\t dice side = 3 & 100           & 0.13000      \\\\\n",
       "\t dice side = 4 & 100           & 0.06000      \\\\\n",
       "\t dice side = 1 & 101           & 0.57426      \\\\\n",
       "\t dice side = 2 & 101           & 0.26733      \\\\\n",
       "\t dice side = 3 & 101           & 0.06931      \\\\\n",
       "\t dice side = 4 & 101           & 0.08911      \\\\\n",
       "\t dice side = 1 & 103           & 0.57282      \\\\\n",
       "\t dice side = 2 & 103           & 0.24272      \\\\\n",
       "\\end{tabular}\n"
      ],
      "text/markdown": [
       "\n",
       "dice.draw | draw.count | value | \n",
       "|---|---|---|---|---|---|---|---|---|---|\n",
       "| dice side = 1 | 100           | 0.54000       | \n",
       "| dice side = 2 | 100           | 0.27000       | \n",
       "| dice side = 3 | 100           | 0.13000       | \n",
       "| dice side = 4 | 100           | 0.06000       | \n",
       "| dice side = 1 | 101           | 0.57426       | \n",
       "| dice side = 2 | 101           | 0.26733       | \n",
       "| dice side = 3 | 101           | 0.06931       | \n",
       "| dice side = 4 | 101           | 0.08911       | \n",
       "| dice side = 1 | 103           | 0.57282       | \n",
       "| dice side = 2 | 103           | 0.24272       | \n",
       "\n",
       "\n"
      ],
      "text/plain": [
       "   dice.draw     draw.count value  \n",
       "1  dice side = 1 100        0.54000\n",
       "2  dice side = 2 100        0.27000\n",
       "3  dice side = 3 100        0.13000\n",
       "4  dice side = 4 100        0.06000\n",
       "5  dice side = 1 101        0.57426\n",
       "6  dice side = 2 101        0.26733\n",
       "7  dice side = 3 101        0.06931\n",
       "8  dice side = 4 101        0.08911\n",
       "9  dice side = 1 103        0.57282\n",
       "10 dice side = 2 103        0.24272"
      ]
     },
     "metadata": {},
     "output_type": "display_data"
    },
    {
     "data": {
      "text/html": [
       "<table>\n",
       "<thead><tr><th scope=col>dice.draw</th><th scope=col>draw.count</th><th scope=col>value</th></tr></thead>\n",
       "<tbody>\n",
       "\t<tr><td>dice side = 3</td><td> 963757      </td><td>0.09662      </td></tr>\n",
       "\t<tr><td>dice side = 4</td><td> 963757      </td><td>0.06392      </td></tr>\n",
       "\t<tr><td>dice side = 1</td><td> 981711      </td><td>0.59975      </td></tr>\n",
       "\t<tr><td>dice side = 2</td><td> 981711      </td><td>0.23951      </td></tr>\n",
       "\t<tr><td>dice side = 3</td><td> 981711      </td><td>0.09599      </td></tr>\n",
       "\t<tr><td>dice side = 4</td><td> 981711      </td><td>0.06475      </td></tr>\n",
       "\t<tr><td>dice side = 1</td><td>1000000      </td><td>0.59943      </td></tr>\n",
       "\t<tr><td>dice side = 2</td><td>1000000      </td><td>0.24048      </td></tr>\n",
       "\t<tr><td>dice side = 3</td><td>1000000      </td><td>0.09602      </td></tr>\n",
       "\t<tr><td>dice side = 4</td><td>1000000      </td><td>0.06407      </td></tr>\n",
       "</tbody>\n",
       "</table>\n"
      ],
      "text/latex": [
       "\\begin{tabular}{r|lll}\n",
       " dice.draw & draw.count & value\\\\\n",
       "\\hline\n",
       "\t dice side = 3 &  963757       & 0.09662      \\\\\n",
       "\t dice side = 4 &  963757       & 0.06392      \\\\\n",
       "\t dice side = 1 &  981711       & 0.59975      \\\\\n",
       "\t dice side = 2 &  981711       & 0.23951      \\\\\n",
       "\t dice side = 3 &  981711       & 0.09599      \\\\\n",
       "\t dice side = 4 &  981711       & 0.06475      \\\\\n",
       "\t dice side = 1 & 1000000       & 0.59943      \\\\\n",
       "\t dice side = 2 & 1000000       & 0.24048      \\\\\n",
       "\t dice side = 3 & 1000000       & 0.09602      \\\\\n",
       "\t dice side = 4 & 1000000       & 0.06407      \\\\\n",
       "\\end{tabular}\n"
      ],
      "text/markdown": [
       "\n",
       "dice.draw | draw.count | value | \n",
       "|---|---|---|---|---|---|---|---|---|---|\n",
       "| dice side = 3 |  963757       | 0.09662       | \n",
       "| dice side = 4 |  963757       | 0.06392       | \n",
       "| dice side = 1 |  981711       | 0.59975       | \n",
       "| dice side = 2 |  981711       | 0.23951       | \n",
       "| dice side = 3 |  981711       | 0.09599       | \n",
       "| dice side = 4 |  981711       | 0.06475       | \n",
       "| dice side = 1 | 1000000       | 0.59943       | \n",
       "| dice side = 2 | 1000000       | 0.24048       | \n",
       "| dice side = 3 | 1000000       | 0.09602       | \n",
       "| dice side = 4 | 1000000       | 0.06407       | \n",
       "\n",
       "\n"
      ],
      "text/plain": [
       "   dice.draw     draw.count value  \n",
       "1  dice side = 3  963757    0.09662\n",
       "2  dice side = 4  963757    0.06392\n",
       "3  dice side = 1  981711    0.59975\n",
       "4  dice side = 2  981711    0.23951\n",
       "5  dice side = 3  981711    0.09599\n",
       "6  dice side = 4  981711    0.06475\n",
       "7  dice side = 1 1000000    0.59943\n",
       "8  dice side = 2 1000000    0.24048\n",
       "9  dice side = 3 1000000    0.09602\n",
       "10 dice side = 4 1000000    0.06407"
      ]
     },
     "metadata": {},
     "output_type": "display_data"
    }
   ],
   "source": [
    "# Generate Data\n",
    "# Log Space Draws of Outcomes\n",
    "number.future.logspace <- floor(exp(log(10)*seq(log10(100),log10(1000000), length.out=500)))\n",
    "\n",
    "# lapply, generating a list of dataframes, then merge together\n",
    "draw.outcomes <- lapply(number.future.logspace,\n",
    "                        future.draws, select.dice.draws=TRUE) %>%\n",
    "                        reduce(full_join, by = 'dice.draw') %>%\n",
    "                        mutate_all(funs(replace_na(.,0))) \n",
    "\n",
    "# Melt Data\n",
    "draw.outcomes.long <- draw.outcomes %>% \n",
    "                        gather(variable, value, -dice.draw) %>% \n",
    "                        dplyr::mutate(draw.count = \n",
    "                                      as.numeric(str_extract(variable, \"[^.n]+$\"))) %>% \n",
    "                        select(dice.draw, draw.count, value)\n",
    "\n",
    "# 1 to 6 are categorical factors\n",
    "draw.outcomes.long$dice.draw <- paste0('dice side = ', draw.outcomes.long$dice.draw)\n",
    "draw.outcomes.long$dice.draw <- factor(draw.outcomes.long$dice.draw)\n",
    "\n",
    "# Show Melt Table\n",
    "head(draw.outcomes.long, n=10)\n",
    "tail(draw.outcomes.long, n=10)"
   ]
  },
  {
   "cell_type": "markdown",
   "metadata": {},
   "source": [
    "### Graphically, What happens when the number of dice throws increase?\n",
    "\n",
    "A crucial thing to understand about probability is that we are not saying if you throw 10 dice, there will be exactly 6 dice out of the 10 that will land on side=1 (given 60 percent probability of landing on side 1).\n",
    "\n",
    "What we are saying is that, given that each dice throw is independent, if we throw the dice many many times, the empirical distribution of dice throws will approximate the actual true probability of landing on each of the four sides of the dice. \n",
    "\n",
    "The graph between demonstrates this. The x-axis is in [log-scale](https://en.wikipedia.org/wiki/Logarithmic_scale). We start with 10 throws, and end with 1 million throws. The Y-axis is the empirical probability, with 0.1=10 percent. We have four colors for each of the four sides.\n",
    "\n",
    "We can see that the empirical probability based on actual dice throws converges to the true probability as we increase the number of dice throws."
   ]
  },
  {
   "cell_type": "code",
   "execution_count": 24,
   "metadata": {},
   "outputs": [
    {
     "data": {
      "image/png": "[encoded data removed]",
      "text/plain": [
       "plot without title"
      ]
     },
     "metadata": {},
     "output_type": "display_data"
    }
   ],
   "source": [
    "# Graph\n",
    "# Control Graph Size\n",
    "options(repr.plot.width = 6, repr.plot.height = 4)\n",
    "\n",
    "# x-labels\n",
    "x.labels <- c('n=100', 'n=1000', 'n=10k', 'n=100k', 'n=1mil')\n",
    "x.breaks <- c(100, 1000, 10000, 100000, 1000000)\n",
    "\n",
    "# title line 2\n",
    "title_line2 <- sprintf(\"P(S=1)=%0.3f, P(S=2)=%0.3f, P(S=3)=%0.3f, P(S=4)=%0.3f\",\n",
    "                   experimental.outcome.prob[1], experimental.outcome.prob[2],\n",
    "                   experimental.outcome.prob[3], experimental.outcome.prob[4])\n",
    "        \n",
    "# Graph Results--Draw\n",
    "line.plot <- draw.outcomes.long %>% \n",
    "  ggplot(aes(x=draw.count, y=value,\n",
    "             group=dice.draw, \n",
    "             colour=dice.draw)) + \n",
    "  geom_line(size=0.75) +\n",
    "  labs(title = paste0('Law of Large Number, Unfair Four Sided Dice\\n', title_line2),\n",
    "       x = 'Number of Times Throwing the Four-sided Dice',\n",
    "       y = 'Empirical Probability Based on Dice Throws',\n",
    "       caption = 'As n increases, approximates true probabilities') +\n",
    "  scale_x_continuous(trans='log10', labels = x.labels, breaks = x.breaks) +\n",
    "  theme_bw()\n",
    "\n",
    "print(line.plot)"
   ]
  }
 ],
 "metadata": {
  "kernelspec": {
   "display_name": "R",
   "language": "R",
   "name": "ir"
  },
  "language_info": {
   "codemirror_mode": "r",
   "file_extension": ".r",
   "mimetype": "text/x-r-source",
   "name": "R",
   "pygments_lexer": "r",
   "version": "3.5.1"
  }
 },
 "nbformat": 4,
 "nbformat_minor": 2
}
