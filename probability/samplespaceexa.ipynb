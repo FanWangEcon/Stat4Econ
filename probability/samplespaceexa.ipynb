{
 "cells": [
  {
   "cell_type": "markdown",
   "metadata": {},
   "source": [
    "**[Back to Fan's Intro Stat Table of Content](https://fanwangecon.github.io/Stat4Econ/)**\n",
    "\n",
    "# Examples of Sample Space and Probabilities\n",
    "\n",
    "In *[Sample Space, Experimental Outcomes, Events, Probabilities](https://fanwangecon.github.io/Stat4Econ/probability/samplespace.html)*, we discussed various definitions. Here are some examples."
   ]
  },
  {
   "cell_type": "markdown",
   "metadata": {},
   "source": [
    "## Throwing a Quarter\n",
    "\n",
    "- Experiment: Throwing a Quarter\n",
    "- Experimental outcomes: lands on Heads or lands on Tails\n",
    "- Sample Space: $S=\\left\\{H, T\\right\\}$\n",
    "- Event: There are only two experimental outcomes. \n",
    "- Probability:\n",
    "    + $1 \\ge P(H) \\ge 0$\n",
    "    + $1 \\ge P(T) \\ge 0$\n",
    "    + $P(H) + P(T) = 1$"
   ]
  },
  {
   "cell_type": "markdown",
   "metadata": {},
   "source": [
    "## Presidential Election\n",
    "\n",
    "After various primaries there are four major candidates who could become president. Voting takes place in half a year. Over this year, many events could happen that would increase or decrease the support for candidates. After voting, the outcome is certain. But from today's perspective, when voting is one year from now, outcomes are uncertain. \n",
    "\n",
    "- Experiment: Presidential Election in One Year\n",
    "- Experimental outcomes: candidates [DT](https://en.wikipedia.org/wiki/Donald_Trump), [HC](https://en.wikipedia.org/wiki/Hillary_Clinton), [JS](https://en.wikipedia.org/wiki/Jill_Stein), [GJ](https://en.wikipedia.org/wiki/Gary_Johnson) winning. \n",
    "- Sample Space: {DT, HC, JS, GJ}\n",
    "- Event:\n",
    "    + A woman wins is an event: $\\text{W} = \\left\\{HC, JS\\right\\}$\n",
    "    + A man wins: $\\text{M} = \\left\\{DT, GJ\\right\\}$\n",
    "    + Someone from a small party wins: $\\text{S} = \\left\\{JS, GJ\\right\\}$\n",
    "- Probability:\n",
    "    + The probability that a woman does not win:\n",
    "    $$P(\\text{W}^c) = 1 - P(\\text{W}) = P(\\text{M})$$\n",
    "    + There are no experimental outcomes, given the four that we have, where both woman and man wins, the two events are mutually exclusive:\n",
    "    $$P(\\text{W} \\cap \\text{M}) = 0$$\n",
    "    + The probability that a woman wins conditional on a man winnning is zero:\n",
    "    $$P(\\text{W} \\mid \\text{M}) = \\frac{P(\\text{W} \\cap \\text{M})}{P(\\text{M})} = \\frac{0}{P(DT) + P(GJ)} = 0$$\n",
    "    + The probability that a woman wins and someone from a small party wins:\n",
    "    $$P(\\text{W} \\cap \\text{S}) = P(JS)$$\n",
    "    + The probability that a woman wins conditional on someone from a small party winning:\n",
    "    $$P(\\text{W} \\mid \\text{S}) = \\frac{P(\\text{W} \\cap \\text{S})}{P(\\text{S})} = \\frac{P(JS)}{P(JS) + P(GJ)} $$\n",
    "    + Either a women wins or someone from a small party wins:\n",
    "    $$P(\\text{W} \\cup \\text{S}) = P(\\text{W}) + P(\\text{S}) - P(\\text{W} \\cap \\text{S}) = P(HC) + P(JS) + P(JS) + P(GJ) - P(JS) =  P(HC) + P(JS) + P(GJ)$$"
   ]
  },
  {
   "cell_type": "markdown",
   "metadata": {},
   "source": [
    "## Throwing a Dice\n",
    "\n",
    "- Experiment: Throwing a Dice\n",
    "- Experimental outcomes: lands on one of the six sides\n",
    "- Sample Space: $S=\\left\\{1,2,3,4,5,6\\right\\}$\n",
    "- Event: One could define many possible events. The experimental outcome is less than 3 is an event, greater than 2 is an event, been odd is an event, etc.  \n",
    "\n",
    "In [Throw an Unfair Four Sided Dice](https://fanwangecon.github.io/Stat4Econ/probability/samplespacedice.html), we show what happens when we throw an unfair four sided dice many times. \n",
    "\n",
    "### An Unfair Dice\n",
    "In the example below, we will throw an unfair dice, where the probability of landing on the side with 1 is 50 percent, and the chance of landing on each successive side is half of the chance of landing on the previous side. This is a dice weighted towards the smaller numbers. \n",
    "\n",
    "See the table below for the true probabilities of the unfiar dice."
   ]
  },
  {
   "cell_type": "code",
   "execution_count": 7,
   "metadata": {},
   "outputs": [
    {
     "data": {
      "text/html": [
       "<table>\n",
       "<thead><tr><th scope=col>dice.outcomes.list</th><th scope=col>dice.true.prob</th></tr></thead>\n",
       "<tbody>\n",
       "\t<tr><td>1      </td><td>0.50000</td></tr>\n",
       "\t<tr><td>2      </td><td>0.25000</td></tr>\n",
       "\t<tr><td>3      </td><td>0.12500</td></tr>\n",
       "\t<tr><td>4      </td><td>0.06250</td></tr>\n",
       "\t<tr><td>5      </td><td>0.03125</td></tr>\n",
       "\t<tr><td>6      </td><td>0.03125</td></tr>\n",
       "</tbody>\n",
       "</table>\n"
      ],
      "text/latex": [
       "\\begin{tabular}{r|ll}\n",
       " dice.outcomes.list & dice.true.prob\\\\\n",
       "\\hline\n",
       "\t 1       & 0.50000\\\\\n",
       "\t 2       & 0.25000\\\\\n",
       "\t 3       & 0.12500\\\\\n",
       "\t 4       & 0.06250\\\\\n",
       "\t 5       & 0.03125\\\\\n",
       "\t 6       & 0.03125\\\\\n",
       "\\end{tabular}\n"
      ],
      "text/markdown": [
       "\n",
       "dice.outcomes.list | dice.true.prob | \n",
       "|---|---|---|---|---|---|\n",
       "| 1       | 0.50000 | \n",
       "| 2       | 0.25000 | \n",
       "| 3       | 0.12500 | \n",
       "| 4       | 0.06250 | \n",
       "| 5       | 0.03125 | \n",
       "| 6       | 0.03125 | \n",
       "\n",
       "\n"
      ],
      "text/plain": [
       "  dice.outcomes.list dice.true.prob\n",
       "1 1                  0.50000       \n",
       "2 2                  0.25000       \n",
       "3 3                  0.12500       \n",
       "4 4                  0.06250       \n",
       "5 5                  0.03125       \n",
       "6 6                  0.03125       "
      ]
     },
     "metadata": {},
     "output_type": "display_data"
    }
   ],
   "source": [
    "# Load Library\n",
    "library(tidyverse)\n",
    "\n",
    "# Define a List of Experimental Outcomes\n",
    "experimental.outcomes.list <- c(1,2,3,4,5,6)\n",
    "\n",
    "# Probabilities on experimental outcomes\n",
    "# Suppose dice is weighted towards 1\n",
    "fracbase <- 0.50\n",
    "experimental.outcome.prob <- c((1-fracbase)^0*fracbase,\n",
    "                               (1-fracbase)^1*fracbase,\n",
    "                               (1-fracbase)^2*fracbase,\n",
    "                               (1-fracbase)^3*fracbase,\n",
    "                               (1-fracbase)^4*fracbase,\n",
    "                               (1-fracbase)^5)\n",
    "\n",
    "# Show these in a Tibble\n",
    "dice.true.prob <- tibble(dice.outcomes.list = experimental.outcomes.list,\n",
    "                         dice.true.prob = experimental.outcome.prob)\n",
    "dice.true.prob"
   ]
  },
  {
   "cell_type": "markdown",
   "metadata": {},
   "source": [
    "### Throw the Dice 10 Times\n",
    "\n",
    "We throw the dice 10 times, each time, get one of the six possible experimental outcomes, the chance of getting these outcomes are determined by the true probabilities of the unfair dice. If we throw 10 times, that does not mean we will get exact side 1 five times. Side 1 having proability of 50 percent means for each throw there is a 50 percent chance of getting side 1. But each throw is independent of other throws, so we could just by chance end up with no side 1 after ten throws, although the chance of that happening is low. How many times did we get each side in the ten random tosses below?"
   ]
  },
  {
   "cell_type": "code",
   "execution_count": 8,
   "metadata": {},
   "outputs": [
    {
     "data": {
      "text/html": [
       "<table>\n",
       "<thead><tr><th scope=col>which.future.dice</th><th scope=col>dice.draws</th></tr></thead>\n",
       "<tbody>\n",
       "\t<tr><td>dice draws:1 </td><td>3            </td></tr>\n",
       "\t<tr><td>dice draws:2 </td><td>6            </td></tr>\n",
       "\t<tr><td>dice draws:3 </td><td>1            </td></tr>\n",
       "\t<tr><td>dice draws:4 </td><td>1            </td></tr>\n",
       "\t<tr><td>dice draws:5 </td><td>2            </td></tr>\n",
       "\t<tr><td>dice draws:6 </td><td>1            </td></tr>\n",
       "\t<tr><td>dice draws:7 </td><td>2            </td></tr>\n",
       "\t<tr><td>dice draws:8 </td><td>1            </td></tr>\n",
       "\t<tr><td>dice draws:9 </td><td>1            </td></tr>\n",
       "\t<tr><td>dice draws:10</td><td>2            </td></tr>\n",
       "</tbody>\n",
       "</table>\n"
      ],
      "text/latex": [
       "\\begin{tabular}{r|ll}\n",
       " which.future.dice & dice.draws\\\\\n",
       "\\hline\n",
       "\t dice draws:1  & 3            \\\\\n",
       "\t dice draws:2  & 6            \\\\\n",
       "\t dice draws:3  & 1            \\\\\n",
       "\t dice draws:4  & 1            \\\\\n",
       "\t dice draws:5  & 2            \\\\\n",
       "\t dice draws:6  & 1            \\\\\n",
       "\t dice draws:7  & 2            \\\\\n",
       "\t dice draws:8  & 1            \\\\\n",
       "\t dice draws:9  & 1            \\\\\n",
       "\t dice draws:10 & 2            \\\\\n",
       "\\end{tabular}\n"
      ],
      "text/markdown": [
       "\n",
       "which.future.dice | dice.draws | \n",
       "|---|---|---|---|---|---|---|---|---|---|\n",
       "| dice draws:1  | 3             | \n",
       "| dice draws:2  | 6             | \n",
       "| dice draws:3  | 1             | \n",
       "| dice draws:4  | 1             | \n",
       "| dice draws:5  | 2             | \n",
       "| dice draws:6  | 1             | \n",
       "| dice draws:7  | 2             | \n",
       "| dice draws:8  | 1             | \n",
       "| dice draws:9  | 1             | \n",
       "| dice draws:10 | 2             | \n",
       "\n",
       "\n"
      ],
      "text/plain": [
       "   which.future.dice dice.draws\n",
       "1  dice draws:1      3         \n",
       "2  dice draws:2      6         \n",
       "3  dice draws:3      1         \n",
       "4  dice draws:4      1         \n",
       "5  dice draws:5      2         \n",
       "6  dice draws:6      1         \n",
       "7  dice draws:7      2         \n",
       "8  dice draws:8      1         \n",
       "9  dice draws:9      1         \n",
       "10 dice draws:10     2         "
      ]
     },
     "metadata": {},
     "output_type": "display_data"
    }
   ],
   "source": [
    "# What could happen tomorrow?\n",
    "# We live in a probabilistic world, drawing future from a hat\n",
    "# If we draw 20 times, what happens in the future?\n",
    "# It's pretty amazing, we get to see the future!\n",
    "number.of.futures.to.draw = 10\n",
    "future.dice.draws <- sample(experimental.outcomes.list,\n",
    "                            size = number.of.futures.to.draw,\n",
    "                            replace = TRUE, \n",
    "                            prob = experimental.outcome.prob)\n",
    "\n",
    "# A little tibble to show results\n",
    "tibble(which.future.dice = paste0('dice draws:', 1:number.of.futures.to.draw),\n",
    "       dice.draws = future.dice.draws)"
   ]
  },
  {
   "cell_type": "markdown",
   "metadata": {},
   "source": [
    "### Redefining Sample Space for Throwing a Dice\n",
    "\n",
    "Following our definition for sample space above, we can actually define an alternative sample spaces, for example:\n",
    "\n",
    "- Experiment: Throwing a Dice\n",
    "- Experimental outcomes: lands on greater or equal to 4, lands on less or equal to 3\n",
    "- Sample Space: $S=\\left\\{\\text{'less equal to 3'}, \\text{'greater equal to 4'}\\right\\}$\n",
    "\n",
    "This is also a sample space with two sample points (or experimental outcomes). Following our [definitions](https://fanwangecon.github.io/Stat4Econ/probability/samplespace.html) earlier, these two experimental outcomes are mutually exclusive and jointly exhaustive. We could also call these two experimental outcomes here two different events of the sample space with the six sample points. "
   ]
  },
  {
   "cell_type": "markdown",
   "metadata": {},
   "source": [
    "## Two Basketball Games\n",
    "\n",
    "- Experiment: One team plays two games\n",
    "- Experimental outcomes: \n",
    "    1. $E_1$: win first, win second\n",
    "    2. $E_2$: win first, lose second\n",
    "    3. $E_3$: lose first, win second\n",
    "    4. $E_4$: lose first, lose second\n",
    "- Sample Space: $S=\\left\\{E_1, E_2, E_3, E_4\\right\\}$\n",
    "- Events:\n",
    "    + no wins: $\\text{W0} = \\left\\{E_4\\right\\}$\n",
    "    + win twice: $\\text{W2} = \\left\\{E_1\\right\\}$\n",
    "    + win first game: $\\text{WF} = \\left\\{E_1, E_2\\right\\}$\n",
    "    + win second game: $\\text{WS} = \\left\\{E_1, E_3\\right\\}$\n",
    "    + etc.\n",
    "- Probability:\n",
    "    + What is the probability of winning the second game and the first game? Using the [conditional probability formula](https://fanwangecon.github.io/Stat4Econ/probability/samplespace.html), it is the probability of winning the first game times the probability of winning the second game conditional on winning the first game:\n",
    "    $$P(\\text{WS} \\cap \\text{WF}) = P(\\text{WS} \\mid \\text{WF}) \\cdot P(\\text{WF}) = P(E_1)$$\n",
    "        * If winning the first game does not change the probability of winning the second game, then we have:\n",
    "        $$P(E_1) = P(\\text{WS} \\mid \\text{WF}) \\cdot P(\\text{WF}) = P(\\text{WS}) \\cdot P(\\text{WF}) $$\n",
    "        * If the chance of winning the first and second game are the same, $P(\\text{WS})=P(\\text{WF})=p$, then we have:\n",
    "        $$P(E_1) = P(\\text{WS}) \\cdot P(\\text{WF}) = p \\cdot p = p^2 $$\n",
    "    + The probability of winning at least one game:\n",
    "    $$P(\\text{WS} \\cup \\text{WF}) = P(\\text{WS}) +  P(\\text{WF}) - P(\\text{WS} \\cap \\text{WF}) = P(E_1) + P(E_2) + P(E_3) $$\n",
    "\n",
    "\n",
    "### Redefining Sample Space for two Basketball Game\n",
    "\n",
    "Following our definition for sample space above, we can actually define an alternative sample spaces using these events:\n",
    "\n",
    "- Experiment: One team plays two games\n",
    "- Experimental outcomes: Win 0, 1, or 2 times\n",
    "- Sample Space: $S=\\left\\{\\text{'0 Win'}, \\text{'1 Win'}, \\text{'2 Wins'}\\right\\}$\n",
    "\n",
    "This is also a sample space with three sample points (or experimental outcomes). Following our definitions earlier, these three experimental outcomes are mutually exclusive and jointly exhaustive. We could also call these three experimental outcomes here three different events of the sample space with the four paths of game play experimental outcomes (sample points). "
   ]
  }
 ],
 "metadata": {
  "kernelspec": {
   "display_name": "R",
   "language": "R",
   "name": "ir"
  },
  "language_info": {
   "codemirror_mode": "r",
   "file_extension": ".r",
   "mimetype": "text/x-r-source",
   "name": "R",
   "pygments_lexer": "r",
   "version": "3.5.1"
  }
 },
 "nbformat": 4,
 "nbformat_minor": 2
}
