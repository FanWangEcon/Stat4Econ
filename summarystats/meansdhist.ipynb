{
 "cells": [
  {
   "cell_type": "markdown",
   "metadata": {},
   "source": [
    "# Mean and Standard Deviation\n",
    "\n",
    "Why do we need standard deviation? We will demonstrate its usefulness by studying a temperature dataset. \n",
    "\n",
    "## The Temperature Dataset\n",
    "\n",
    "This dataset covers a variety of cities in the United States across all States and Territories. For each city, we have the average temperature in each month. The unit of observation is at the city/month level. We have variables for the state, the city, the month and the average temperature.\n",
    "\n",
    "The dataset, *TempCitiesUSA.csv*, can be downloaded [here](../data/TempCitiesUSA.csv)."
   ]
  },
  {
   "cell_type": "code",
   "execution_count": 41,
   "metadata": {},
   "outputs": [
    {
     "name": "stderr",
     "output_type": "stream",
     "text": [
      "Parsed with column specification:\n",
      "cols(\n",
      "  state = col_character(),\n",
      "  city = col_character(),\n",
      "  month = col_double(),\n",
      "  temp.f = col_double()\n",
      ")\n"
     ]
    }
   ],
   "source": [
    "# Load in Data Tools\n",
    "# For Reading/Loading Data\n",
    "library(readr)\n",
    "library(tibble)\n",
    "library(dplyr)\n",
    "library(ggplot2)\n",
    "# Load in Data\n",
    "df_temp <- read_csv('../data/TempCitiesUSA.csv')"
   ]
  },
  {
   "cell_type": "markdown",
   "metadata": {},
   "source": [
    "## Listing Variables in the Dataset\n",
    "\n",
    "We can see that the state and city variables are string variables. We can show unique states and cities by months."
   ]
  },
  {
   "cell_type": "code",
   "execution_count": 45,
   "metadata": {},
   "outputs": [
    {
     "ename": "ERROR",
     "evalue": "Error in parse(text = x, srcfile = src): <text>:5:31: unexpected '('\n4:     # Unique Categories\n5:     unique.cates <- unique(df$(\n                                 ^\n",
     "output_type": "error",
     "traceback": [
      "Error in parse(text = x, srcfile = src): <text>:5:31: unexpected '('\n4:     # Unique Categories\n5:     unique.cates <- unique(df$(\n                                 ^\nTraceback:\n"
     ]
    }
   ],
   "source": [
    "# A function that shows Unique Values for Categorical Variables in a Table format\n",
    "show.unique.values <- function(df, cate.var.str){\n",
    "    \n",
    "    # Unique Categories\n",
    "    unique.cates <- unique(df$[[cate.var.str]])\n",
    "\n",
    "    # At most 10 columns\n",
    "    unique.count <- length(unique.cates)\n",
    "    col.count <- min(ceiling(sqrt(unique.count)), 10)\n",
    "    row.count <- ceiling(unique.count/col.count)\n",
    "\n",
    "    # Reshape\n",
    "    expand.length = row.count*col.count\n",
    "    unique.cates.expand <- vector(mode = \"character\", length = expand.length)\n",
    "    unique.cates.expand[0:unique.count] <- unique.cates\n",
    "    dim(unique.cates.expand) <- c(row.count, col.count)\n",
    "\n",
    "    # Show\n",
    "    as.tibble(unique.cates.expand, rownames = NA)\n",
    "}"
   ]
  },
  {
   "cell_type": "code",
   "execution_count": 43,
   "metadata": {},
   "outputs": [
    {
     "ename": "ERROR",
     "evalue": "Error in df[[cate.var.str]]: attempt to select more than one element in vectorIndex\n",
     "output_type": "error",
     "traceback": [
      "Error in df[[cate.var.str]]: attempt to select more than one element in vectorIndex\nTraceback:\n",
      "1. lapply(cate.vars.list, show.unique.values, df_temp)",
      "2. FUN(X[[i]], ...)",
      "3. unique(df[[cate.var.str]])   # at line 5 of file <text>"
     ]
    }
   ],
   "source": [
    "# List of categorical Variables\n",
    "cate.vars.list <- c('state', 'city', 'month')\n",
    "lapply(cate.vars.list, show.unique.values, df_temp)"
   ]
  },
  {
   "cell_type": "markdown",
   "metadata": {},
   "source": [
    "# Data Examples\n",
    "\n",
    "## College Education Share and Hourly Wage\n",
    "\n",
    "Two variables:\n",
    "\n",
    "1. Fraction of individual with college degree in a state\n",
    "    + this is in Fraction units, the minimum is 0.00, the maximum is 100 percent, which is 1.00\n",
    "2. Average hourly salary in the state\n",
    "    + this is in Dollar units"
   ]
  },
  {
   "cell_type": "code",
   "execution_count": null,
   "metadata": {},
   "outputs": [],
   "source": [
    "# Load in Data Tools\n",
    "# For Reading/Loading Data\n",
    "library(readr)\n",
    "library(tibble)\n",
    "library(dplyr)\n",
    "library(ggplot2)\n",
    "# Load in Data\n",
    "df_wgedu <- read_csv('../data/EPIStateEduWage2017.csv')"
   ]
  },
  {
   "cell_type": "markdown",
   "metadata": {},
   "source": [
    "## A Scatter Plot\n",
    "\n",
    "We can Visualize the Data with a Scatter Plot. There seems to be a positive relationship between the share of individuals in a state with college education, and the average hourly salary in that state. \n",
    "\n",
    "While most states are along the trend line, we have some states, likw WY, that are outliers. WY has high hourly salary but low share with college education."
   ]
  },
  {
   "cell_type": "code",
   "execution_count": null,
   "metadata": {},
   "outputs": [],
   "source": [
    "# Control Graph Size\n",
    "options(repr.plot.width = 5, repr.plot.height = 5)\n",
    "# Draw Scatter Plot\n",
    "# 1. specify x and y\n",
    "# 2. label each state\n",
    "# 3. add in trend line\n",
    "suppressMessages(print(\n",
    "    ggplot(df_wgedu, aes(x=Share.College.Edu, y=Hourly.Salary)) +\n",
    "      geom_point(size=1) +\n",
    "      geom_text(aes(label=State), size=3, hjust=-.2, vjust=-.2) +\n",
    "      geom_smooth(method=lm) +\n",
    "      labs(title = 'Hourly Wage and College Share by States',\n",
    "           x = 'Fraction with College Education',\n",
    "           y = 'Hourly Wage',\n",
    "           caption = 'Economic Policy Institute\\n www.epi.org/data/') +\n",
    "      theme_bw()\n",
    "))"
   ]
  },
  {
   "cell_type": "markdown",
   "metadata": {},
   "source": [
    "## Standard Deviations and Coefficient of Variation\n",
    "\n",
    "The two variables above are in different units. We first calculate mean, standard deviation, and covariance. With just these, it is hard to compare the standard deviation of the two variables, which are in different scales. \n",
    "\n",
    "The sample standard deviations for the two variables are: $0.051$ and $1.51$, in fraction and dollar units. Can we say the hourly salary has a larger standard deviation? But it is just a different scale. $1.51$ is a large number, but that does not mean that variable has greater variation than the fraction with college education variable. \n",
    "\n",
    "Converting the Statistics to Coefficient of Variations, now we have: $0.16$ and $0.09$. Because of the division, these are both in fraction units--standard deviations as a fraction of the mean. Now these are more comparable."
   ]
  },
  {
   "cell_type": "code",
   "execution_count": null,
   "metadata": {},
   "outputs": [],
   "source": [
    "# We can compute the three basic statistics\n",
    "stats.msdv <- list(\n",
    "              # Mean, SD and Var for the College Share variable\n",
    "              Shr.Coll.Mean = mean(df_wgedu$Share.College.Edu), \n",
    "              Shr.Coll.Std = sd(df_wgedu$Share.College.Edu),\n",
    "              Shr.Coll.Var = var(df_wgedu$Share.College.Edu),\n",
    "    \n",
    "              # Mean, SD and Var for the Hourly Wage Variable\n",
    "              Hr.Wage.Mean = mean(df_wgedu$Hourly.Salary),                            \n",
    "              Hr.Wage.Std = sd(df_wgedu$Hourly.Salary),\n",
    "              Hr.Wage.Var = var(df_wgedu$Hourly.Salary)\n",
    "              )\n",
    "\n",
    "# We can compute the three basic statistics\n",
    "stats.coefvari <- list(              \n",
    "              # Coefficient of Variation\n",
    "              Shr.Coll.Coef.Variation = (stats.msdv$Shr.Coll.Std)/(stats.msdv$Shr.Coll.Mean),\n",
    "              Hr.Wage.Coef.Variation = (stats.msdv$Hr.Wage.Std)/(stats.msdv$Hr.Wage.Mean)\n",
    "              )\n",
    "\n",
    "# Let's Print the Statistics we Computed\n",
    "as_tibble(stats.msdv)\n",
    "as_tibble(stats.coefvari)"
   ]
  },
  {
   "cell_type": "markdown",
   "metadata": {},
   "source": [
    "## Covariance and Correlation\n",
    "\n",
    "For covariance, hard to tell whether it is large or small. To make comparisons possible, we calculate coefficient of variations and correlation statistics.\n",
    "\n",
    "The covariance we get is positive: $0.06$, but is this actually large positive relationship? $0.06$ seems like a small number. \n",
    "\n",
    "Rescaling covariance to correlation, the correlation between the two variables is: $0.78$. Since the correlation of two variable is beloww $-1$ and $+1$, we can now say actually the two variables are very positively related. Higher share of individuals with college education is strongly positively correlated with higher hourly salary. "
   ]
  },
  {
   "cell_type": "code",
   "execution_count": null,
   "metadata": {},
   "outputs": [],
   "source": [
    "# We can compute the three basic statistics\n",
    "states.covcor <- list(              \n",
    "              # Covariance between the two variables\n",
    "              Shr.Wage.Cov = cov(df_wgedu$Hourly.Salary,\n",
    "                                 df_wgedu$Share.College.Edu),        \n",
    "              # Correlation \n",
    "              Shr.Wage.Cor = cor(df_survey$Hourly.Salary, df_survey$Share.College.Edu),\n",
    "              Shr.Wage.Cor.Formula = (cov(df_wgedu$Hourly.Salary, df_wgedu$Share.College.Edu)\n",
    "                                      /(stats.msdv$Shr.Coll.Std*stats.msdv$Hr.Wage.Std))\n",
    "              )\n",
    "\n",
    "# Let's Print the Statistics we Computed\n",
    "as_tibble(states.covcor)"
   ]
  }
 ],
 "metadata": {
  "kernelspec": {
   "display_name": "R",
   "language": "R",
   "name": "ir"
  },
  "language_info": {
   "codemirror_mode": "r",
   "file_extension": ".r",
   "mimetype": "text/x-r-source",
   "name": "R",
   "pygments_lexer": "r",
   "version": "3.5.1"
  }
 },
 "nbformat": 4,
 "nbformat_minor": 2
}
