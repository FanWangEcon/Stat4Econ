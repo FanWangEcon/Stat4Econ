{
 "cells": [
  {
   "cell_type": "markdown",
   "metadata": {},
   "source": [
    "# Mean and Standard Deviation\n",
    "\n",
    "Why do we need standard deviation? We will demonstrate its usefulness by studying a temperature dataset. \n",
    "\n",
    "## The Temperature Dataset\n",
    "\n",
    "This dataset covers a variety of cities in the United States across all States and Territories. For each city, we have the average temperature in each month. The unit of observation is at the city/month level. We have variables for the state, the city, the month and the average temperature.\n",
    "\n",
    "The dataset, *TempCitiesUSA.csv*, can be downloaded [here](../data/TempCitiesUSA.csv)."
   ]
  },
  {
   "cell_type": "code",
   "execution_count": 5,
   "metadata": {},
   "outputs": [
    {
     "name": "stderr",
     "output_type": "stream",
     "text": [
      "Parsed with column specification:\n",
      "cols(\n",
      "  state = col_character(),\n",
      "  city = col_character(),\n",
      "  month = col_double(),\n",
      "  temp.f = col_double()\n",
      ")\n"
     ]
    }
   ],
   "source": [
    "# Load in Data Tools\n",
    "# For Reading/Loading Data\n",
    "library(readr)\n",
    "library(tibble)\n",
    "library(dplyr)\n",
    "library(ggplot2)\n",
    "# Load in Data\n",
    "df_temp <- read_csv('../data/TempCitiesUSA.csv')"
   ]
  },
  {
   "cell_type": "markdown",
   "metadata": {},
   "source": [
    "## Listing Variables in the Dataset\n",
    "\n",
    "We can see that the state and city variables are string variables. We can show unique states and cities by months."
   ]
  },
  {
   "cell_type": "code",
   "execution_count": 7,
   "metadata": {},
   "outputs": [
    {
     "data": {
      "text/html": [
       "<table>\n",
       "<thead><tr><th scope=col>value</th></tr></thead>\n",
       "<tbody>\n",
       "\t<tr><td>AK          </td></tr>\n",
       "\t<tr><td>AL          </td></tr>\n",
       "\t<tr><td>AMER SAMOA  </td></tr>\n",
       "\t<tr><td>AR          </td></tr>\n",
       "\t<tr><td>AZ          </td></tr>\n",
       "\t<tr><td>CA          </td></tr>\n",
       "\t<tr><td>CA.         </td></tr>\n",
       "\t<tr><td>CAROLINE IS.</td></tr>\n",
       "\t<tr><td>CO          </td></tr>\n",
       "\t<tr><td>CT          </td></tr>\n",
       "\t<tr><td>D.C.        </td></tr>\n",
       "\t<tr><td>DE          </td></tr>\n",
       "\t<tr><td>FL          </td></tr>\n",
       "\t<tr><td>GA          </td></tr>\n",
       "\t<tr><td>HI          </td></tr>\n",
       "\t<tr><td>IA          </td></tr>\n",
       "\t<tr><td>ID          </td></tr>\n",
       "\t<tr><td>IL          </td></tr>\n",
       "\t<tr><td>IN          </td></tr>\n",
       "\t<tr><td>KS          </td></tr>\n",
       "\t<tr><td>KY          </td></tr>\n",
       "\t<tr><td>LA          </td></tr>\n",
       "\t<tr><td>MA          </td></tr>\n",
       "\t<tr><td>MARSHALL IS </td></tr>\n",
       "\t<tr><td>MARSHALL IS.</td></tr>\n",
       "\t<tr><td>MD          </td></tr>\n",
       "\t<tr><td>ME          </td></tr>\n",
       "\t<tr><td>MI          </td></tr>\n",
       "\t<tr><td>MN          </td></tr>\n",
       "\t<tr><td>MO          </td></tr>\n",
       "\t<tr><td>MS          </td></tr>\n",
       "\t<tr><td>MT          </td></tr>\n",
       "\t<tr><td>NC          </td></tr>\n",
       "\t<tr><td>ND          </td></tr>\n",
       "\t<tr><td>NE          </td></tr>\n",
       "\t<tr><td>NH          </td></tr>\n",
       "\t<tr><td>NJ          </td></tr>\n",
       "\t<tr><td>NM          </td></tr>\n",
       "\t<tr><td>NV          </td></tr>\n",
       "\t<tr><td>NY          </td></tr>\n",
       "\t<tr><td>OH          </td></tr>\n",
       "\t<tr><td>OK          </td></tr>\n",
       "\t<tr><td>OR          </td></tr>\n",
       "\t<tr><td>PA          </td></tr>\n",
       "\t<tr><td>PA.         </td></tr>\n",
       "\t<tr><td>PC          </td></tr>\n",
       "\t<tr><td>PR          </td></tr>\n",
       "\t<tr><td>RI          </td></tr>\n",
       "\t<tr><td>SC          </td></tr>\n",
       "\t<tr><td>SD          </td></tr>\n",
       "\t<tr><td>TN          </td></tr>\n",
       "\t<tr><td>TX          </td></tr>\n",
       "\t<tr><td>UT          </td></tr>\n",
       "\t<tr><td>VA          </td></tr>\n",
       "\t<tr><td>VT          </td></tr>\n",
       "\t<tr><td>WA          </td></tr>\n",
       "\t<tr><td>WI          </td></tr>\n",
       "\t<tr><td>WV          </td></tr>\n",
       "\t<tr><td>WY          </td></tr>\n",
       "</tbody>\n",
       "</table>\n"
      ],
      "text/latex": [
       "\\begin{tabular}{r|l}\n",
       " value\\\\\n",
       "\\hline\n",
       "\t AK          \\\\\n",
       "\t AL          \\\\\n",
       "\t AMER SAMOA  \\\\\n",
       "\t AR          \\\\\n",
       "\t AZ          \\\\\n",
       "\t CA          \\\\\n",
       "\t CA.         \\\\\n",
       "\t CAROLINE IS.\\\\\n",
       "\t CO          \\\\\n",
       "\t CT          \\\\\n",
       "\t D.C.        \\\\\n",
       "\t DE          \\\\\n",
       "\t FL          \\\\\n",
       "\t GA          \\\\\n",
       "\t HI          \\\\\n",
       "\t IA          \\\\\n",
       "\t ID          \\\\\n",
       "\t IL          \\\\\n",
       "\t IN          \\\\\n",
       "\t KS          \\\\\n",
       "\t KY          \\\\\n",
       "\t LA          \\\\\n",
       "\t MA          \\\\\n",
       "\t MARSHALL IS \\\\\n",
       "\t MARSHALL IS.\\\\\n",
       "\t MD          \\\\\n",
       "\t ME          \\\\\n",
       "\t MI          \\\\\n",
       "\t MN          \\\\\n",
       "\t MO          \\\\\n",
       "\t MS          \\\\\n",
       "\t MT          \\\\\n",
       "\t NC          \\\\\n",
       "\t ND          \\\\\n",
       "\t NE          \\\\\n",
       "\t NH          \\\\\n",
       "\t NJ          \\\\\n",
       "\t NM          \\\\\n",
       "\t NV          \\\\\n",
       "\t NY          \\\\\n",
       "\t OH          \\\\\n",
       "\t OK          \\\\\n",
       "\t OR          \\\\\n",
       "\t PA          \\\\\n",
       "\t PA.         \\\\\n",
       "\t PC          \\\\\n",
       "\t PR          \\\\\n",
       "\t RI          \\\\\n",
       "\t SC          \\\\\n",
       "\t SD          \\\\\n",
       "\t TN          \\\\\n",
       "\t TX          \\\\\n",
       "\t UT          \\\\\n",
       "\t VA          \\\\\n",
       "\t VT          \\\\\n",
       "\t WA          \\\\\n",
       "\t WI          \\\\\n",
       "\t WV          \\\\\n",
       "\t WY          \\\\\n",
       "\\end{tabular}\n"
      ],
      "text/markdown": [
       "\n",
       "value | \n",
       "|---|---|---|---|---|---|---|---|---|---|---|---|---|---|---|---|---|---|---|---|---|---|---|---|---|---|---|---|---|---|---|---|---|---|---|---|---|---|---|---|---|---|---|---|---|---|---|---|---|---|---|---|---|---|---|---|---|---|---|\n",
       "| AK           | \n",
       "| AL           | \n",
       "| AMER SAMOA   | \n",
       "| AR           | \n",
       "| AZ           | \n",
       "| CA           | \n",
       "| CA.          | \n",
       "| CAROLINE IS. | \n",
       "| CO           | \n",
       "| CT           | \n",
       "| D.C.         | \n",
       "| DE           | \n",
       "| FL           | \n",
       "| GA           | \n",
       "| HI           | \n",
       "| IA           | \n",
       "| ID           | \n",
       "| IL           | \n",
       "| IN           | \n",
       "| KS           | \n",
       "| KY           | \n",
       "| LA           | \n",
       "| MA           | \n",
       "| MARSHALL IS  | \n",
       "| MARSHALL IS. | \n",
       "| MD           | \n",
       "| ME           | \n",
       "| MI           | \n",
       "| MN           | \n",
       "| MO           | \n",
       "| MS           | \n",
       "| MT           | \n",
       "| NC           | \n",
       "| ND           | \n",
       "| NE           | \n",
       "| NH           | \n",
       "| NJ           | \n",
       "| NM           | \n",
       "| NV           | \n",
       "| NY           | \n",
       "| OH           | \n",
       "| OK           | \n",
       "| OR           | \n",
       "| PA           | \n",
       "| PA.          | \n",
       "| PC           | \n",
       "| PR           | \n",
       "| RI           | \n",
       "| SC           | \n",
       "| SD           | \n",
       "| TN           | \n",
       "| TX           | \n",
       "| UT           | \n",
       "| VA           | \n",
       "| VT           | \n",
       "| WA           | \n",
       "| WI           | \n",
       "| WV           | \n",
       "| WY           | \n",
       "\n",
       "\n"
      ],
      "text/plain": [
       "   value       \n",
       "1  AK          \n",
       "2  AL          \n",
       "3  AMER SAMOA  \n",
       "4  AR          \n",
       "5  AZ          \n",
       "6  CA          \n",
       "7  CA.         \n",
       "8  CAROLINE IS.\n",
       "9  CO          \n",
       "10 CT          \n",
       "11 D.C.        \n",
       "12 DE          \n",
       "13 FL          \n",
       "14 GA          \n",
       "15 HI          \n",
       "16 IA          \n",
       "17 ID          \n",
       "18 IL          \n",
       "19 IN          \n",
       "20 KS          \n",
       "21 KY          \n",
       "22 LA          \n",
       "23 MA          \n",
       "24 MARSHALL IS \n",
       "25 MARSHALL IS.\n",
       "26 MD          \n",
       "27 ME          \n",
       "28 MI          \n",
       "29 MN          \n",
       "30 MO          \n",
       "31 MS          \n",
       "32 MT          \n",
       "33 NC          \n",
       "34 ND          \n",
       "35 NE          \n",
       "36 NH          \n",
       "37 NJ          \n",
       "38 NM          \n",
       "39 NV          \n",
       "40 NY          \n",
       "41 OH          \n",
       "42 OK          \n",
       "43 OR          \n",
       "44 PA          \n",
       "45 PA.         \n",
       "46 PC          \n",
       "47 PR          \n",
       "48 RI          \n",
       "49 SC          \n",
       "50 SD          \n",
       "51 TN          \n",
       "52 TX          \n",
       "53 UT          \n",
       "54 VA          \n",
       "55 VT          \n",
       "56 WA          \n",
       "57 WI          \n",
       "58 WV          \n",
       "59 WY          "
      ]
     },
     "metadata": {},
     "output_type": "display_data"
    }
   ],
   "source": [
    "mtcars %>%\n",
    "  group_by(cyl, vs) %>%\n",
    "  summarize(count = n()) %>%\n",
    "  spread(vs, count)"
   ]
  },
  {
   "cell_type": "markdown",
   "metadata": {},
   "source": [
    "# Data Examples\n",
    "\n",
    "## College Education Share and Hourly Wage\n",
    "\n",
    "Two variables:\n",
    "\n",
    "1. Fraction of individual with college degree in a state\n",
    "    + this is in Fraction units, the minimum is 0.00, the maximum is 100 percent, which is 1.00\n",
    "2. Average hourly salary in the state\n",
    "    + this is in Dollar units"
   ]
  },
  {
   "cell_type": "code",
   "execution_count": 13,
   "metadata": {},
   "outputs": [
    {
     "name": "stderr",
     "output_type": "stream",
     "text": [
      "Parsed with column specification:\n",
      "cols(\n",
      "  State = col_character(),\n",
      "  Share.College.Edu = col_double(),\n",
      "  Hourly.Salary = col_double()\n",
      ")\n"
     ]
    }
   ],
   "source": [
    "# Load in Data Tools\n",
    "# For Reading/Loading Data\n",
    "library(readr)\n",
    "library(tibble)\n",
    "library(dplyr)\n",
    "library(ggplot2)\n",
    "# Load in Data\n",
    "df_wgedu <- read_csv('../data/EPIStateEduWage2017.csv')"
   ]
  },
  {
   "cell_type": "markdown",
   "metadata": {},
   "source": [
    "## A Scatter Plot\n",
    "\n",
    "We can Visualize the Data with a Scatter Plot. There seems to be a positive relationship between the share of individuals in a state with college education, and the average hourly salary in that state. \n",
    "\n",
    "While most states are along the trend line, we have some states, likw WY, that are outliers. WY has high hourly salary but low share with college education."
   ]
  },
  {
   "cell_type": "code",
   "execution_count": 14,
   "metadata": {},
   "outputs": [
    {
     "data": {
      "image/png": "[encoded data removed]",
      "text/plain": [
       "plot without title"
      ]
     },
     "metadata": {},
     "output_type": "display_data"
    }
   ],
   "source": [
    "# Control Graph Size\n",
    "options(repr.plot.width = 5, repr.plot.height = 5)\n",
    "# Draw Scatter Plot\n",
    "# 1. specify x and y\n",
    "# 2. label each state\n",
    "# 3. add in trend line\n",
    "suppressMessages(print(\n",
    "    ggplot(df_wgedu, aes(x=Share.College.Edu, y=Hourly.Salary)) +\n",
    "      geom_point(size=1) +\n",
    "      geom_text(aes(label=State), size=3, hjust=-.2, vjust=-.2) +\n",
    "      geom_smooth(method=lm) +\n",
    "      labs(title = 'Hourly Wage and College Share by States',\n",
    "           x = 'Fraction with College Education',\n",
    "           y = 'Hourly Wage',\n",
    "           caption = 'Economic Policy Institute\\n www.epi.org/data/') +\n",
    "      theme_bw()\n",
    "))"
   ]
  },
  {
   "cell_type": "markdown",
   "metadata": {},
   "source": [
    "## Standard Deviations and Coefficient of Variation\n",
    "\n",
    "The two variables above are in different units. We first calculate mean, standard deviation, and covariance. With just these, it is hard to compare the standard deviation of the two variables, which are in different scales. \n",
    "\n",
    "The sample standard deviations for the two variables are: $0.051$ and $1.51$, in fraction and dollar units. Can we say the hourly salary has a larger standard deviation? But it is just a different scale. $1.51$ is a large number, but that does not mean that variable has greater variation than the fraction with college education variable. \n",
    "\n",
    "Converting the Statistics to Coefficient of Variations, now we have: $0.16$ and $0.09$. Because of the division, these are both in fraction units--standard deviations as a fraction of the mean. Now these are more comparable."
   ]
  },
  {
   "cell_type": "code",
   "execution_count": 15,
   "metadata": {},
   "outputs": [
    {
     "data": {
      "text/html": [
       "<table>\n",
       "<thead><tr><th scope=col>Shr.Coll.Mean</th><th scope=col>Shr.Coll.Std</th><th scope=col>Shr.Coll.Var</th><th scope=col>Hr.Wage.Mean</th><th scope=col>Hr.Wage.Std</th><th scope=col>Hr.Wage.Var</th></tr></thead>\n",
       "<tbody>\n",
       "\t<tr><td>0.3164706  </td><td>0.05135109 </td><td>0.002636934</td><td>16.29961   </td><td>1.509687   </td><td>2.279156   </td></tr>\n",
       "</tbody>\n",
       "</table>\n"
      ],
      "text/latex": [
       "\\begin{tabular}{r|llllll}\n",
       " Shr.Coll.Mean & Shr.Coll.Std & Shr.Coll.Var & Hr.Wage.Mean & Hr.Wage.Std & Hr.Wage.Var\\\\\n",
       "\\hline\n",
       "\t 0.3164706   & 0.05135109  & 0.002636934 & 16.29961    & 1.509687    & 2.279156   \\\\\n",
       "\\end{tabular}\n"
      ],
      "text/markdown": [
       "\n",
       "Shr.Coll.Mean | Shr.Coll.Std | Shr.Coll.Var | Hr.Wage.Mean | Hr.Wage.Std | Hr.Wage.Var | \n",
       "|---|\n",
       "| 0.3164706   | 0.05135109  | 0.002636934 | 16.29961    | 1.509687    | 2.279156    | \n",
       "\n",
       "\n"
      ],
      "text/plain": [
       "  Shr.Coll.Mean Shr.Coll.Std Shr.Coll.Var Hr.Wage.Mean Hr.Wage.Std Hr.Wage.Var\n",
       "1 0.3164706     0.05135109   0.002636934  16.29961     1.509687    2.279156   "
      ]
     },
     "metadata": {},
     "output_type": "display_data"
    },
    {
     "data": {
      "text/html": [
       "<table>\n",
       "<thead><tr><th scope=col>Shr.Coll.Coef.Variation</th><th scope=col>Hr.Wage.Coef.Variation</th></tr></thead>\n",
       "<tbody>\n",
       "\t<tr><td>0.1622618 </td><td>0.09262108</td></tr>\n",
       "</tbody>\n",
       "</table>\n"
      ],
      "text/latex": [
       "\\begin{tabular}{r|ll}\n",
       " Shr.Coll.Coef.Variation & Hr.Wage.Coef.Variation\\\\\n",
       "\\hline\n",
       "\t 0.1622618  & 0.09262108\\\\\n",
       "\\end{tabular}\n"
      ],
      "text/markdown": [
       "\n",
       "Shr.Coll.Coef.Variation | Hr.Wage.Coef.Variation | \n",
       "|---|\n",
       "| 0.1622618  | 0.09262108 | \n",
       "\n",
       "\n"
      ],
      "text/plain": [
       "  Shr.Coll.Coef.Variation Hr.Wage.Coef.Variation\n",
       "1 0.1622618               0.09262108            "
      ]
     },
     "metadata": {},
     "output_type": "display_data"
    }
   ],
   "source": [
    "# We can compute the three basic statistics\n",
    "stats.msdv <- list(\n",
    "              # Mean, SD and Var for the College Share variable\n",
    "              Shr.Coll.Mean = mean(df_wgedu$Share.College.Edu), \n",
    "              Shr.Coll.Std = sd(df_wgedu$Share.College.Edu),\n",
    "              Shr.Coll.Var = var(df_wgedu$Share.College.Edu),\n",
    "    \n",
    "              # Mean, SD and Var for the Hourly Wage Variable\n",
    "              Hr.Wage.Mean = mean(df_wgedu$Hourly.Salary),                            \n",
    "              Hr.Wage.Std = sd(df_wgedu$Hourly.Salary),\n",
    "              Hr.Wage.Var = var(df_wgedu$Hourly.Salary)\n",
    "              )\n",
    "\n",
    "# We can compute the three basic statistics\n",
    "stats.coefvari <- list(              \n",
    "              # Coefficient of Variation\n",
    "              Shr.Coll.Coef.Variation = (stats.msdv$Shr.Coll.Std)/(stats.msdv$Shr.Coll.Mean),\n",
    "              Hr.Wage.Coef.Variation = (stats.msdv$Hr.Wage.Std)/(stats.msdv$Hr.Wage.Mean)\n",
    "              )\n",
    "\n",
    "# Let's Print the Statistics we Computed\n",
    "as_tibble(stats.msdv)\n",
    "as_tibble(stats.coefvari)"
   ]
  },
  {
   "cell_type": "markdown",
   "metadata": {},
   "source": [
    "## Covariance and Correlation\n",
    "\n",
    "For covariance, hard to tell whether it is large or small. To make comparisons possible, we calculate coefficient of variations and correlation statistics.\n",
    "\n",
    "The covariance we get is positive: $0.06$, but is this actually large positive relationship? $0.06$ seems like a small number. \n",
    "\n",
    "Rescaling covariance to correlation, the correlation between the two variables is: $0.78$. Since the correlation of two variable is beloww $-1$ and $+1$, we can now say actually the two variables are very positively related. Higher share of individuals with college education is strongly positively correlated with higher hourly salary. "
   ]
  },
  {
   "cell_type": "code",
   "execution_count": 16,
   "metadata": {},
   "outputs": [
    {
     "ename": "ERROR",
     "evalue": "Error in is.data.frame(y): object 'df_survey' not found\n",
     "output_type": "error",
     "traceback": [
      "Error in is.data.frame(y): object 'df_survey' not found\nTraceback:\n",
      "1. cor(df_survey$Hourly.Salary, df_survey$Share.College.Edu)",
      "2. is.data.frame(y)"
     ]
    }
   ],
   "source": [
    "# We can compute the three basic statistics\n",
    "states.covcor <- list(              \n",
    "              # Covariance between the two variables\n",
    "              Shr.Wage.Cov = cov(df_wgedu$Hourly.Salary,\n",
    "                                 df_wgedu$Share.College.Edu),        \n",
    "              # Correlation \n",
    "              Shr.Wage.Cor = cor(df_survey$Hourly.Salary, df_survey$Share.College.Edu),\n",
    "              Shr.Wage.Cor.Formula = (cov(df_wgedu$Hourly.Salary, df_wgedu$Share.College.Edu)\n",
    "                                      /(stats.msdv$Shr.Coll.Std*stats.msdv$Hr.Wage.Std))\n",
    "              )\n",
    "\n",
    "# Let's Print the Statistics we Computed\n",
    "as_tibble(states.covcor)"
   ]
  }
 ],
 "metadata": {
  "kernelspec": {
   "display_name": "R",
   "language": "R",
   "name": "ir"
  },
  "language_info": {
   "codemirror_mode": "r",
   "file_extension": ".r",
   "mimetype": "text/x-r-source",
   "name": "R",
   "pygments_lexer": "r",
   "version": "3.5.1"
  }
 },
 "nbformat": 4,
 "nbformat_minor": 2
}
