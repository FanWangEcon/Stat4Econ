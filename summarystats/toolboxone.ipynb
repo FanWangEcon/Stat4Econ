{
 "cells": [
  {
   "cell_type": "markdown",
   "metadata": {},
   "source": [
    "# Toolbox One\n",
    "\n",
    "We have various tools at our disposal to summarize variables and the relationship between variables. Imagine that we have multiple toolboxes. This is the first one. There are two levels to this toolbox.\n",
    "\n",
    "## First Level\n",
    "\n",
    "On the first level, our three tools are:\n",
    "\n",
    "1. (sample) Mean of X (or Y)\n",
    "2. (sample) Standard Deviation of X (or Y)\n",
    "3. (sample) Covariance of X and Y\n",
    "\n",
    "## Second Level\n",
    "\n",
    "On the second level, we have two tools that combine the tools from the first level:\n",
    "\n",
    "1. Coefficient of Variation = (Standard Deviation)/(Mean)\n",
    "2. Correlation = (Covariance of X and Y)/((Standard Deviation of X)*(Standard Deviation of Y))\n",
    "\n",
    "The tools on the second level rescales the standard deviation and covariance statistics. \n",
    "\n",
    "## Formulas for the First Three Tools\n",
    "\n",
    "Formulas are short-hands so that we can be precise and succient. \n",
    "\n",
    "## Sample Mean\n",
    "\n",
    "## Sample Standard Deviation\n",
    "\n",
    "## Sample Covariance\n",
    "\n",
    "## Formulas for the Two Rescaling Tools\n",
    "\n",
    "Formulas are short-hands so that we can be precise and succient. \n",
    "\n",
    "## Coefficient of Variation\n",
    "\n",
    "## Correlation\n",
    "\n"
   ]
  },
  {
   "cell_type": "markdown",
   "metadata": {},
   "source": [
    "# Data Examples\n",
    "\n",
    "## College Education Share and Hourly Wage\n",
    "\n",
    "Two variables:\n",
    "\n",
    "1. Fraction of individual with college degree in a state\n",
    "    + this is in Fraction units, the minimum is 0.00, the maximum is 100 percent, which is 1.00\n",
    "2. Average hourly salary in the state\n",
    "    + this is in Dollar units\n",
    "\n",
    "The two variables above are in different units. We first calculate mean, standard deviation, and covariance. With just these, hard to compare the standard deviation of the two variables, which are in different scales. Also from covariance, hard to tell whether it is large or small. To make comparisons possible, we calculate coefficient of variations and correlation statistics.\n",
    "\n",
    "## Standard Deviations and Coefficient of Variation\n",
    "\n",
    "The sample standard deviations for the two variables are: $0.051$ and $1.51$, in fraction and dollar units. Can we say the hourly salary has a larger standard deviation? But it is just a different scale. $1.51$ is a large number, but that does not mean that variable has greater variation than the fraction with college education variable. \n",
    "\n",
    "Converting the Statistics to Coefficient of Variations, now we have: $0.16$ and $0.09$. Because of the division, these are both in fraction units--standard deviations as a fraction of the mean. Now these are more comparable.\n",
    "\n",
    "## Covariance and Correlation\n",
    "\n",
    "The covariance we get is positive: $0.06$, but is this actually large positive relationship? $0.06$ seems like a small number. \n",
    "\n",
    "Rescaling covariance to correlation, the correlation between the two variables is: $0.78$. Since the correlation of two variable is beloww $-1$ and $+1$, we can now say actually the two variables are very positively related. Higher share of individuals with college education is strongly positively correlated with higher hourly salary. "
   ]
  },
  {
   "cell_type": "markdown",
   "metadata": {},
   "source": [
    "## R--Mean, Standard Deviation and Covariance\n",
    "\n",
    "We do not need to load in any special packages to calculate mean, standard deviation, and covariance. These are core R functionalities. \n",
    "\n",
    "We will store the results in a named list."
   ]
  },
  {
   "cell_type": "code",
   "execution_count": 44,
   "metadata": {},
   "outputs": [
    {
     "name": "stderr",
     "output_type": "stream",
     "text": [
      "Parsed with column specification:\n",
      "cols(\n",
      "  State = col_character(),\n",
      "  Share.College.Edu = col_double(),\n",
      "  Hourly.Salary = col_double()\n",
      ")\n"
     ]
    }
   ],
   "source": [
    "# Load in Data Tools\n",
    "# For Reading/Loading Data\n",
    "library(readr)\n",
    "# Load in Data\n",
    "df_survey <- read_csv('../data/EPIStateEduWage2017.csv')"
   ]
  },
  {
   "cell_type": "code",
   "execution_count": 45,
   "metadata": {},
   "outputs": [
    {
     "name": "stdout",
     "output_type": "stream",
     "text": [
      "$Shr.Coll.Mean\n",
      "[1] 0.316\n",
      "\n",
      "$Shr.Coll.Std\n",
      "[1] 0.0514\n",
      "\n",
      "$Shr.Coll.Var\n",
      "[1] 0.00264\n",
      "\n",
      "$Hr.Wage.Mean\n",
      "[1] 16.3\n",
      "\n",
      "$Hr.Wage.Std\n",
      "[1] 1.51\n",
      "\n",
      "$Hr.Wage.Var\n",
      "[1] 2.28\n",
      "\n",
      "$Shr.Wage.Cov\n",
      "[1] 0.0604\n",
      "\n"
     ]
    }
   ],
   "source": [
    "# We can compute the three basic statistics\n",
    "stats.level.one <- list(\n",
    "              # Mean, SD and Var for the College Share variable\n",
    "              Shr.Coll.Mean = mean(df_survey$Share.College.Edu), \n",
    "              Shr.Coll.Std = sd(df_survey$Share.College.Edu),\n",
    "              Shr.Coll.Var = var(df_survey$Share.College.Edu),\n",
    "    \n",
    "              # Mean, SD and Var for the Hourly Wage Variable\n",
    "              Hr.Wage.Mean = mean(df_survey$Hourly.Salary),                            \n",
    "              Hr.Wage.Std = sd(df_survey$Hourly.Salary),\n",
    "              Hr.Wage.Var = var(df_survey$Hourly.Salary),\n",
    "              \n",
    "              # Covariance between the two variables\n",
    "              Shr.Wage.Cov = cov(df_survey$Hourly.Salary, df_survey$Share.College.Edu)\n",
    "              )\n",
    "\n",
    "# Let's Print the Statistics we Computed\n",
    "print(stats.level.one, digits = 3)"
   ]
  },
  {
   "cell_type": "markdown",
   "metadata": {},
   "source": [
    "## R--Coefficient of Variation and Correlation\n",
    "\n",
    "Let's apply first our formulas directly, then we can get these numbers directly from R as well.\n",
    "\n",
    "Since we created the named list stats already, we can grab values from that list. "
   ]
  },
  {
   "cell_type": "code",
   "execution_count": 46,
   "metadata": {},
   "outputs": [
    {
     "name": "stdout",
     "output_type": "stream",
     "text": [
      "$Shr.Coll.Coef.Variation\n",
      "[1] 0.162\n",
      "\n",
      "$Hr.Wage.Coef.Variation\n",
      "[1] 0.0926\n",
      "\n",
      "$Shr.Wage.Cor\n",
      "[1] 0.779\n",
      "\n",
      "$Shr.Wage.Cor.Formula\n",
      "[1] 0.779\n",
      "\n"
     ]
    }
   ],
   "source": [
    "# We can compute the three basic statistics\n",
    "stats.level.two <- list(              \n",
    "              # Coefficient of Variation\n",
    "              Shr.Coll.Coef.Variation = (stats.level.one$Shr.Coll.Std)/(stats.level.one$Shr.Coll.Mean),\n",
    "              Hr.Wage.Coef.Variation = (stats.level.one$Hr.Wage.Std)/(stats.level.one$Hr.Wage.Mean),\n",
    "    \n",
    "              # Correlation \n",
    "              Shr.Wage.Cor = cor(df_survey$Hourly.Salary, df_survey$Share.College.Edu),\n",
    "              Shr.Wage.Cor.Formula = (stats.level.one$Shr.Wage.Cov\n",
    "                                     /(stats.level.one$Shr.Coll.Std*stats.level.one$Hr.Wage.Std))\n",
    "              )\n",
    "\n",
    "# Let's Print the Statistics we Computed\n",
    "print(stats.level.two, digits = 3)"
   ]
  }
 ],
 "metadata": {
  "kernelspec": {
   "display_name": "R",
   "language": "R",
   "name": "ir"
  },
  "language_info": {
   "codemirror_mode": "r",
   "file_extension": ".r",
   "mimetype": "text/x-r-source",
   "name": "R",
   "pygments_lexer": "r",
   "version": "3.5.1"
  }
 },
 "nbformat": 4,
 "nbformat_minor": 2
}
