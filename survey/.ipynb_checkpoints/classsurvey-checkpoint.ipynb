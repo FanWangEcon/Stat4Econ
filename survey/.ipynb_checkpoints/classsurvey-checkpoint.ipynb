{
 "cells": [
  {
   "cell_type": "markdown",
   "metadata": {},
   "source": [
    "# A Dataset in R\n",
    "R has a Variety of built-in small datsets for you to experiment with, for example, opening up R, you can just type in: mtcars, and that will show you some variables and observations. The command below show sthe first 5 rows of dataset **mtcars**"
   ]
  },
  {
   "cell_type": "code",
   "execution_count": 28,
   "metadata": {},
   "outputs": [
    {
     "data": {
      "text/html": [
       "<table>\n",
       "<thead><tr><th></th><th scope=col>mpg</th><th scope=col>cyl</th><th scope=col>disp</th><th scope=col>hp</th><th scope=col>drat</th><th scope=col>wt</th><th scope=col>qsec</th><th scope=col>vs</th><th scope=col>am</th><th scope=col>gear</th><th scope=col>carb</th></tr></thead>\n",
       "<tbody>\n",
       "\t<tr><th scope=row>Mazda RX4</th><td>21.0 </td><td>6    </td><td>160  </td><td>110  </td><td>3.90 </td><td>2.620</td><td>16.46</td><td>0    </td><td>1    </td><td>4    </td><td>4    </td></tr>\n",
       "\t<tr><th scope=row>Mazda RX4 Wag</th><td>21.0 </td><td>6    </td><td>160  </td><td>110  </td><td>3.90 </td><td>2.875</td><td>17.02</td><td>0    </td><td>1    </td><td>4    </td><td>4    </td></tr>\n",
       "\t<tr><th scope=row>Datsun 710</th><td>22.8 </td><td>4    </td><td>108  </td><td> 93  </td><td>3.85 </td><td>2.320</td><td>18.61</td><td>1    </td><td>1    </td><td>4    </td><td>1    </td></tr>\n",
       "\t<tr><th scope=row>Hornet 4 Drive</th><td>21.4 </td><td>6    </td><td>258  </td><td>110  </td><td>3.08 </td><td>3.215</td><td>19.44</td><td>1    </td><td>0    </td><td>3    </td><td>1    </td></tr>\n",
       "\t<tr><th scope=row>Hornet Sportabout</th><td>18.7 </td><td>8    </td><td>360  </td><td>175  </td><td>3.15 </td><td>3.440</td><td>17.02</td><td>0    </td><td>0    </td><td>3    </td><td>2    </td></tr>\n",
       "</tbody>\n",
       "</table>\n"
      ],
      "text/latex": [
       "\\begin{tabular}{r|lllllllllll}\n",
       "  & mpg & cyl & disp & hp & drat & wt & qsec & vs & am & gear & carb\\\\\n",
       "\\hline\n",
       "\tMazda RX4 & 21.0  & 6     & 160   & 110   & 3.90  & 2.620 & 16.46 & 0     & 1     & 4     & 4    \\\\\n",
       "\tMazda RX4 Wag & 21.0  & 6     & 160   & 110   & 3.90  & 2.875 & 17.02 & 0     & 1     & 4     & 4    \\\\\n",
       "\tDatsun 710 & 22.8  & 4     & 108   &  93   & 3.85  & 2.320 & 18.61 & 1     & 1     & 4     & 1    \\\\\n",
       "\tHornet 4 Drive & 21.4  & 6     & 258   & 110   & 3.08  & 3.215 & 19.44 & 1     & 0     & 3     & 1    \\\\\n",
       "\tHornet Sportabout & 18.7  & 8     & 360   & 175   & 3.15  & 3.440 & 17.02 & 0     & 0     & 3     & 2    \\\\\n",
       "\\end{tabular}\n"
      ],
      "text/markdown": [
       "\n",
       "| <!--/--> | mpg | cyl | disp | hp | drat | wt | qsec | vs | am | gear | carb | \n",
       "|---|---|---|---|---|\n",
       "| Mazda RX4 | 21.0  | 6     | 160   | 110   | 3.90  | 2.620 | 16.46 | 0     | 1     | 4     | 4     | \n",
       "| Mazda RX4 Wag | 21.0  | 6     | 160   | 110   | 3.90  | 2.875 | 17.02 | 0     | 1     | 4     | 4     | \n",
       "| Datsun 710 | 22.8  | 4     | 108   |  93   | 3.85  | 2.320 | 18.61 | 1     | 1     | 4     | 1     | \n",
       "| Hornet 4 Drive | 21.4  | 6     | 258   | 110   | 3.08  | 3.215 | 19.44 | 1     | 0     | 3     | 1     | \n",
       "| Hornet Sportabout | 18.7  | 8     | 360   | 175   | 3.15  | 3.440 | 17.02 | 0     | 0     | 3     | 2     | \n",
       "\n",
       "\n"
      ],
      "text/plain": [
       "                  mpg  cyl disp hp  drat wt    qsec  vs am gear carb\n",
       "Mazda RX4         21.0 6   160  110 3.90 2.620 16.46 0  1  4    4   \n",
       "Mazda RX4 Wag     21.0 6   160  110 3.90 2.875 17.02 0  1  4    4   \n",
       "Datsun 710        22.8 4   108   93 3.85 2.320 18.61 1  1  4    1   \n",
       "Hornet 4 Drive    21.4 6   258  110 3.08 3.215 19.44 1  0  3    1   \n",
       "Hornet Sportabout 18.7 8   360  175 3.15 3.440 17.02 0  0  3    2   "
      ]
     },
     "metadata": {},
     "output_type": "display_data"
    }
   ],
   "source": [
    "head(mtcars, 5)"
   ]
  },
  {
   "cell_type": "markdown",
   "metadata": {},
   "source": [
    "# Population and Sample\n",
    "\n",
    "## A Poluation of 52 and a Sample of 10\n",
    "There are 52 students in a class, I am interested in how many of your go to games at the University, and how many years each of you has lived in the city of Houston. But I do not have time to ask each of you questions. \n",
    "\n",
    "- My population is all 52 students in the class. \n",
    "- Given my limited time and resources, I will gather a sample of just 10 students. \n",
    "\n",
    "Gathering information regarding game attendance for the 10 students, I can perhaps gain some insights about the population. \n",
    "\n",
    "## Random Sample\n",
    "\n",
    "I can just point and pick 10 *random* people, but how do I know I am choosing picking randomly? In general, we want to pick a random sample from the population. You don't want your sample of 10 to just be students in the first row, or students who happen to be giving eye contacts. We want a random sample that hopefully gives us some representative information about the population of 52 students. \n",
    "\n",
    "How do you pick random numbers?\n",
    "\n",
    "Siri, Alexa, Google, ..., you can get random numbers very easily now. You can download various apps also that allows you to draw a random integer from say between 1 to 4, with equal chance of drawing any of the four numbers. \n",
    "\n",
    "In our class:\n",
    "- we have 4 rows of seats\n",
    "- we have 13 columns of seats\n",
    "- there are 52 students in the class together. I will now randomly pick between 1 and 4, 10 times, and randomly pick between 1 and 13 also 10 times. \n",
    "\n",
    "This gives me ten pairs of row and columns numbers, and these indicate which 10 students will be a part of randomly drawn sample of students. "
   ]
  },
  {
   "cell_type": "code",
   "execution_count": 29,
   "metadata": {},
   "outputs": [
    {
     "data": {
      "text/html": [
       "<ol class=list-inline>\n",
       "\t<li>4</li>\n",
       "\t<li>1</li>\n",
       "\t<li>1</li>\n",
       "\t<li>2</li>\n",
       "\t<li>2</li>\n",
       "\t<li>4</li>\n",
       "\t<li>1</li>\n",
       "\t<li>1</li>\n",
       "\t<li>3</li>\n",
       "\t<li>3</li>\n",
       "</ol>\n"
      ],
      "text/latex": [
       "\\begin{enumerate*}\n",
       "\\item 4\n",
       "\\item 1\n",
       "\\item 1\n",
       "\\item 2\n",
       "\\item 2\n",
       "\\item 4\n",
       "\\item 1\n",
       "\\item 1\n",
       "\\item 3\n",
       "\\item 3\n",
       "\\end{enumerate*}\n"
      ],
      "text/markdown": [
       "1. 4\n",
       "2. 1\n",
       "3. 1\n",
       "4. 2\n",
       "5. 2\n",
       "6. 4\n",
       "7. 1\n",
       "8. 1\n",
       "9. 3\n",
       "10. 3\n",
       "\n",
       "\n"
      ],
      "text/plain": [
       " [1] 4 1 1 2 2 4 1 1 3 3"
      ]
     },
     "metadata": {},
     "output_type": "display_data"
    },
    {
     "data": {
      "text/html": [
       "<ol class=list-inline>\n",
       "\t<li>1</li>\n",
       "\t<li>8</li>\n",
       "\t<li>8</li>\n",
       "\t<li>5</li>\n",
       "\t<li>5</li>\n",
       "\t<li>11</li>\n",
       "\t<li>4</li>\n",
       "\t<li>12</li>\n",
       "\t<li>9</li>\n",
       "\t<li>5</li>\n",
       "</ol>\n"
      ],
      "text/latex": [
       "\\begin{enumerate*}\n",
       "\\item 1\n",
       "\\item 8\n",
       "\\item 8\n",
       "\\item 5\n",
       "\\item 5\n",
       "\\item 11\n",
       "\\item 4\n",
       "\\item 12\n",
       "\\item 9\n",
       "\\item 5\n",
       "\\end{enumerate*}\n"
      ],
      "text/markdown": [
       "1. 1\n",
       "2. 8\n",
       "3. 8\n",
       "4. 5\n",
       "5. 5\n",
       "6. 11\n",
       "7. 4\n",
       "8. 12\n",
       "9. 9\n",
       "10. 5\n",
       "\n",
       "\n"
      ],
      "text/plain": [
       " [1]  1  8  8  5  5 11  4 12  9  5"
      ]
     },
     "metadata": {},
     "output_type": "display_data"
    }
   ],
   "source": [
    "# in R, draw integers between 1 and 4, 10 times\n",
    "sample(1:4, 10, replace = TRUE)\n",
    "# in R, draw integers between 1 and 13, 10 times\n",
    "sample(1:13, 10, replace = TRUE)"
   ]
  },
  {
   "cell_type": "markdown",
   "metadata": {},
   "source": [
    "# In Class Survey with N = 10\n",
    "\n",
    "R has *base* packages. Many of R's best packages do not come with the base packages. You have to install separately. One of the best packages for data science is [tidyverse](https://www.tidyverse.org/). **Tidyvers** has a great package called [tibble](https://tibble.tidyverse.org/) which is a great way to deal with what are called dataframes, where we store our data.\n",
    "\n",
    "Sequentially, in class, we ask each of the 10 randomly drawn students a number of questions, and record the answers in the dataframe. "
   ]
  },
  {
   "cell_type": "code",
   "execution_count": 30,
   "metadata": {},
   "outputs": [],
   "source": [
    "# Install Tibble inside RStudio for Example by installing Tidyverse: install.packages(\"tidyverse\")\n",
    "library(tibble)"
   ]
  },
  {
   "cell_type": "code",
   "execution_count": 33,
   "metadata": {},
   "outputs": [
    {
     "data": {
      "text/html": [
       "<ol class=list-inline>\n",
       "\t<li>'MALE'</li>\n",
       "\t<li>'FEMALE'</li>\n",
       "\t<li>'NA'</li>\n",
       "</ol>\n"
      ],
      "text/latex": [
       "\\begin{enumerate*}\n",
       "\\item 'MALE'\n",
       "\\item 'FEMALE'\n",
       "\\item 'NA'\n",
       "\\end{enumerate*}\n"
      ],
      "text/markdown": [
       "1. 'MALE'\n",
       "2. 'FEMALE'\n",
       "3. 'NA'\n",
       "\n",
       "\n"
      ],
      "text/plain": [
       "[1] \"MALE\"   \"FEMALE\" \"NA\"    "
      ]
     },
     "metadata": {},
     "output_type": "display_data"
    },
    {
     "data": {
      "text/html": [
       "<table>\n",
       "<thead><tr><th scope=col>ID</th><th scope=col>ROW</th><th scope=col>COL</th><th scope=col>gender</th><th scope=col>years.in.houston</th><th scope=col>major</th><th scope=col>commute</th><th scope=col>games.attended</th></tr></thead>\n",
       "<tbody>\n",
       "\t<tr><td>1   </td><td>3   </td><td>10  </td><td>MALE</td><td>21  </td><td>ECON</td><td>YES </td><td>0   </td></tr>\n",
       "</tbody>\n",
       "</table>\n"
      ],
      "text/latex": [
       "\\begin{tabular}{r|llllllll}\n",
       " ID & ROW & COL & gender & years.in.houston & major & commute & games.attended\\\\\n",
       "\\hline\n",
       "\t 1    & 3    & 10   & MALE & 21   & ECON & YES  & 0   \\\\\n",
       "\\end{tabular}\n"
      ],
      "text/markdown": [
       "\n",
       "ID | ROW | COL | gender | years.in.houston | major | commute | games.attended | \n",
       "|---|\n",
       "| 1    | 3    | 10   | MALE | 21   | ECON | YES  | 0    | \n",
       "\n",
       "\n"
      ],
      "text/plain": [
       "  ID ROW COL gender years.in.houston major commute games.attended\n",
       "1 1  3   10  MALE   21               ECON  YES     0             "
      ]
     },
     "metadata": {},
     "output_type": "display_data"
    }
   ],
   "source": [
    "# Create an empty Tibble, which is a type of dataframe\n",
    "in_class_survey <- tibble(ID = integer(), ROW = integer(), COL = integer(), \n",
    "                          gender = factor(),\n",
    "                          years.in.houston = double(),\n",
    "                          major = factor(),\n",
    "                          commute = factor(),\n",
    "                          games.attended = integer())\n",
    "\n",
    "# Let's define the Categories for the Categorical/Discrete Variables that We have\n",
    "in_class_survey$gender <- factor(in_class_survey$gender, levels = c('MALE', 'FEMALE', 'NA'))\n",
    "in_class_survey$major <- factor(in_class_survey$major, levels = c('ECON', 'HEALTH', 'PSYCHOLOGY' ,'CONSUMER SCIENCE', 'NA'))\n",
    "in_class_survey$commute <- factor(in_class_survey$commute, levels = c('YES', 'NO', 'NA'))\n",
    "\n",
    "# Ask Students Questions and Record Answers\n",
    "in_class_survey[1,] <- c(1, 3, 10, 'MALE', 21.0, 'ECON', 'YES', 0)\n",
    "in_class_survey[2,] <- c(2, 1, 12, 'FEMALE', 21.0, 'HEALTH', 'YES', 2)"
   ]
  },
  {
   "cell_type": "code",
   "execution_count": null,
   "metadata": {},
   "outputs": [],
   "source": []
  }
 ],
 "metadata": {
  "kernelspec": {
   "display_name": "R",
   "language": "R",
   "name": "ir"
  },
  "language_info": {
   "codemirror_mode": "r",
   "file_extension": ".r",
   "mimetype": "text/x-r-source",
   "name": "R",
   "pygments_lexer": "r",
   "version": "3.5.1"
  }
 },
 "nbformat": 4,
 "nbformat_minor": 2
}
