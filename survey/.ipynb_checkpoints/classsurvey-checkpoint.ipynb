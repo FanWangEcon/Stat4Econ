{
 "cells": [
  {
   "cell_type": "markdown",
   "metadata": {},
   "source": [
    "**[Back to Fan's Intro Stat Table of Content](https://fanwangecon.github.io/Stat4Econ/)**\n",
    "\n",
    "# A Dataset in R\n",
    "R has a Variety of built-in small datsets for you to experiment with, for example, opening up R, you can just type in: mtcars, and that will show you some variables and observations. The command below show sthe first 5 rows of dataset **mtcars**"
   ]
  },
  {
   "cell_type": "code",
   "execution_count": 25,
   "metadata": {},
   "outputs": [
    {
     "data": {
      "text/html": [
       "<table>\n",
       "<thead><tr><th></th><th scope=col>mpg</th><th scope=col>cyl</th><th scope=col>disp</th><th scope=col>hp</th><th scope=col>drat</th><th scope=col>wt</th><th scope=col>qsec</th><th scope=col>vs</th><th scope=col>am</th><th scope=col>gear</th><th scope=col>carb</th></tr></thead>\n",
       "<tbody>\n",
       "\t<tr><th scope=row>Mazda RX4</th><td>21.0 </td><td>6    </td><td>160  </td><td>110  </td><td>3.90 </td><td>2.620</td><td>16.46</td><td>0    </td><td>1    </td><td>4    </td><td>4    </td></tr>\n",
       "\t<tr><th scope=row>Mazda RX4 Wag</th><td>21.0 </td><td>6    </td><td>160  </td><td>110  </td><td>3.90 </td><td>2.875</td><td>17.02</td><td>0    </td><td>1    </td><td>4    </td><td>4    </td></tr>\n",
       "\t<tr><th scope=row>Datsun 710</th><td>22.8 </td><td>4    </td><td>108  </td><td> 93  </td><td>3.85 </td><td>2.320</td><td>18.61</td><td>1    </td><td>1    </td><td>4    </td><td>1    </td></tr>\n",
       "\t<tr><th scope=row>Hornet 4 Drive</th><td>21.4 </td><td>6    </td><td>258  </td><td>110  </td><td>3.08 </td><td>3.215</td><td>19.44</td><td>1    </td><td>0    </td><td>3    </td><td>1    </td></tr>\n",
       "\t<tr><th scope=row>Hornet Sportabout</th><td>18.7 </td><td>8    </td><td>360  </td><td>175  </td><td>3.15 </td><td>3.440</td><td>17.02</td><td>0    </td><td>0    </td><td>3    </td><td>2    </td></tr>\n",
       "</tbody>\n",
       "</table>\n"
      ],
      "text/latex": [
       "\\begin{tabular}{r|lllllllllll}\n",
       "  & mpg & cyl & disp & hp & drat & wt & qsec & vs & am & gear & carb\\\\\n",
       "\\hline\n",
       "\tMazda RX4 & 21.0  & 6     & 160   & 110   & 3.90  & 2.620 & 16.46 & 0     & 1     & 4     & 4    \\\\\n",
       "\tMazda RX4 Wag & 21.0  & 6     & 160   & 110   & 3.90  & 2.875 & 17.02 & 0     & 1     & 4     & 4    \\\\\n",
       "\tDatsun 710 & 22.8  & 4     & 108   &  93   & 3.85  & 2.320 & 18.61 & 1     & 1     & 4     & 1    \\\\\n",
       "\tHornet 4 Drive & 21.4  & 6     & 258   & 110   & 3.08  & 3.215 & 19.44 & 1     & 0     & 3     & 1    \\\\\n",
       "\tHornet Sportabout & 18.7  & 8     & 360   & 175   & 3.15  & 3.440 & 17.02 & 0     & 0     & 3     & 2    \\\\\n",
       "\\end{tabular}\n"
      ],
      "text/markdown": [
       "\n",
       "| <!--/--> | mpg | cyl | disp | hp | drat | wt | qsec | vs | am | gear | carb | \n",
       "|---|---|---|---|---|\n",
       "| Mazda RX4 | 21.0  | 6     | 160   | 110   | 3.90  | 2.620 | 16.46 | 0     | 1     | 4     | 4     | \n",
       "| Mazda RX4 Wag | 21.0  | 6     | 160   | 110   | 3.90  | 2.875 | 17.02 | 0     | 1     | 4     | 4     | \n",
       "| Datsun 710 | 22.8  | 4     | 108   |  93   | 3.85  | 2.320 | 18.61 | 1     | 1     | 4     | 1     | \n",
       "| Hornet 4 Drive | 21.4  | 6     | 258   | 110   | 3.08  | 3.215 | 19.44 | 1     | 0     | 3     | 1     | \n",
       "| Hornet Sportabout | 18.7  | 8     | 360   | 175   | 3.15  | 3.440 | 17.02 | 0     | 0     | 3     | 2     | \n",
       "\n",
       "\n"
      ],
      "text/plain": [
       "                  mpg  cyl disp hp  drat wt    qsec  vs am gear carb\n",
       "Mazda RX4         21.0 6   160  110 3.90 2.620 16.46 0  1  4    4   \n",
       "Mazda RX4 Wag     21.0 6   160  110 3.90 2.875 17.02 0  1  4    4   \n",
       "Datsun 710        22.8 4   108   93 3.85 2.320 18.61 1  1  4    1   \n",
       "Hornet 4 Drive    21.4 6   258  110 3.08 3.215 19.44 1  0  3    1   \n",
       "Hornet Sportabout 18.7 8   360  175 3.15 3.440 17.02 0  0  3    2   "
      ]
     },
     "metadata": {},
     "output_type": "display_data"
    }
   ],
   "source": [
    "head(mtcars, 5)"
   ]
  },
  {
   "cell_type": "markdown",
   "metadata": {},
   "source": [
    "# Population and Sample\n",
    "\n",
    "## A Poluation of 52 and a Sample of 10\n",
    "There are 52 students in a class, I am interested in how many of your go to games at the University, and how many years each of you has lived in the city of Houston. But I do not have time to ask each of you questions. \n",
    "\n",
    "- My population is all 52 students in the class. \n",
    "- Given my limited time and resources, I will gather a sample of just 10 students. \n",
    "\n",
    "Gathering information regarding game attendance for the 10 students, I can perhaps gain some insights about the population. \n",
    "\n",
    "## Random Sample\n",
    "\n",
    "I can just point and pick 10 *random* people, but how do I know I am choosing picking randomly? In general, we want to pick a random sample from the population. You don't want your sample of 10 to just be students in the first row, or students who happen to be giving eye contacts. We want a random sample that hopefully gives us some representative information about the population of 52 students. \n",
    "\n",
    "How do you pick random numbers?\n",
    "\n",
    "Siri, Alexa, Google, ..., you can get random numbers very easily now. You can download various apps also that allows you to draw a random integer from say between 1 to 4, with equal chance of drawing any of the four numbers. \n",
    "\n",
    "In our class:\n",
    "- we have 4 rows of seats\n",
    "- we have 13 columns of seats\n",
    "- there are 52 students in the class together. I will now randomly pick between 1 and 4, 10 times, and randomly pick between 1 and 13 also 10 times. \n",
    "\n",
    "This gives me ten pairs of row and columns numbers, and these indicate which 10 students will be a part of randomly drawn sample of students. "
   ]
  },
  {
   "cell_type": "code",
   "execution_count": 26,
   "metadata": {},
   "outputs": [
    {
     "data": {
      "text/html": [
       "<table>\n",
       "<tbody>\n",
       "\t<tr><th scope=row>ROW.RAND.DRAWS</th><td>3 </td><td>4 </td><td> 4</td><td>4 </td><td>2 </td><td>1 </td><td>2 </td><td>3 </td><td>3 </td><td> 4</td></tr>\n",
       "\t<tr><th scope=row>COL.RAND.DRAWS</th><td>1 </td><td>2 </td><td>10</td><td>1 </td><td>6 </td><td>7 </td><td>6 </td><td>6 </td><td>3 </td><td>13</td></tr>\n",
       "</tbody>\n",
       "</table>\n"
      ],
      "text/latex": [
       "\\begin{tabular}{r|llllllllll}\n",
       "\tROW.RAND.DRAWS & 3  & 4  &  4 & 4  & 2  & 1  & 2  & 3  & 3  &  4\\\\\n",
       "\tCOL.RAND.DRAWS & 1  & 2  & 10 & 1  & 6  & 7  & 6  & 6  & 3  & 13\\\\\n",
       "\\end{tabular}\n"
      ],
      "text/markdown": [
       "\n",
       "| ROW.RAND.DRAWS | 3  | 4  |  4 | 4  | 2  | 1  | 2  | 3  | 3  |  4 | \n",
       "| COL.RAND.DRAWS | 1  | 2  | 10 | 1  | 6  | 7  | 6  | 6  | 3  | 13 | \n",
       "\n",
       "\n"
      ],
      "text/plain": [
       "               [,1] [,2] [,3] [,4] [,5] [,6] [,7] [,8] [,9] [,10]\n",
       "ROW.RAND.DRAWS 3    4     4   4    2    1    2    3    3     4   \n",
       "COL.RAND.DRAWS 1    2    10   1    6    7    6    6    3    13   "
      ]
     },
     "metadata": {},
     "output_type": "display_data"
    }
   ],
   "source": [
    "# Setting seed means we will get the same set of random numbers each time\n",
    "set.seed(12345)\n",
    "# in R, draw integers between 1 and 4, 10 times\n",
    "ROW.RAND.DRAWS = sample(1:4, 10, replace = TRUE)\n",
    "# in R, draw integers between 1 and 13, 10 times\n",
    "COL.RAND.DRAWS = sample(1:13, 10, replace = TRUE)\n",
    "# Note that the way we are drawing randomly, we could draw the same individual twice.\n",
    "rbind(ROW.RAND.DRAWS, COL.RAND.DRAWS)"
   ]
  },
  {
   "cell_type": "markdown",
   "metadata": {},
   "source": [
    "# In Class Survey with N = 10\n",
    "\n",
    "R has *base* packages. Many of R's best packages do not come with the base packages. You have to install separately. One of the best packages for data science is [tidyverse](https://www.tidyverse.org/). **tidyverse** has a great package called [tibble](https://tibble.tidyverse.org/) which is a great way to deal with what are called dataframes, where we store our data.\n",
    "\n",
    "Sequentially, in class, we ask each of the 10 randomly drawn students a number of questions, and record the answers in the dataframe. "
   ]
  },
  {
   "cell_type": "code",
   "execution_count": 27,
   "metadata": {},
   "outputs": [],
   "source": [
    "# Install Tibble and dplyr inside RStudio for Example by installing Tidyverse: install.packages(\"tidyverse\")\n",
    "# tibble is a table tool from tidyverse\n",
    "library(tibble)\n",
    "# dplyr is a powerful data manipulation tool from tidyverse\n",
    "library(dplyr)"
   ]
  },
  {
   "cell_type": "code",
   "execution_count": 28,
   "metadata": {},
   "outputs": [
    {
     "name": "stdout",
     "output_type": "stream",
     "text": [
      "Classes 'tbl_df', 'tbl' and 'data.frame':\t10 obs. of  8 variables:\n",
      " $ ID              : num  1 2 3 4 5 6 7 8 9 10\n",
      " $ ROW             : num  3 4 4 4 2 1 2 3 3 4\n",
      " $ COL             : num  1 2 10 1 6 7 6 6 3 13\n",
      " $ gender          : Factor w/ 2 levels \"MALE\",\"FEMALE\": 1 2 1 1 2 1 1 1 2 2\n",
      " $ years.in.houston: num  21 21 22 22 20 3 25 20 5 20\n",
      " $ major           : Factor w/ 5 levels \"ECON\",\"HEALTH\",..: 1 2 1 1 1 3 1 4 5 1\n",
      " $ commute         : Factor w/ 1 level \"YES\": 1 1 1 1 1 1 1 1 1 1\n",
      " $ games.attended  : num  0 2 0 14 0 0 25 2 0 0\n"
     ]
    },
    {
     "data": {
      "text/html": [
       "<table>\n",
       "<thead><tr><th scope=col>ID</th><th scope=col>ROW</th><th scope=col>COL</th><th scope=col>gender</th><th scope=col>years.in.houston</th><th scope=col>major</th><th scope=col>commute</th><th scope=col>games.attended</th></tr></thead>\n",
       "<tbody>\n",
       "\t<tr><td> 1             </td><td>3              </td><td> 1             </td><td>MALE           </td><td>21             </td><td>ECON           </td><td>YES            </td><td> 0             </td></tr>\n",
       "\t<tr><td> 2             </td><td>4              </td><td> 2             </td><td>FEMALE         </td><td>21             </td><td>HEALTH         </td><td>YES            </td><td> 2             </td></tr>\n",
       "\t<tr><td> 3             </td><td>4              </td><td>10             </td><td>MALE           </td><td>22             </td><td>ECON           </td><td>YES            </td><td> 0             </td></tr>\n",
       "\t<tr><td> 4             </td><td>4              </td><td> 1             </td><td>MALE           </td><td>22             </td><td>ECON           </td><td>YES            </td><td>14             </td></tr>\n",
       "\t<tr><td> 5             </td><td>2              </td><td> 6             </td><td>FEMALE         </td><td>20             </td><td>ECON           </td><td>YES            </td><td> 0             </td></tr>\n",
       "\t<tr><td> 6             </td><td>1              </td><td> 7             </td><td>MALE           </td><td> 3             </td><td>PSYCH          </td><td>YES            </td><td> 0             </td></tr>\n",
       "\t<tr><td> 7             </td><td>2              </td><td> 6             </td><td>MALE           </td><td>25             </td><td>ECON           </td><td>YES            </td><td>25             </td></tr>\n",
       "\t<tr><td> 8             </td><td>3              </td><td> 6             </td><td>MALE           </td><td>20             </td><td>CONSUMERSCIENCE</td><td>YES            </td><td> 2             </td></tr>\n",
       "\t<tr><td> 9             </td><td>3              </td><td> 3             </td><td>FEMALE         </td><td> 5             </td><td>HUMANRESOURCE  </td><td>YES            </td><td> 0             </td></tr>\n",
       "\t<tr><td>10             </td><td>4              </td><td>13             </td><td>FEMALE         </td><td>20             </td><td>ECON           </td><td>YES            </td><td> 0             </td></tr>\n",
       "</tbody>\n",
       "</table>\n"
      ],
      "text/latex": [
       "\\begin{tabular}{r|llllllll}\n",
       " ID & ROW & COL & gender & years.in.houston & major & commute & games.attended\\\\\n",
       "\\hline\n",
       "\t  1              & 3               &  1              & MALE            & 21              & ECON            & YES             &  0             \\\\\n",
       "\t  2              & 4               &  2              & FEMALE          & 21              & HEALTH          & YES             &  2             \\\\\n",
       "\t  3              & 4               & 10              & MALE            & 22              & ECON            & YES             &  0             \\\\\n",
       "\t  4              & 4               &  1              & MALE            & 22              & ECON            & YES             & 14             \\\\\n",
       "\t  5              & 2               &  6              & FEMALE          & 20              & ECON            & YES             &  0             \\\\\n",
       "\t  6              & 1               &  7              & MALE            &  3              & PSYCH           & YES             &  0             \\\\\n",
       "\t  7              & 2               &  6              & MALE            & 25              & ECON            & YES             & 25             \\\\\n",
       "\t  8              & 3               &  6              & MALE            & 20              & CONSUMERSCIENCE & YES             &  2             \\\\\n",
       "\t  9              & 3               &  3              & FEMALE          &  5              & HUMANRESOURCE   & YES             &  0             \\\\\n",
       "\t 10              & 4               & 13              & FEMALE          & 20              & ECON            & YES             &  0             \\\\\n",
       "\\end{tabular}\n"
      ],
      "text/markdown": [
       "\n",
       "ID | ROW | COL | gender | years.in.houston | major | commute | games.attended | \n",
       "|---|---|---|---|---|---|---|---|---|---|\n",
       "|  1              | 3               |  1              | MALE            | 21              | ECON            | YES             |  0              | \n",
       "|  2              | 4               |  2              | FEMALE          | 21              | HEALTH          | YES             |  2              | \n",
       "|  3              | 4               | 10              | MALE            | 22              | ECON            | YES             |  0              | \n",
       "|  4              | 4               |  1              | MALE            | 22              | ECON            | YES             | 14              | \n",
       "|  5              | 2               |  6              | FEMALE          | 20              | ECON            | YES             |  0              | \n",
       "|  6              | 1               |  7              | MALE            |  3              | PSYCH           | YES             |  0              | \n",
       "|  7              | 2               |  6              | MALE            | 25              | ECON            | YES             | 25              | \n",
       "|  8              | 3               |  6              | MALE            | 20              | CONSUMERSCIENCE | YES             |  2              | \n",
       "|  9              | 3               |  3              | FEMALE          |  5              | HUMANRESOURCE   | YES             |  0              | \n",
       "| 10              | 4               | 13              | FEMALE          | 20              | ECON            | YES             |  0              | \n",
       "\n",
       "\n"
      ],
      "text/plain": [
       "   ID ROW COL gender years.in.houston major           commute games.attended\n",
       "1   1 3    1  MALE   21               ECON            YES      0            \n",
       "2   2 4    2  FEMALE 21               HEALTH          YES      2            \n",
       "3   3 4   10  MALE   22               ECON            YES      0            \n",
       "4   4 4    1  MALE   22               ECON            YES     14            \n",
       "5   5 2    6  FEMALE 20               ECON            YES      0            \n",
       "6   6 1    7  MALE    3               PSYCH           YES      0            \n",
       "7   7 2    6  MALE   25               ECON            YES     25            \n",
       "8   8 3    6  MALE   20               CONSUMERSCIENCE YES      2            \n",
       "9   9 3    3  FEMALE  5               HUMANRESOURCE   YES      0            \n",
       "10 10 4   13  FEMALE 20               ECON            YES      0            "
      ]
     },
     "metadata": {},
     "output_type": "display_data"
    }
   ],
   "source": [
    "df <- tibble(ID = integer(), ROW = integer(), COL = integer(), \n",
    "             gender = factor(),\n",
    "             years.in.houston = double(),\n",
    "             major = factor(),\n",
    "             commute = factor(),\n",
    "             games.attended = integer())\n",
    "\n",
    "\n",
    "# Ask Students Questions and Record Answers\n",
    "df <- add_row(df, ID=1 , ROW=3, COL=1,  gender='MALE',   years.in.houston=21.0, major='ECON',   commute='YES', games.attended=0)\n",
    "df <- add_row(df, ID=2 , ROW=4, COL=2,  gender='FEMALE', years.in.houston=21.0, major='HEALTH', commute='YES', games.attended=2)\n",
    "df <- add_row(df, ID=3 , ROW=4, COL=10, gender='MALE',   years.in.houston=22.0, major='ECON',   commute='YES', games.attended=0)\n",
    "df <- add_row(df, ID=4 , ROW=4, COL=1,  gender='MALE',   years.in.houston=22.0, major='ECON',   commute='YES', games.attended=14)\n",
    "df <- add_row(df, ID=5 , ROW=2, COL=6,  gender='FEMALE', years.in.houston=20.0, major='ECON',   commute='YES', games.attended=0)\n",
    "df <- add_row(df, ID=6 , ROW=1, COL=7,  gender='MALE',   years.in.houston=3.0,  major='PSYCH',  commute='YES', games.attended=0)\n",
    "df <- add_row(df, ID=7 , ROW=2, COL=6,  gender='MALE',   years.in.houston=25.0, major='ECON',   commute='YES', games.attended=25)\n",
    "df <- add_row(df, ID=8 , ROW=3, COL=6,  gender='MALE',   years.in.houston=20.0, major='CONSUMERSCIENCE', commute= 'YES', games.attended=2)\n",
    "df <- add_row(df, ID=9 , ROW=3, COL=3,  gender='FEMALE', years.in.houston=5.0,  major='HUMANRESOURCE', commute='YES', games.attended=0)\n",
    "df <- add_row(df, ID=10, ROW=4, COL=13, gender='FEMALE', years.in.houston=20.0, major='ECON', commute='YES', games.attended=0)\n",
    "\n",
    "# List All Variables in df\n",
    "str(df)\n",
    "# Show full df Table\n",
    "df"
   ]
  },
  {
   "cell_type": "markdown",
   "metadata": {},
   "source": [
    "# Analyzing the N=10 Dataset\n",
    "\n",
    "## Generating Additional Variables\n",
    "\n",
    "Based on the variables we gathered, we can generate some additional variables. Specifically, we will generate dummy variables for games.attended, and major. \n",
    "\n",
    "\n",
    "Let's Generate Basic Sample Statistics. Summary will "
   ]
  },
  {
   "cell_type": "code",
   "execution_count": 29,
   "metadata": {},
   "outputs": [
    {
     "data": {
      "text/html": [
       "<table>\n",
       "<thead><tr><th scope=col>ID</th><th scope=col>ROW</th><th scope=col>COL</th><th scope=col>gender</th><th scope=col>years.in.houston</th><th scope=col>major</th><th scope=col>commute</th><th scope=col>games.attended</th><th scope=col>games.any</th><th scope=col>econ</th></tr></thead>\n",
       "<tbody>\n",
       "\t<tr><td> 1             </td><td>3              </td><td> 1             </td><td>MALE           </td><td>21             </td><td>ECON           </td><td>YES            </td><td> 0             </td><td>Never.Attended </td><td>ECON           </td></tr>\n",
       "\t<tr><td> 2             </td><td>4              </td><td> 2             </td><td>FEMALE         </td><td>21             </td><td>HEALTH         </td><td>YES            </td><td> 2             </td><td>Has.Attended   </td><td>Not.Econ       </td></tr>\n",
       "\t<tr><td> 3             </td><td>4              </td><td>10             </td><td>MALE           </td><td>22             </td><td>ECON           </td><td>YES            </td><td> 0             </td><td>Never.Attended </td><td>ECON           </td></tr>\n",
       "\t<tr><td> 4             </td><td>4              </td><td> 1             </td><td>MALE           </td><td>22             </td><td>ECON           </td><td>YES            </td><td>14             </td><td>Has.Attended   </td><td>ECON           </td></tr>\n",
       "\t<tr><td> 5             </td><td>2              </td><td> 6             </td><td>FEMALE         </td><td>20             </td><td>ECON           </td><td>YES            </td><td> 0             </td><td>Never.Attended </td><td>ECON           </td></tr>\n",
       "\t<tr><td> 6             </td><td>1              </td><td> 7             </td><td>MALE           </td><td> 3             </td><td>PSYCH          </td><td>YES            </td><td> 0             </td><td>Never.Attended </td><td>Not.Econ       </td></tr>\n",
       "\t<tr><td> 7             </td><td>2              </td><td> 6             </td><td>MALE           </td><td>25             </td><td>ECON           </td><td>YES            </td><td>25             </td><td>Has.Attended   </td><td>ECON           </td></tr>\n",
       "\t<tr><td> 8             </td><td>3              </td><td> 6             </td><td>MALE           </td><td>20             </td><td>CONSUMERSCIENCE</td><td>YES            </td><td> 2             </td><td>Has.Attended   </td><td>Not.Econ       </td></tr>\n",
       "\t<tr><td> 9             </td><td>3              </td><td> 3             </td><td>FEMALE         </td><td> 5             </td><td>HUMANRESOURCE  </td><td>YES            </td><td> 0             </td><td>Never.Attended </td><td>Not.Econ       </td></tr>\n",
       "\t<tr><td>10             </td><td>4              </td><td>13             </td><td>FEMALE         </td><td>20             </td><td>ECON           </td><td>YES            </td><td> 0             </td><td>Never.Attended </td><td>ECON           </td></tr>\n",
       "</tbody>\n",
       "</table>\n"
      ],
      "text/latex": [
       "\\begin{tabular}{r|llllllllll}\n",
       " ID & ROW & COL & gender & years.in.houston & major & commute & games.attended & games.any & econ\\\\\n",
       "\\hline\n",
       "\t  1              & 3               &  1              & MALE            & 21              & ECON            & YES             &  0              & Never.Attended  & ECON           \\\\\n",
       "\t  2              & 4               &  2              & FEMALE          & 21              & HEALTH          & YES             &  2              & Has.Attended    & Not.Econ       \\\\\n",
       "\t  3              & 4               & 10              & MALE            & 22              & ECON            & YES             &  0              & Never.Attended  & ECON           \\\\\n",
       "\t  4              & 4               &  1              & MALE            & 22              & ECON            & YES             & 14              & Has.Attended    & ECON           \\\\\n",
       "\t  5              & 2               &  6              & FEMALE          & 20              & ECON            & YES             &  0              & Never.Attended  & ECON           \\\\\n",
       "\t  6              & 1               &  7              & MALE            &  3              & PSYCH           & YES             &  0              & Never.Attended  & Not.Econ       \\\\\n",
       "\t  7              & 2               &  6              & MALE            & 25              & ECON            & YES             & 25              & Has.Attended    & ECON           \\\\\n",
       "\t  8              & 3               &  6              & MALE            & 20              & CONSUMERSCIENCE & YES             &  2              & Has.Attended    & Not.Econ       \\\\\n",
       "\t  9              & 3               &  3              & FEMALE          &  5              & HUMANRESOURCE   & YES             &  0              & Never.Attended  & Not.Econ       \\\\\n",
       "\t 10              & 4               & 13              & FEMALE          & 20              & ECON            & YES             &  0              & Never.Attended  & ECON           \\\\\n",
       "\\end{tabular}\n"
      ],
      "text/markdown": [
       "\n",
       "ID | ROW | COL | gender | years.in.houston | major | commute | games.attended | games.any | econ | \n",
       "|---|---|---|---|---|---|---|---|---|---|\n",
       "|  1              | 3               |  1              | MALE            | 21              | ECON            | YES             |  0              | Never.Attended  | ECON            | \n",
       "|  2              | 4               |  2              | FEMALE          | 21              | HEALTH          | YES             |  2              | Has.Attended    | Not.Econ        | \n",
       "|  3              | 4               | 10              | MALE            | 22              | ECON            | YES             |  0              | Never.Attended  | ECON            | \n",
       "|  4              | 4               |  1              | MALE            | 22              | ECON            | YES             | 14              | Has.Attended    | ECON            | \n",
       "|  5              | 2               |  6              | FEMALE          | 20              | ECON            | YES             |  0              | Never.Attended  | ECON            | \n",
       "|  6              | 1               |  7              | MALE            |  3              | PSYCH           | YES             |  0              | Never.Attended  | Not.Econ        | \n",
       "|  7              | 2               |  6              | MALE            | 25              | ECON            | YES             | 25              | Has.Attended    | ECON            | \n",
       "|  8              | 3               |  6              | MALE            | 20              | CONSUMERSCIENCE | YES             |  2              | Has.Attended    | Not.Econ        | \n",
       "|  9              | 3               |  3              | FEMALE          |  5              | HUMANRESOURCE   | YES             |  0              | Never.Attended  | Not.Econ        | \n",
       "| 10              | 4               | 13              | FEMALE          | 20              | ECON            | YES             |  0              | Never.Attended  | ECON            | \n",
       "\n",
       "\n"
      ],
      "text/plain": [
       "   ID ROW COL gender years.in.houston major           commute games.attended\n",
       "1   1 3    1  MALE   21               ECON            YES      0            \n",
       "2   2 4    2  FEMALE 21               HEALTH          YES      2            \n",
       "3   3 4   10  MALE   22               ECON            YES      0            \n",
       "4   4 4    1  MALE   22               ECON            YES     14            \n",
       "5   5 2    6  FEMALE 20               ECON            YES      0            \n",
       "6   6 1    7  MALE    3               PSYCH           YES      0            \n",
       "7   7 2    6  MALE   25               ECON            YES     25            \n",
       "8   8 3    6  MALE   20               CONSUMERSCIENCE YES      2            \n",
       "9   9 3    3  FEMALE  5               HUMANRESOURCE   YES      0            \n",
       "10 10 4   13  FEMALE 20               ECON            YES      0            \n",
       "   games.any      econ    \n",
       "1  Never.Attended ECON    \n",
       "2  Has.Attended   Not.Econ\n",
       "3  Never.Attended ECON    \n",
       "4  Has.Attended   ECON    \n",
       "5  Never.Attended ECON    \n",
       "6  Never.Attended Not.Econ\n",
       "7  Has.Attended   ECON    \n",
       "8  Has.Attended   Not.Econ\n",
       "9  Never.Attended Not.Econ\n",
       "10 Never.Attended ECON    "
      ]
     },
     "metadata": {},
     "output_type": "display_data"
    }
   ],
   "source": [
    "# Generate Binary Variable of Having attended any games or not\n",
    "df$games.any <- ifelse(df$games.attended>0, 1, 0)\n",
    "df$games.any <- factor(df$games.any, levels = c(1,0), labels = c('Has.Attended', 'Never.Attended')) \n",
    "\n",
    "# Generate Binary Variable Econ or Not, 1 if major is ECON, 0 otherwise\n",
    "df$econ <- ifelse(df$major=='ECON', 1, 0)\n",
    "df$econ <- factor(df$econ, levels = c(1, 0), labels = c('ECON', 'Not.Econ')) \n",
    "\n",
    "# new data set with the two additional variables\n",
    "df"
   ]
  },
  {
   "cell_type": "markdown",
   "metadata": {},
   "source": [
    "## Analyze the Games Attended Variable\n",
    "\n",
    "We have a continuous/quantitative variable for games.attended, based on which we generated a binary/dummy variable of games.any to indicate if someone has attended any games or not. \n",
    "\n",
    "- What fraction of students in the sample have attended games?\n",
    "    + $60$ percent of students never attended any games\n",
    "- What is the average number of games students attended?\n",
    "    + But on average students attended $4.3$ games (because one student attended 25 games, and another student in the sample attended 10 games)\n",
    "    \n",
    "Suppose you are running the sports program, and each attendee of games pays the same ticket price, if you only care about total revenue, you only care about the average of $4.3$ games attended per student. It does not matter if 1 student attended 10 games, or 10 students attended 1 game each, you get the same total revenue, and the same game per student attended.\n",
    "\n",
    "But if you are trying to generate school spirit from the football program, you might care more about the $60$ percent number, which you might think is too high. Too many students never going to any games. \n",
    "\n",
    "If someone is writing an article about the popularity of football at the University, they can use the $4.3$ number to say that it is really popular, or the $60$ non-attendance ratio to say it is not that popular. So you see when we read news reports that have data, or when others provide us with statistics, we have to be careful and think if what they report are showing the full picture. The same simple attendance variable, calculated in two ways, shows two pictures of how popular football is."
   ]
  },
  {
   "cell_type": "code",
   "execution_count": 30,
   "metadata": {},
   "outputs": [
    {
     "data": {
      "text/html": [
       "<table>\n",
       "<thead><tr><th scope=col>games.any</th><th scope=col>freq</th><th scope=col>fraction</th></tr></thead>\n",
       "<tbody>\n",
       "\t<tr><td>Has.Attended  </td><td>4             </td><td>0.4           </td></tr>\n",
       "\t<tr><td>Never.Attended</td><td>6             </td><td>0.6           </td></tr>\n",
       "</tbody>\n",
       "</table>\n"
      ],
      "text/latex": [
       "\\begin{tabular}{r|lll}\n",
       " games.any & freq & fraction\\\\\n",
       "\\hline\n",
       "\t Has.Attended   & 4              & 0.4           \\\\\n",
       "\t Never.Attended & 6              & 0.6           \\\\\n",
       "\\end{tabular}\n"
      ],
      "text/markdown": [
       "\n",
       "games.any | freq | fraction | \n",
       "|---|---|\n",
       "| Has.Attended   | 4              | 0.4            | \n",
       "| Never.Attended | 6              | 0.6            | \n",
       "\n",
       "\n"
      ],
      "text/plain": [
       "  games.any      freq fraction\n",
       "1 Has.Attended   4    0.4     \n",
       "2 Never.Attended 6    0.6     "
      ]
     },
     "metadata": {},
     "output_type": "display_data"
    }
   ],
   "source": [
    "# Using the dplyr package, we can find the fraction of individuals in factor variables\n",
    "# Fraction of individuals who attended any games\n",
    "df %>%\n",
    "  group_by(games.any) %>%\n",
    "  summarise (freq = n()) %>%\n",
    "  mutate(fraction = freq / sum(freq))"
   ]
  },
  {
   "cell_type": "code",
   "execution_count": 31,
   "metadata": {},
   "outputs": [
    {
     "data": {
      "text/html": [
       "<table>\n",
       "<thead><tr><th scope=col>games.attended.avg</th></tr></thead>\n",
       "<tbody>\n",
       "\t<tr><td>4.3</td></tr>\n",
       "</tbody>\n",
       "</table>\n"
      ],
      "text/latex": [
       "\\begin{tabular}{r|l}\n",
       " games.attended.avg\\\\\n",
       "\\hline\n",
       "\t 4.3\\\\\n",
       "\\end{tabular}\n"
      ],
      "text/markdown": [
       "\n",
       "games.attended.avg | \n",
       "|---|\n",
       "| 4.3 | \n",
       "\n",
       "\n"
      ],
      "text/plain": [
       "  games.attended.avg\n",
       "1 4.3               "
      ]
     },
     "metadata": {},
     "output_type": "display_data"
    },
    {
     "data": {
      "text/html": [
       "<table>\n",
       "<thead><tr><th scope=col>games.any</th><th scope=col>games.attended.avg</th></tr></thead>\n",
       "<tbody>\n",
       "\t<tr><td>Has.Attended  </td><td>10.75         </td></tr>\n",
       "\t<tr><td>Never.Attended</td><td> 0.00         </td></tr>\n",
       "</tbody>\n",
       "</table>\n"
      ],
      "text/latex": [
       "\\begin{tabular}{r|ll}\n",
       " games.any & games.attended.avg\\\\\n",
       "\\hline\n",
       "\t Has.Attended   & 10.75         \\\\\n",
       "\t Never.Attended &  0.00         \\\\\n",
       "\\end{tabular}\n"
      ],
      "text/markdown": [
       "\n",
       "games.any | games.attended.avg | \n",
       "|---|---|\n",
       "| Has.Attended   | 10.75          | \n",
       "| Never.Attended |  0.00          | \n",
       "\n",
       "\n"
      ],
      "text/plain": [
       "  games.any      games.attended.avg\n",
       "1 Has.Attended   10.75             \n",
       "2 Never.Attended  0.00             "
      ]
     },
     "metadata": {},
     "output_type": "display_data"
    }
   ],
   "source": [
    "# Average Game Attendance Overall, and for each sub-group, conditional on attending any or no attendance\n",
    "# This creates a column that has overall average for games.attended, showing in every row:\n",
    "df %>% summarise(games.attended.avg =mean(games.attended))\n",
    "# This creates a column that has overall average for games.attended, showing in every row:\n",
    "df %>% group_by(games.any) %>% summarise(games.attended.avg = mean(games.attended))"
   ]
  },
  {
   "cell_type": "code",
   "execution_count": 32,
   "metadata": {},
   "outputs": [
    {
     "data": {
      "text/html": [
       "<table>\n",
       "<thead><tr><th scope=col>games.any</th><th scope=col>Avg_group</th><th scope=col>Total_Mean</th></tr></thead>\n",
       "<tbody>\n",
       "\t<tr><td>Has.Attended  </td><td>10.75         </td><td>4.3           </td></tr>\n",
       "\t<tr><td>Never.Attended</td><td> 0.00         </td><td>4.3           </td></tr>\n",
       "</tbody>\n",
       "</table>\n"
      ],
      "text/latex": [
       "\\begin{tabular}{r|lll}\n",
       " games.any & Avg\\_group & Total\\_Mean\\\\\n",
       "\\hline\n",
       "\t Has.Attended   & 10.75          & 4.3           \\\\\n",
       "\t Never.Attended &  0.00          & 4.3           \\\\\n",
       "\\end{tabular}\n"
      ],
      "text/markdown": [
       "\n",
       "games.any | Avg_group | Total_Mean | \n",
       "|---|---|\n",
       "| Has.Attended   | 10.75          | 4.3            | \n",
       "| Never.Attended |  0.00          | 4.3            | \n",
       "\n",
       "\n"
      ],
      "text/plain": [
       "  games.any      Avg_group Total_Mean\n",
       "1 Has.Attended   10.75     4.3       \n",
       "2 Never.Attended  0.00     4.3       "
      ]
     },
     "metadata": {},
     "output_type": "display_data"
    }
   ],
   "source": [
    "# To show both overall average and the group specific average together\n",
    "#   the first mutate adds to df a column that has the overall average, same value every row\n",
    "#   then when we group by, we can calculate within group average for games.attended\n",
    "#   we can also take the average of the avg var, which is the same for all rows, so grouped averages are the same\n",
    "df %>% \n",
    "   mutate(avg=mean(games.attended)) %>% \n",
    "   group_by(games.any) %>% \n",
    "   summarise(Avg_group=mean(games.attended),Total_Mean=mean(avg))"
   ]
  },
  {
   "cell_type": "markdown",
   "metadata": {},
   "source": [
    "# Different Samples\n",
    "If we drew a different set of 10 people from the class, we would likely get different statistics than what we have in the current random sample. We want to make inference based on the sample about the population knowing that each set of random draws could give different sample statistics. Sample statistics is not the population statistics. If our samples are smaller than 10, our sample statistics are likely to be even further away from population statistics."
   ]
  }
 ],
 "metadata": {
  "kernelspec": {
   "display_name": "R",
   "language": "R",
   "name": "ir"
  },
  "language_info": {
   "codemirror_mode": "r",
   "file_extension": ".r",
   "mimetype": "text/x-r-source",
   "name": "R",
   "pygments_lexer": "r",
   "version": "3.5.1"
  }
 },
 "nbformat": 4,
 "nbformat_minor": 2
}
